{
  "cells": [
    {
      "cell_type": "markdown",
      "metadata": {
        "id": "vv41Pgqu5i_t"
      },
      "source": [
        "#### Install PySpark, load required libraries and create spark session\n",
        "---\n",
        "\n"
      ]
    },
    {
      "cell_type": "code",
      "execution_count": 2,
      "metadata": {
        "colab": {
          "base_uri": "https://localhost:8080/"
        },
        "id": "s1Zb-PIx3UQU",
        "outputId": "4bfc7384-529b-47c1-fe25-6df8829690a8"
      },
      "outputs": [
        {
          "output_type": "stream",
          "name": "stdout",
          "text": [
            "Requirement already satisfied: pyspark in /usr/local/lib/python3.7/dist-packages (3.2.0)\n",
            "Requirement already satisfied: py4j==0.10.9.2 in /usr/local/lib/python3.7/dist-packages (from pyspark) (0.10.9.2)\n",
            "openjdk-8-jdk-headless is already the newest version (8u292-b10-0ubuntu1~18.04).\n",
            "0 upgraded, 0 newly installed, 0 to remove and 37 not upgraded.\n"
          ]
        }
      ],
      "source": [
        "!pip install pyspark\n",
        "!pip install -U -q PyDrive\n",
        "!apt install openjdk-8-jdk-headless -qq\n",
        "import os\n",
        "os.environ[\"JAVA_HOME\"] = \"/usr/lib/jvm/java-8-openjdk-amd64\""
      ]
    },
    {
      "cell_type": "code",
      "execution_count": 3,
      "metadata": {
        "id": "zSKwks_74ACK"
      },
      "outputs": [],
      "source": [
        "import pandas as pd\n",
        "import numpy as np\n",
        "import seaborn as sns\n",
        "import matplotlib.pyplot as plt\n",
        "%matplotlib inline\n",
        "\n",
        "import pyspark\n",
        "from pyspark.sql import *\n",
        "from pyspark.sql.types import *\n",
        "from pyspark.sql import functions as F\n",
        "from pyspark import SparkContext, SparkConf"
      ]
    },
    {
      "cell_type": "code",
      "execution_count": 4,
      "metadata": {
        "id": "Ecx69lLo4Fok"
      },
      "outputs": [],
      "source": [
        "# create the session\n",
        "conf = SparkConf().set(\"spark.ui.port\", \"4050\")\n",
        "\n",
        "# create the context\n",
        "sc = pyspark.SparkContext(conf=conf)\n",
        "spark = SparkSession.builder.getOrCreate()"
      ]
    },
    {
      "cell_type": "code",
      "execution_count": 5,
      "metadata": {
        "colab": {
          "base_uri": "https://localhost:8080/",
          "height": 219
        },
        "id": "e_KlcCmL4o-t",
        "outputId": "a02479aa-ed08-4719-c775-609eb276d6ab"
      },
      "outputs": [
        {
          "output_type": "execute_result",
          "data": {
            "text/html": [
              "\n",
              "            <div>\n",
              "                <p><b>SparkSession - in-memory</b></p>\n",
              "                \n",
              "        <div>\n",
              "            <p><b>SparkContext</b></p>\n",
              "\n",
              "            <p><a href=\"http://d6cc88d60b5c:4050\">Spark UI</a></p>\n",
              "\n",
              "            <dl>\n",
              "              <dt>Version</dt>\n",
              "                <dd><code>v3.2.0</code></dd>\n",
              "              <dt>Master</dt>\n",
              "                <dd><code>local[*]</code></dd>\n",
              "              <dt>AppName</dt>\n",
              "                <dd><code>pyspark-shell</code></dd>\n",
              "            </dl>\n",
              "        </div>\n",
              "        \n",
              "            </div>\n",
              "        "
            ],
            "text/plain": [
              "<pyspark.sql.session.SparkSession at 0x7fee66fb5c10>"
            ]
          },
          "metadata": {},
          "execution_count": 5
        }
      ],
      "source": [
        "spark"
      ]
    },
    {
      "cell_type": "code",
      "execution_count": 6,
      "metadata": {
        "colab": {
          "base_uri": "https://localhost:8080/"
        },
        "id": "DmN97Nq9PAeS",
        "outputId": "322d4c05-bc1e-4a91-e7be-020d32db50bd"
      },
      "outputs": [
        {
          "output_type": "stream",
          "name": "stdout",
          "text": [
            "Drive already mounted at /content/drive; to attempt to forcibly remount, call drive.mount(\"/content/drive\", force_remount=True).\n"
          ]
        }
      ],
      "source": [
        "# Mount Google Drive to access datasets\n",
        "\n",
        "from google.colab import drive\n",
        "drive.mount('/content/drive')"
      ]
    },
    {
      "cell_type": "markdown",
      "metadata": {
        "id": "EKHVe26qwnTU"
      },
      "source": [
        "# **Introduction to Spark**\n",
        "\n",
        "---\n",
        "\n"
      ]
    },
    {
      "cell_type": "markdown",
      "metadata": {
        "id": "wYqJJhG7w71I"
      },
      "source": [
        "## What is Spark and why it is important\n",
        "\n",
        "Spark is a platform for cluster computing (please do not confuse it with cloud computing).\n",
        "\n",
        "Spark lets us distribute data and computations over clusters with multiple nodes (think of each node as a separate computer). \n",
        "\n",
        "Because of data and computations being split over multiple nodes, we can work with very large datasets as each node only works with a small amount of data.\n",
        "\n",
        "As each node works on its own subset of the total data, so both data processing and computation are performed in parallel in the cluster.\n",
        "\n",
        "Although this provides us with great computing power, it also increases the complexity.\n",
        "\n",
        "To decide if we really need PySpark we need to think of the below points:\n",
        "* Can my data fit in a single machine?\n",
        "* Can my calculations be easily parallelized?"
      ]
    },
    {
      "cell_type": "markdown",
      "metadata": {
        "id": "ND7yBcHK91_W"
      },
      "source": [
        "## Connection to Spark\n",
        "The first step in using Spark is connecting to a cluster.\n",
        "\n",
        "Most often, the cluster will be hosted on a remote machine (Cloud).\n",
        "\n",
        "There will be one computer, called the master that manages splitting up the data and the computations. The master is connected to the rest of the computers in the cluster, which are called worker.\n",
        "\n",
        "The first thing a Spark program must do is to create a `SparkContext` object, which tells Spark how to access a cluster. To create a `SparkContext` you first need to build a `SparkConf` object that contains information about your application.\n",
        "\n",
        "Here's the [documentation](http://spark.apache.org/docs/2.1.0/api/python/pyspark.html) for all further details!\n",
        "\n",
        "We have already created a SparkContext called sc earlier.\n"
      ]
    },
    {
      "cell_type": "code",
      "execution_count": null,
      "metadata": {
        "colab": {
          "base_uri": "https://localhost:8080/"
        },
        "id": "H67sG2syL6IX",
        "outputId": "ab6537b8-d2fb-4004-a599-619b49b13a99"
      },
      "outputs": [
        {
          "name": "stdout",
          "output_type": "stream",
          "text": [
            "<SparkContext master=local[*] appName=pyspark-shell>\n",
            "3.2.0\n"
          ]
        }
      ],
      "source": [
        "# Verify SparkContext\n",
        "print(sc)\n",
        "\n",
        "# Print Spark version\n",
        "print(sc.version)\n"
      ]
    },
    {
      "cell_type": "markdown",
      "metadata": {
        "id": "TWuuoNI9GsSC"
      },
      "source": [
        "## Spark DataFrames\n",
        "\n",
        "Spark's core data structure is the Resilient Distributed Dataset (RDD) [Have you heard of something called parallelize in spark?]. This is a collection of elements partitioned across the nodes of the cluster that can be operated on in parallel. However, RDDs are hard to work with directly, so we use mostly use a Spark DataFrame abstraction built on top of RDDs.\n",
        "\n",
        "The Spark DataFrame behaves a lot like Python DataFrame with variables in the columns and observations in the rows.\n",
        "\n",
        "To start working with Spark DataFrames, we first have to create a `SparkSession` object from the `SparkContext`. Think of the `SparkContext` as our connection to the cluster and the `SparkSession` as our interface with that connection.\n",
        "\n",
        "We have already created a `SparkSession` called `spark` earlier."
      ]
    },
    {
      "cell_type": "code",
      "execution_count": null,
      "metadata": {
        "colab": {
          "base_uri": "https://localhost:8080/"
        },
        "id": "eIhU3pr9udjL",
        "outputId": "38207de2-7e91-4108-9ece-0f72bc07400a"
      },
      "outputs": [
        {
          "name": "stdout",
          "output_type": "stream",
          "text": [
            "<pyspark.sql.session.SparkSession object at 0x7fd6bfffe490>\n"
          ]
        }
      ],
      "source": [
        "print(spark)"
      ]
    },
    {
      "cell_type": "markdown",
      "metadata": {
        "id": "OXYVDSUTPANa"
      },
      "source": [
        "## Lazy Evaluation\n",
        "Spark works on the concept of lazy evaluation. What it means is that is does no real work unless encountered with an action.\n",
        "\n",
        "Manipulations in the data like adding a new column, deleting a column etc are all transformations whereas statements such as `count`, `show` which forces spark to create the latest outputs are actions.\n",
        "\n",
        "You may have hundreds of lines of codes with lots of transformations but spark will do no actual calculation unless it encounters an action."
      ]
    },
    {
      "cell_type": "markdown",
      "metadata": {
        "id": "8reeTYU_U8Yt"
      },
      "source": [
        "## A small note on PySpark vs Spark\n",
        "\n",
        "***Spark*** is a data computational framework that handles Big data. It is written in Scala but can also work well with other languages such as Java, Python, R.\n",
        "\n",
        "***PySpark*** is a tool to support Python with Spark. It happens with the support of a library called Py4j, which is written in Python and gives a python interface to spark.\n",
        "\n"
      ]
    },
    {
      "cell_type": "markdown",
      "metadata": {
        "id": "J39cdSchRPqI"
      },
      "source": [
        "# **Reading data**\n",
        "---"
      ]
    },
    {
      "cell_type": "markdown",
      "metadata": {
        "id": "BhGxquf8z5T-"
      },
      "source": [
        "Most of the times our data will be hosted in cloud storage services like AWS S3, Azure storage or other SQL Database systems.\n",
        "\n",
        "SparkSession has a .read attribute which has several methods for reading different data sources into Spark DataFrames. Using these you can create a DataFrame from a .csv file just like with regular pandas DataFrames!\n"
      ]
    },
    {
      "cell_type": "markdown",
      "metadata": {
        "id": "rErssJcf9lvf"
      },
      "source": [
        "## Reading CSV data"
      ]
    },
    {
      "cell_type": "markdown",
      "metadata": {
        "id": "Z9kf1j5YyuLG"
      },
      "source": [
        "For this session we will work with [2015 Flight Delays and Cancellation](https://www.kaggle.com/usdot/flight-delays?select=flights.csv) data from kaggle\n",
        "\n",
        "* YEAR - Year of the Flight Trip\n",
        "* MONTH - Month of the Flight Trip\n",
        "* DAY - Day of the Flight Trip\n",
        "* DAY_OF_WEEK - Day of week of the Flight Trip\n",
        "* AIRLINE - Airline Identifier\n",
        "* FLIGHT_NUMBER - Flight Identifier\n",
        "* TAIL_NUMBER - Aircraft Identifier\n",
        "* ORIGIN_AIRPORT - Starting Airport\n",
        "* DESTINATION_AIRPORT - Destination Airport\n",
        "* SCHEDULED_DEPARTURE - Planned Departure Time\n",
        "* DEPARTURE_TIME - WHEEL_OFF - TAXI_OUT\n",
        "* DEPARTURE_DELAY - Total Delay on Departure\n",
        "* TAXI_OUT - The time duration elapsed between departure from the origin airport gate and wheels off\n",
        "* WHEELS_OFF - The time point that the aircraft's wheels leave the ground\n",
        "* SCHEDULED_TIME - Planned time amount needed for the flight trip\n",
        "* ELAPSED_TIME - AIR_TIME+TAXI_IN+TAXI_OUT\n",
        "* AIR_TIME - The time duration between wheels_off and wheels_on time\n",
        "* DISTANCE - Distance between two airports\n",
        "* WHEELS_ON - The time point that the aircraft's wheels touch on the ground\n",
        "* TAXI_IN - The time duration elapsed between wheels-on and gate arrival at the destination airport\n",
        "* SCHEDULED_ARRIVAL - Planned arrival time\n",
        "* ARRIVAL_TIME - WHEELS_ON+TAXI_IN\n",
        "* ARRIVAL_DELAY - ARRIVAL_TIME-SCHEDULED_ARRIVAL\n",
        "* DIVERTED - Aircraft landed on airport that out of schedule\n",
        "* CANCELLED - Flight Cancelled (1 = cancelled)\n",
        "* CANCELLATION_REASON - Reason for Cancellation of flight: A - Airline/Carrier; B - Weather; C - National Air System; D - Security\n",
        "* AIR_SYSTEM_DELAY - Delay caused by air system\n",
        "* SECURITY_DELAY - Delay caused by security\n",
        "* AIRLINE_DELAY - Delay caused by the airline\n",
        "* LATE_AIRCRAFT_DELAY - Delay caused by aircraft\n",
        "* WEATHER_DELAY - Delay caused by weather\n"
      ]
    },
    {
      "cell_type": "code",
      "execution_count": null,
      "metadata": {
        "colab": {
          "base_uri": "https://localhost:8080/"
        },
        "id": "pIR0KfECRTwJ",
        "outputId": "7e830c15-cf40-47ce-8b8f-0299f2f91d07"
      },
      "outputs": [
        {
          "name": "stdout",
          "output_type": "stream",
          "text": [
            "root\n",
            " |-- _c0: string (nullable = true)\n",
            " |-- _c1: string (nullable = true)\n",
            " |-- _c2: string (nullable = true)\n",
            " |-- _c3: string (nullable = true)\n",
            " |-- _c4: string (nullable = true)\n",
            " |-- _c5: string (nullable = true)\n",
            " |-- _c6: string (nullable = true)\n",
            " |-- _c7: string (nullable = true)\n",
            " |-- _c8: string (nullable = true)\n",
            " |-- _c9: string (nullable = true)\n",
            " |-- _c10: string (nullable = true)\n",
            " |-- _c11: string (nullable = true)\n",
            " |-- _c12: string (nullable = true)\n",
            " |-- _c13: string (nullable = true)\n",
            " |-- _c14: string (nullable = true)\n",
            " |-- _c15: string (nullable = true)\n",
            " |-- _c16: string (nullable = true)\n",
            " |-- _c17: string (nullable = true)\n",
            " |-- _c18: string (nullable = true)\n",
            " |-- _c19: string (nullable = true)\n",
            " |-- _c20: string (nullable = true)\n",
            " |-- _c21: string (nullable = true)\n",
            " |-- _c22: string (nullable = true)\n",
            " |-- _c23: string (nullable = true)\n",
            " |-- _c24: string (nullable = true)\n",
            " |-- _c25: string (nullable = true)\n",
            " |-- _c26: string (nullable = true)\n",
            " |-- _c27: string (nullable = true)\n",
            " |-- _c28: string (nullable = true)\n",
            " |-- _c29: string (nullable = true)\n",
            " |-- _c30: string (nullable = true)\n",
            "\n"
          ]
        }
      ],
      "source": [
        "dat_csv = spark.read.csv(\"/content/drive/My Drive/Colab Datasets/PySpark Sessions/Kaggle_Flights_Data/flights.csv\")\n",
        "dat_csv.printSchema()"
      ]
    },
    {
      "cell_type": "code",
      "execution_count": null,
      "metadata": {
        "colab": {
          "base_uri": "https://localhost:8080/"
        },
        "id": "KP_LyAQJrDOH",
        "outputId": "8c81ac33-e69b-4619-89e5-1c2f421c2428"
      },
      "outputs": [
        {
          "name": "stdout",
          "output_type": "stream",
          "text": [
            "root\n",
            " |-- YEAR: integer (nullable = true)\n",
            " |-- MONTH: integer (nullable = true)\n",
            " |-- DAY: integer (nullable = true)\n",
            " |-- DAY_OF_WEEK: integer (nullable = true)\n",
            " |-- AIRLINE: string (nullable = true)\n",
            " |-- FLIGHT_NUMBER: integer (nullable = true)\n",
            " |-- TAIL_NUMBER: string (nullable = true)\n",
            " |-- ORIGIN_AIRPORT: string (nullable = true)\n",
            " |-- DESTINATION_AIRPORT: string (nullable = true)\n",
            " |-- SCHEDULED_DEPARTURE: integer (nullable = true)\n",
            " |-- DEPARTURE_TIME: integer (nullable = true)\n",
            " |-- DEPARTURE_DELAY: integer (nullable = true)\n",
            " |-- TAXI_OUT: integer (nullable = true)\n",
            " |-- WHEELS_OFF: integer (nullable = true)\n",
            " |-- SCHEDULED_TIME: integer (nullable = true)\n",
            " |-- ELAPSED_TIME: integer (nullable = true)\n",
            " |-- AIR_TIME: integer (nullable = true)\n",
            " |-- DISTANCE: integer (nullable = true)\n",
            " |-- WHEELS_ON: integer (nullable = true)\n",
            " |-- TAXI_IN: integer (nullable = true)\n",
            " |-- SCHEDULED_ARRIVAL: integer (nullable = true)\n",
            " |-- ARRIVAL_TIME: integer (nullable = true)\n",
            " |-- ARRIVAL_DELAY: integer (nullable = true)\n",
            " |-- DIVERTED: integer (nullable = true)\n",
            " |-- CANCELLED: integer (nullable = true)\n",
            " |-- CANCELLATION_REASON: string (nullable = true)\n",
            " |-- AIR_SYSTEM_DELAY: integer (nullable = true)\n",
            " |-- SECURITY_DELAY: integer (nullable = true)\n",
            " |-- AIRLINE_DELAY: integer (nullable = true)\n",
            " |-- LATE_AIRCRAFT_DELAY: integer (nullable = true)\n",
            " |-- WEATHER_DELAY: integer (nullable = true)\n",
            "\n",
            "26.938227891921997\n"
          ]
        }
      ],
      "source": [
        "import time\n",
        "\n",
        "start_time = time.time()\n",
        "\n",
        "dat_csv = spark.read.csv(\"/content/drive/My Drive/Colab Datasets/PySpark Sessions/Kaggle_Flights_Data/flights.csv\", inferSchema=True, header=True)\n",
        "dat_csv.printSchema()\n",
        "\n",
        "print(time.time()-start_time)"
      ]
    },
    {
      "cell_type": "code",
      "execution_count": null,
      "metadata": {
        "colab": {
          "base_uri": "https://localhost:8080/"
        },
        "id": "C05YXaFKrgsF",
        "outputId": "a716e4f0-8eb5-4f58-aac2-43a753a0ca84"
      },
      "outputs": [
        {
          "name": "stdout",
          "output_type": "stream",
          "text": [
            "# Rows:  5819079\n",
            "# Columns:  31\n",
            "+----+-----+---+-----------+-------+-------------+-----------+--------------+-------------------+-------------------+--------------+---------------+--------+----------+--------------+------------+--------+--------+---------+-------+-----------------+------------+-------------+--------+---------+-------------------+----------------+--------------+-------------+-------------------+-------------+\n",
            "|YEAR|MONTH|DAY|DAY_OF_WEEK|AIRLINE|FLIGHT_NUMBER|TAIL_NUMBER|ORIGIN_AIRPORT|DESTINATION_AIRPORT|SCHEDULED_DEPARTURE|DEPARTURE_TIME|DEPARTURE_DELAY|TAXI_OUT|WHEELS_OFF|SCHEDULED_TIME|ELAPSED_TIME|AIR_TIME|DISTANCE|WHEELS_ON|TAXI_IN|SCHEDULED_ARRIVAL|ARRIVAL_TIME|ARRIVAL_DELAY|DIVERTED|CANCELLED|CANCELLATION_REASON|AIR_SYSTEM_DELAY|SECURITY_DELAY|AIRLINE_DELAY|LATE_AIRCRAFT_DELAY|WEATHER_DELAY|\n",
            "+----+-----+---+-----------+-------+-------------+-----------+--------------+-------------------+-------------------+--------------+---------------+--------+----------+--------------+------------+--------+--------+---------+-------+-----------------+------------+-------------+--------+---------+-------------------+----------------+--------------+-------------+-------------------+-------------+\n",
            "|2015|    1|  1|          4|     AS|           98|     N407AS|           ANC|                SEA|                  5|          2354|            -11|      21|        15|           205|         194|     169|    1448|      404|      4|              430|         408|          -22|       0|        0|               null|            null|          null|         null|               null|         null|\n",
            "|2015|    1|  1|          4|     AA|         2336|     N3KUAA|           LAX|                PBI|                 10|             2|             -8|      12|        14|           280|         279|     263|    2330|      737|      4|              750|         741|           -9|       0|        0|               null|            null|          null|         null|               null|         null|\n",
            "|2015|    1|  1|          4|     US|          840|     N171US|           SFO|                CLT|                 20|            18|             -2|      16|        34|           286|         293|     266|    2296|      800|     11|              806|         811|            5|       0|        0|               null|            null|          null|         null|               null|         null|\n",
            "|2015|    1|  1|          4|     AA|          258|     N3HYAA|           LAX|                MIA|                 20|            15|             -5|      15|        30|           285|         281|     258|    2342|      748|      8|              805|         756|           -9|       0|        0|               null|            null|          null|         null|               null|         null|\n",
            "|2015|    1|  1|          4|     AS|          135|     N527AS|           SEA|                ANC|                 25|            24|             -1|      11|        35|           235|         215|     199|    1448|      254|      5|              320|         259|          -21|       0|        0|               null|            null|          null|         null|               null|         null|\n",
            "+----+-----+---+-----------+-------+-------------+-----------+--------------+-------------------+-------------------+--------------+---------------+--------+----------+--------------+------------+--------+--------+---------+-------+-----------------+------------+-------------+--------+---------+-------------------+----------------+--------------+-------------+-------------------+-------------+\n",
            "only showing top 5 rows\n",
            "\n"
          ]
        }
      ],
      "source": [
        "print('# Rows: ', dat_csv.count())\n",
        "print('# Columns: ', len(dat_csv.columns))\n",
        "dat_csv.show(5)"
      ]
    },
    {
      "cell_type": "markdown",
      "metadata": {
        "id": "aAZ0z7PzlEuU"
      },
      "source": [
        "To Understand any data we do load the data and go through it, but insights from business and definitions for various columns is one of the most critical input"
      ]
    },
    {
      "cell_type": "markdown",
      "metadata": {
        "id": "845ypVovzl6l"
      },
      "source": [
        "#### Issues with CSV\n",
        "* You either need a prior knowledge of schema or need to use `inferSchema`\n",
        "* This time we only had 5000 rows but when dealing with millions and billions of rows, it can increase loading time\n",
        "* Issue in data types. Some of the datatypes could be assigned incorrectly. Even if we use user defined schema, there will be chances of data mismatch from the source\n",
        "* header could be missing from the file\n"
      ]
    },
    {
      "cell_type": "markdown",
      "metadata": {
        "id": "H37N2VPev5fS"
      },
      "source": [
        "## Dealing with Parquet files\n",
        "\n",
        "* Parquet stores data in folders and partitions\n",
        "* Data is compressed so requires less storage\n",
        "* Schema information is inbuilt so it does not need to read the data to identify the schema\n",
        "* it follows columnar storage which offers huge optimization when we need only few required columns. Remember, spark follows lazy optimization and it will internally optimize by reading required columns when provided with Parquet files\n",
        "* Partitioning of data on specific features helps in loading only the required amount of data\n",
        "* One large file works worse than many small files when dealing with spark as import jobs will not be assigned to available workers"
      ]
    },
    {
      "cell_type": "code",
      "execution_count": null,
      "metadata": {
        "colab": {
          "base_uri": "https://localhost:8080/"
        },
        "id": "YBgACxKuyt7k",
        "outputId": "78deaa00-64a0-484e-ad4c-10bc7acff72e"
      },
      "outputs": [
        {
          "name": "stdout",
          "output_type": "stream",
          "text": [
            "root\n",
            " |-- YEAR: integer (nullable = true)\n",
            " |-- MONTH: integer (nullable = true)\n",
            " |-- DAY: integer (nullable = true)\n",
            " |-- DAY_OF_WEEK: integer (nullable = true)\n",
            " |-- AIRLINE: string (nullable = true)\n",
            " |-- FLIGHT_NUMBER: integer (nullable = true)\n",
            " |-- TAIL_NUMBER: string (nullable = true)\n",
            " |-- ORIGIN_AIRPORT: string (nullable = true)\n",
            " |-- DESTINATION_AIRPORT: string (nullable = true)\n",
            " |-- SCHEDULED_DEPARTURE: integer (nullable = true)\n",
            " |-- DEPARTURE_TIME: integer (nullable = true)\n",
            " |-- DEPARTURE_DELAY: integer (nullable = true)\n",
            " |-- TAXI_OUT: integer (nullable = true)\n",
            " |-- WHEELS_OFF: integer (nullable = true)\n",
            " |-- SCHEDULED_TIME: integer (nullable = true)\n",
            " |-- ELAPSED_TIME: integer (nullable = true)\n",
            " |-- AIR_TIME: integer (nullable = true)\n",
            " |-- DISTANCE: integer (nullable = true)\n",
            " |-- WHEELS_ON: integer (nullable = true)\n",
            " |-- TAXI_IN: integer (nullable = true)\n",
            " |-- SCHEDULED_ARRIVAL: integer (nullable = true)\n",
            " |-- ARRIVAL_TIME: integer (nullable = true)\n",
            " |-- ARRIVAL_DELAY: integer (nullable = true)\n",
            " |-- DIVERTED: integer (nullable = true)\n",
            " |-- CANCELLED: integer (nullable = true)\n",
            " |-- CANCELLATION_REASON: string (nullable = true)\n",
            " |-- AIR_SYSTEM_DELAY: integer (nullable = true)\n",
            " |-- SECURITY_DELAY: integer (nullable = true)\n",
            " |-- AIRLINE_DELAY: integer (nullable = true)\n",
            " |-- LATE_AIRCRAFT_DELAY: integer (nullable = true)\n",
            " |-- WEATHER_DELAY: integer (nullable = true)\n",
            "\n",
            "0.651437520980835\n"
          ]
        }
      ],
      "source": [
        "start_time = time.time()\n",
        "flights = spark.read.parquet('/content/drive/My Drive/Colab Datasets/PySpark Sessions/Flights_Data_Parquet')\n",
        "flights.printSchema()\n",
        "print(time.time()-start_time)"
      ]
    },
    {
      "cell_type": "code",
      "execution_count": null,
      "metadata": {
        "colab": {
          "base_uri": "https://localhost:8080/"
        },
        "id": "5VT3n2UKNm3g",
        "outputId": "c7d9d2fa-0b3d-48a7-b854-ffb45495a4c3"
      },
      "outputs": [
        {
          "name": "stdout",
          "output_type": "stream",
          "text": [
            "# Rows:  5819079\n",
            "# Columns:  31\n",
            "+----+-----+---+-----------+-------+-------------+-----------+--------------+-------------------+-------------------+--------------+---------------+--------+----------+--------------+------------+--------+--------+---------+-------+-----------------+------------+-------------+--------+---------+-------------------+----------------+--------------+-------------+-------------------+-------------+\n",
            "|YEAR|MONTH|DAY|DAY_OF_WEEK|AIRLINE|FLIGHT_NUMBER|TAIL_NUMBER|ORIGIN_AIRPORT|DESTINATION_AIRPORT|SCHEDULED_DEPARTURE|DEPARTURE_TIME|DEPARTURE_DELAY|TAXI_OUT|WHEELS_OFF|SCHEDULED_TIME|ELAPSED_TIME|AIR_TIME|DISTANCE|WHEELS_ON|TAXI_IN|SCHEDULED_ARRIVAL|ARRIVAL_TIME|ARRIVAL_DELAY|DIVERTED|CANCELLED|CANCELLATION_REASON|AIR_SYSTEM_DELAY|SECURITY_DELAY|AIRLINE_DELAY|LATE_AIRCRAFT_DELAY|WEATHER_DELAY|\n",
            "+----+-----+---+-----------+-------+-------------+-----------+--------------+-------------------+-------------------+--------------+---------------+--------+----------+--------------+------------+--------+--------+---------+-------+-----------------+------------+-------------+--------+---------+-------------------+----------------+--------------+-------------+-------------------+-------------+\n",
            "|2015|    1|  1|          4|     WN|          526|     N742SW|           SFO|                DEN|                555|           553|             -2|      11|       604|           150|         150|     132|     967|      916|      7|              925|         923|           -2|       0|        0|               null|            null|          null|         null|               null|         null|\n",
            "|2015|    1|  1|          4|     WN|         4122|     N486WN|           BOS|                BWI|                600|           556|             -4|      17|       613|           105|          83|      63|     369|      716|      3|              745|         719|          -26|       0|        0|               null|            null|          null|         null|               null|         null|\n",
            "|2015|    1|  1|          4|     WN|         4822|     N293WN|           LAS|                BWI|                600|           602|              2|      10|       612|           270|         243|     230|    2106|     1302|      3|             1330|        1305|          -25|       0|        0|               null|            null|          null|         null|               null|         null|\n",
            "|2015|    1|  1|          4|     WN|         2215|     N249WN|           ABQ|                HOU|                600|           607|              7|      29|       636|           120|         135|     103|     759|      919|      3|              900|         922|           22|       0|        0|               null|              15|             0|            7|                  0|            0|\n",
            "|2015|    1|  1|          4|     WN|          676|     N630WN|           PHX|                SLC|                600|           601|              1|       9|       610|            95|          88|      76|     507|      726|      3|              735|         729|           -6|       0|        0|               null|            null|          null|         null|               null|         null|\n",
            "+----+-----+---+-----------+-------+-------------+-----------+--------------+-------------------+-------------------+--------------+---------------+--------+----------+--------------+------------+--------+--------+---------+-------+-----------------+------------+-------------+--------+---------+-------------------+----------------+--------------+-------------+-------------------+-------------+\n",
            "only showing top 5 rows\n",
            "\n",
            "7.492125988006592\n"
          ]
        }
      ],
      "source": [
        "start_time = time.time()\n",
        "print('# Rows: ', flights.count())\n",
        "print('# Columns: ', len(flights.columns))\n",
        "flights.show(5)\n",
        "print(time.time()-start_time)"
      ]
    },
    {
      "cell_type": "markdown",
      "metadata": {
        "id": "Twu_cDZP66q0"
      },
      "source": [
        "# **Data Manipulation**\n",
        "---"
      ]
    },
    {
      "cell_type": "markdown",
      "metadata": {
        "id": "q96WecueU1BQ"
      },
      "source": [
        "We will now look at the methods defined by Spark's *`DataFrame`* class to perform common data operations.\n",
        "\n",
        "Modeling on a data is not the only task of a data scientist.\n",
        "\n",
        "A huge amont of time goes into transforming datasets to create insightful reports."
      ]
    },
    {
      "cell_type": "markdown",
      "metadata": {
        "id": "Gvwtp-wBU8xq"
      },
      "source": [
        "## Creating columns\n",
        "\n",
        "Performing column-wise operations in Spark can be done using the `.withColumn()` method, which takes two arguments. First, a string with the name of your new column, and second the new column itself.\n",
        "\n",
        "The new column must be an object of class *Column*. Just think of this as a dataframe with only one column.\n",
        "\n",
        "Updating a Spark DataFrame is somewhat different than working in *pandas* because the Spark DataFrame is *immutable*. This means that it can't be changed, and so columns can't be updated in place.\n",
        "\n",
        "Thus, all these methods return a new DataFrame. To overwrite the original DataFrame we just reassign the returned DataFrame.\n",
        "\n",
        "To overwrite an existing column, just pass the name of the column as the first argument.\n"
      ]
    },
    {
      "cell_type": "code",
      "execution_count": null,
      "metadata": {
        "colab": {
          "base_uri": "https://localhost:8080/"
        },
        "id": "V_MfXHf3ouJ7",
        "outputId": "054f5a7b-5974-4681-edfd-02c2b299869a"
      },
      "outputs": [
        {
          "name": "stdout",
          "output_type": "stream",
          "text": [
            "+----+-----+---+-----------+-------+-------------+-----------+--------------+-------------------+-------------------+--------------+---------------+--------+----------+--------------+------------+--------+--------+---------+-------+-----------------+------------+-------------+--------+---------+-------------------+----------------+--------------+-------------+-------------------+-------------+------------------+\n",
            "|YEAR|MONTH|DAY|DAY_OF_WEEK|AIRLINE|FLIGHT_NUMBER|TAIL_NUMBER|ORIGIN_AIRPORT|DESTINATION_AIRPORT|SCHEDULED_DEPARTURE|DEPARTURE_TIME|DEPARTURE_DELAY|TAXI_OUT|WHEELS_OFF|SCHEDULED_TIME|ELAPSED_TIME|AIR_TIME|DISTANCE|WHEELS_ON|TAXI_IN|SCHEDULED_ARRIVAL|ARRIVAL_TIME|ARRIVAL_DELAY|DIVERTED|CANCELLED|CANCELLATION_REASON|AIR_SYSTEM_DELAY|SECURITY_DELAY|AIRLINE_DELAY|LATE_AIRCRAFT_DELAY|WEATHER_DELAY|      DURATION_HRS|\n",
            "+----+-----+---+-----------+-------+-------------+-----------+--------------+-------------------+-------------------+--------------+---------------+--------+----------+--------------+------------+--------+--------+---------+-------+-----------------+------------+-------------+--------+---------+-------------------+----------------+--------------+-------------+-------------------+-------------+------------------+\n",
            "|2015|    1|  1|          4|     WN|          526|     N742SW|           SFO|                DEN|                555|           553|             -2|      11|       604|           150|         150|     132|     967|      916|      7|              925|         923|           -2|       0|        0|               null|            null|          null|         null|               null|         null|               2.2|\n",
            "|2015|    1|  1|          4|     WN|         4122|     N486WN|           BOS|                BWI|                600|           556|             -4|      17|       613|           105|          83|      63|     369|      716|      3|              745|         719|          -26|       0|        0|               null|            null|          null|         null|               null|         null|              1.05|\n",
            "|2015|    1|  1|          4|     WN|         4822|     N293WN|           LAS|                BWI|                600|           602|              2|      10|       612|           270|         243|     230|    2106|     1302|      3|             1330|        1305|          -25|       0|        0|               null|            null|          null|         null|               null|         null|3.8333333333333335|\n",
            "|2015|    1|  1|          4|     WN|         2215|     N249WN|           ABQ|                HOU|                600|           607|              7|      29|       636|           120|         135|     103|     759|      919|      3|              900|         922|           22|       0|        0|               null|              15|             0|            7|                  0|            0|1.7166666666666666|\n",
            "|2015|    1|  1|          4|     WN|          676|     N630WN|           PHX|                SLC|                600|           601|              1|       9|       610|            95|          88|      76|     507|      726|      3|              735|         729|           -6|       0|        0|               null|            null|          null|         null|               null|         null|1.2666666666666666|\n",
            "|2015|    1|  1|          4|     WN|         2787|     N910WN|           PIT|                FLL|                600|           559|             -1|       9|       608|           170|         145|     132|     994|      820|      4|              850|         824|          -26|       0|        0|               null|            null|          null|         null|               null|         null|               2.2|\n",
            "|2015|    1|  1|          4|     WN|         4859|     N8641B|           PVD|                BWI|                600|           606|              6|      11|       617|           100|          81|      63|     327|      720|      7|              740|         727|          -13|       0|        0|               null|            null|          null|         null|               null|         null|              1.05|\n",
            "|2015|    1|  1|          4|     WN|          597|     N768SW|           SFO|                ATL|                600|           554|             -6|       9|       603|           280|         270|     253|    2139|     1316|      8|             1340|        1324|          -16|       0|        0|               null|            null|          null|         null|               null|         null| 4.216666666666667|\n",
            "|2015|    1|  1|          4|     WN|         2505|     N467WN|           GEG|                DEN|                605|           604|             -1|      14|       618|           140|         132|     111|     836|      909|      7|              925|         916|           -9|       0|        0|               null|            null|          null|         null|               null|         null|              1.85|\n",
            "|2015|    1|  1|          4|     WN|          239|     N653SW|           SAT|                STL|                605|           559|             -6|       9|       608|           120|         104|      91|     786|      739|      4|              805|         743|          -22|       0|        0|               null|            null|          null|         null|               null|         null|1.5166666666666666|\n",
            "+----+-----+---+-----------+-------+-------------+-----------+--------------+-------------------+-------------------+--------------+---------------+--------+----------+--------------+------------+--------+--------+---------+-------+-----------------+------------+-------------+--------+---------+-------------------+----------------+--------------+-------------+-------------------+-------------+------------------+\n",
            "only showing top 10 rows\n",
            "\n"
          ]
        }
      ],
      "source": [
        "# Update flights to include a new column called DURATION_HRS\n",
        "flights = flights.withColumn(\"DURATION_HRS\",flights.AIR_TIME/60)\n",
        "flights.show(10)"
      ]
    },
    {
      "cell_type": "markdown",
      "metadata": {
        "id": "tUUe5A9cU9L8"
      },
      "source": [
        "## Filtering Data\n",
        "The `.filter()` method in spark is very similar to `WHERE` clause in SQL. It takes either an SQL like expression or a Spark Column of boolean (True/False) values.\n",
        "\n"
      ]
    },
    {
      "cell_type": "code",
      "execution_count": null,
      "metadata": {
        "colab": {
          "base_uri": "https://localhost:8080/"
        },
        "id": "kV9asEj5qg12",
        "outputId": "57594f0b-3dae-4456-d4d7-cd843c87f132"
      },
      "outputs": [
        {
          "name": "stdout",
          "output_type": "stream",
          "text": [
            "+----+-----+---+-----------+-------+-------------+-----------+--------------+-------------------+-------------------+--------------+---------------+--------+----------+--------------+------------+--------+--------+---------+-------+-----------------+------------+-------------+--------+---------+-------------------+----------------+--------------+-------------+-------------------+-------------+------------------+\n",
            "|YEAR|MONTH|DAY|DAY_OF_WEEK|AIRLINE|FLIGHT_NUMBER|TAIL_NUMBER|ORIGIN_AIRPORT|DESTINATION_AIRPORT|SCHEDULED_DEPARTURE|DEPARTURE_TIME|DEPARTURE_DELAY|TAXI_OUT|WHEELS_OFF|SCHEDULED_TIME|ELAPSED_TIME|AIR_TIME|DISTANCE|WHEELS_ON|TAXI_IN|SCHEDULED_ARRIVAL|ARRIVAL_TIME|ARRIVAL_DELAY|DIVERTED|CANCELLED|CANCELLATION_REASON|AIR_SYSTEM_DELAY|SECURITY_DELAY|AIRLINE_DELAY|LATE_AIRCRAFT_DELAY|WEATHER_DELAY|      DURATION_HRS|\n",
            "+----+-----+---+-----------+-------+-------------+-----------+--------------+-------------------+-------------------+--------------+---------------+--------+----------+--------------+------------+--------+--------+---------+-------+-----------------+------------+-------------+--------+---------+-------------------+----------------+--------------+-------------+-------------------+-------------+------------------+\n",
            "|2015|    1|  1|          4|     WN|         4822|     N293WN|           LAS|                BWI|                600|           602|              2|      10|       612|           270|         243|     230|    2106|     1302|      3|             1330|        1305|          -25|       0|        0|               null|            null|          null|         null|               null|         null|3.8333333333333335|\n",
            "|2015|    1|  1|          4|     WN|          597|     N768SW|           SFO|                ATL|                600|           554|             -6|       9|       603|           280|         270|     253|    2139|     1316|      8|             1340|        1324|          -16|       0|        0|               null|            null|          null|         null|               null|         null| 4.216666666666667|\n",
            "|2015|    1|  1|          4|     WN|          828|     N8303R|           PHX|                BWI|                610|           610|              0|      12|       622|           250|         226|     210|    1999|     1152|      4|             1220|        1156|          -24|       0|        0|               null|            null|          null|         null|               null|         null|               3.5|\n",
            "|2015|    1|  1|          4|     WN|          137|     N621SW|           HOU|                PHX|                615|           613|             -2|       9|       622|           175|         173|     160|    1020|      802|      4|              810|         806|           -4|       0|        0|               null|            null|          null|         null|               null|         null|2.6666666666666665|\n",
            "|2015|    1|  1|          4|     WN|          799|     N7736A|           LAS|                HOU|                620|           618|             -2|      11|       629|           170|         170|     155|    1235|     1104|      4|             1110|        1108|           -2|       0|        0|               null|            null|          null|         null|               null|         null|2.5833333333333335|\n",
            "+----+-----+---+-----------+-------+-------------+-----------+--------------+-------------------+-------------------+--------------+---------------+--------+----------+--------------+------------+--------+--------+---------+-------+-----------------+------------+-------------+--------+---------+-------------------+----------------+--------------+-------------+-------------------+-------------+------------------+\n",
            "only showing top 5 rows\n",
            "\n",
            "+----+-----+---+-----------+-------+-------------+-----------+--------------+-------------------+-------------------+--------------+---------------+--------+----------+--------------+------------+--------+--------+---------+-------+-----------------+------------+-------------+--------+---------+-------------------+----------------+--------------+-------------+-------------------+-------------+------------------+\n",
            "|YEAR|MONTH|DAY|DAY_OF_WEEK|AIRLINE|FLIGHT_NUMBER|TAIL_NUMBER|ORIGIN_AIRPORT|DESTINATION_AIRPORT|SCHEDULED_DEPARTURE|DEPARTURE_TIME|DEPARTURE_DELAY|TAXI_OUT|WHEELS_OFF|SCHEDULED_TIME|ELAPSED_TIME|AIR_TIME|DISTANCE|WHEELS_ON|TAXI_IN|SCHEDULED_ARRIVAL|ARRIVAL_TIME|ARRIVAL_DELAY|DIVERTED|CANCELLED|CANCELLATION_REASON|AIR_SYSTEM_DELAY|SECURITY_DELAY|AIRLINE_DELAY|LATE_AIRCRAFT_DELAY|WEATHER_DELAY|      DURATION_HRS|\n",
            "+----+-----+---+-----------+-------+-------------+-----------+--------------+-------------------+-------------------+--------------+---------------+--------+----------+--------------+------------+--------+--------+---------+-------+-----------------+------------+-------------+--------+---------+-------------------+----------------+--------------+-------------+-------------------+-------------+------------------+\n",
            "|2015|    1|  1|          4|     WN|         4822|     N293WN|           LAS|                BWI|                600|           602|              2|      10|       612|           270|         243|     230|    2106|     1302|      3|             1330|        1305|          -25|       0|        0|               null|            null|          null|         null|               null|         null|3.8333333333333335|\n",
            "|2015|    1|  1|          4|     WN|          597|     N768SW|           SFO|                ATL|                600|           554|             -6|       9|       603|           280|         270|     253|    2139|     1316|      8|             1340|        1324|          -16|       0|        0|               null|            null|          null|         null|               null|         null| 4.216666666666667|\n",
            "|2015|    1|  1|          4|     WN|          828|     N8303R|           PHX|                BWI|                610|           610|              0|      12|       622|           250|         226|     210|    1999|     1152|      4|             1220|        1156|          -24|       0|        0|               null|            null|          null|         null|               null|         null|               3.5|\n",
            "|2015|    1|  1|          4|     WN|          137|     N621SW|           HOU|                PHX|                615|           613|             -2|       9|       622|           175|         173|     160|    1020|      802|      4|              810|         806|           -4|       0|        0|               null|            null|          null|         null|               null|         null|2.6666666666666665|\n",
            "|2015|    1|  1|          4|     WN|          799|     N7736A|           LAS|                HOU|                620|           618|             -2|      11|       629|           170|         170|     155|    1235|     1104|      4|             1110|        1108|           -2|       0|        0|               null|            null|          null|         null|               null|         null|2.5833333333333335|\n",
            "+----+-----+---+-----------+-------+-------------+-----------+--------------+-------------------+-------------------+--------------+---------------+--------+----------+--------------+------------+--------+--------+---------+-------+-----------------+------------+-------------+--------+---------+-------------------+----------------+--------------+-------------+-------------------+-------------+------------------+\n",
            "only showing top 5 rows\n",
            "\n"
          ]
        }
      ],
      "source": [
        "# Filter flights by passing a string\n",
        "filter1 = flights.filter(\"DISTANCE>1000\")\n",
        "\n",
        "# Filter flights by passing a column of boolean values\n",
        "filter2 = flights.filter(flights.DISTANCE>1000)\n",
        "\n",
        "# Print the data to check they're equal\n",
        "filter1.show(5)\n",
        "filter2.show(5)\n"
      ]
    },
    {
      "cell_type": "code",
      "execution_count": null,
      "metadata": {
        "colab": {
          "base_uri": "https://localhost:8080/"
        },
        "id": "8tCKpxt24ZI6",
        "outputId": "66c8345e-0b5e-481d-8bf5-3aecfd396918"
      },
      "outputs": [
        {
          "name": "stdout",
          "output_type": "stream",
          "text": [
            "+----+-----+---+-----------+-------+-------------+-----------+--------------+-------------------+-------------------+--------------+---------------+--------+----------+--------------+------------+--------+--------+---------+-------+-----------------+------------+-------------+--------+---------+-------------------+----------------+--------------+-------------+-------------------+-------------+------------+\n",
            "|YEAR|MONTH|DAY|DAY_OF_WEEK|AIRLINE|FLIGHT_NUMBER|TAIL_NUMBER|ORIGIN_AIRPORT|DESTINATION_AIRPORT|SCHEDULED_DEPARTURE|DEPARTURE_TIME|DEPARTURE_DELAY|TAXI_OUT|WHEELS_OFF|SCHEDULED_TIME|ELAPSED_TIME|AIR_TIME|DISTANCE|WHEELS_ON|TAXI_IN|SCHEDULED_ARRIVAL|ARRIVAL_TIME|ARRIVAL_DELAY|DIVERTED|CANCELLED|CANCELLATION_REASON|AIR_SYSTEM_DELAY|SECURITY_DELAY|AIRLINE_DELAY|LATE_AIRCRAFT_DELAY|WEATHER_DELAY|DURATION_HRS|\n",
            "+----+-----+---+-----------+-------+-------------+-----------+--------------+-------------------+-------------------+--------------+---------------+--------+----------+--------------+------------+--------+--------+---------+-------+-----------------+------------+-------------+--------+---------+-------------------+----------------+--------------+-------------+-------------------+-------------+------------+\n",
            "|2015|    1|  1|          4|     DL|         2054|     N376DA|           SEA|                JFK|                705|           705|              0|      11|       716|           312|         290|     270|    2422|     1446|      9|             1517|        1455|          -22|       0|        0|               null|            null|          null|         null|               null|         null|         4.5|\n",
            "|2015|    1|  1|          4|     DL|         1473|     N693DL|           SEA|                JFK|               1215|          1216|              1|      17|      1233|           309|         288|     264|    2422|     1957|      7|             2024|        2004|          -20|       0|        0|               null|            null|          null|         null|               null|         null|         4.4|\n",
            "|2015|    1|  2|          5|     DL|          568|     N711ZX|           SEA|                JFK|                705|          1004|            179|      15|      1019|           311|         291|     270|    2422|     1749|      6|             1516|        1755|          159|       0|        0|               null|               0|             0|          159|                  0|            0|         4.5|\n",
            "|2015|    1|  2|          5|     DL|         1473|     N374DA|           SEA|                JFK|               1140|          1140|              0|      19|      1159|           309|         308|     267|    2422|     1926|     22|             1949|        1948|           -1|       0|        0|               null|            null|          null|         null|               null|         null|        4.45|\n",
            "|2015|    1|  2|          5|     DL|         1542|     N3769L|           SEA|                JFK|               2250|          2250|              0|      32|      2322|           308|         303|     261|    2422|      643|     10|              658|         653|           -5|       0|        0|               null|            null|          null|         null|               null|         null|        4.35|\n",
            "+----+-----+---+-----------+-------+-------------+-----------+--------------+-------------------+-------------------+--------------+---------------+--------+----------+--------------+------------+--------+--------+---------+-------+-----------------+------------+-------------+--------+---------+-------------------+----------------+--------------+-------------+-------------------+-------------+------------+\n",
            "only showing top 5 rows\n",
            "\n"
          ]
        }
      ],
      "source": [
        "# Another way to filter data\n",
        "\n",
        "# Create the boolean columns seperately and then pass them in filter\n",
        "filterA = flights.ORIGIN_AIRPORT == \"SEA\"\n",
        "filterB = flights.DESTINATION_AIRPORT == \"JFK\"\n",
        "\n",
        "# Filter the data, first by filterA then by filterB\n",
        "flights.filter(filterA).filter(filterB).show(5)"
      ]
    },
    {
      "cell_type": "markdown",
      "metadata": {
        "id": "9AHpE5PKU9lN"
      },
      "source": [
        "## Selecting Required Columns\n",
        "The `.select()` method is used whe we have to select certain required columns from the Dataframe. Arguments to this method can either be the column name as a string or a column object.\n"
      ]
    },
    {
      "cell_type": "code",
      "execution_count": null,
      "metadata": {
        "colab": {
          "base_uri": "https://localhost:8080/"
        },
        "id": "Vg0x4PXj3nCJ",
        "outputId": "d3ea7817-1630-4b20-d9c5-ff44117aa207"
      },
      "outputs": [
        {
          "name": "stdout",
          "output_type": "stream",
          "text": [
            "+-----------+--------------+-------------------+\n",
            "|TAIL_NUMBER|ORIGIN_AIRPORT|DESTINATION_AIRPORT|\n",
            "+-----------+--------------+-------------------+\n",
            "|     N742SW|           SFO|                DEN|\n",
            "|     N486WN|           BOS|                BWI|\n",
            "|     N293WN|           LAS|                BWI|\n",
            "|     N249WN|           ABQ|                HOU|\n",
            "|     N630WN|           PHX|                SLC|\n",
            "+-----------+--------------+-------------------+\n",
            "only showing top 5 rows\n",
            "\n",
            "+-----------+--------------+-------------------+\n",
            "|TAIL_NUMBER|ORIGIN_AIRPORT|DESTINATION_AIRPORT|\n",
            "+-----------+--------------+-------------------+\n",
            "|     N742SW|           SFO|                DEN|\n",
            "|     N486WN|           BOS|                BWI|\n",
            "|     N293WN|           LAS|                BWI|\n",
            "|     N249WN|           ABQ|                HOU|\n",
            "|     N630WN|           PHX|                SLC|\n",
            "+-----------+--------------+-------------------+\n",
            "only showing top 5 rows\n",
            "\n"
          ]
        }
      ],
      "source": [
        "# Using column names as string\n",
        "select1 = flights.select(\"TAIL_NUMBER\",\"ORIGIN_AIRPORT\",\"DESTINATION_AIRPORT\")\n",
        "\n",
        "# Using column object\n",
        "select2 = flights.select(flights.TAIL_NUMBER, flights.ORIGIN_AIRPORT, flights.DESTINATION_AIRPORT)\n",
        "\n",
        "select1.show(5)\n",
        "select2.show(5)"
      ]
    },
    {
      "cell_type": "markdown",
      "metadata": {
        "id": "L7M81SOf5WDY"
      },
      "source": [
        "When you pass a column object, you can perform operations like addition or subtraction on the column to change the data contained in it, much like `.withColumn()`.\n",
        "\n",
        "The difference between `.select()` and `.withColumn()` methods is that `.select()` returns only the columns you specify, while `.withColumn()` returns all the columns of the DataFrame in addition to the one you defined. \n",
        "\n",
        "It's often a good idea to select only the columns you need at the beginning of an operation."
      ]
    },
    {
      "cell_type": "code",
      "execution_count": null,
      "metadata": {
        "colab": {
          "base_uri": "https://localhost:8080/"
        },
        "id": "kzhOxJvB4TSa",
        "outputId": "35ca37c7-5d10-4045-cbf7-8726d27e00d6"
      },
      "outputs": [
        {
          "name": "stdout",
          "output_type": "stream",
          "text": [
            "+--------------+-------------------+------------------+\n",
            "|ORIGIN_AIRPORT|DESTINATION_AIRPORT|   (AIR_TIME / 60)|\n",
            "+--------------+-------------------+------------------+\n",
            "|           SFO|                DEN|               2.2|\n",
            "|           BOS|                BWI|              1.05|\n",
            "|           LAS|                BWI|3.8333333333333335|\n",
            "|           ABQ|                HOU|1.7166666666666666|\n",
            "|           PHX|                SLC|1.2666666666666666|\n",
            "+--------------+-------------------+------------------+\n",
            "only showing top 5 rows\n",
            "\n"
          ]
        }
      ],
      "source": [
        "# Performing column operation when selecting columns\n",
        "flights.select(flights.ORIGIN_AIRPORT, flights.DESTINATION_AIRPORT, flights.AIR_TIME/60).show(5)"
      ]
    },
    {
      "cell_type": "code",
      "execution_count": null,
      "metadata": {
        "colab": {
          "base_uri": "https://localhost:8080/"
        },
        "id": "AgGU7VqA6s9s",
        "outputId": "91dad819-1fa0-4b10-dafa-89ef667a86ca"
      },
      "outputs": [
        {
          "name": "stdout",
          "output_type": "stream",
          "text": [
            "+--------------+-------------------+------------------+\n",
            "|ORIGIN_AIRPORT|DESTINATION_AIRPORT|   (AIR_TIME / 60)|\n",
            "+--------------+-------------------+------------------+\n",
            "|           SFO|                DEN|               2.2|\n",
            "|           BOS|                BWI|              1.05|\n",
            "|           LAS|                BWI|3.8333333333333335|\n",
            "|           ABQ|                HOU|1.7166666666666666|\n",
            "|           PHX|                SLC|1.2666666666666666|\n",
            "+--------------+-------------------+------------------+\n",
            "only showing top 5 rows\n",
            "\n"
          ]
        }
      ],
      "source": [
        "# Mix and select\n",
        "flights.select('ORIGIN_AIRPORT', 'DESTINATION_AIRPORT', flights.AIR_TIME/60).show(5)"
      ]
    },
    {
      "cell_type": "code",
      "execution_count": null,
      "metadata": {
        "colab": {
          "base_uri": "https://localhost:8080/"
        },
        "id": "zJbzCO2565c6",
        "outputId": "1378e6e3-407b-4a9f-b964-65eff4bcc252"
      },
      "outputs": [
        {
          "name": "stdout",
          "output_type": "stream",
          "text": [
            "+--------------+----+------------------+\n",
            "|ORIGIN_AIRPORT|DEST|      DURATION_HRS|\n",
            "+--------------+----+------------------+\n",
            "|           SFO| DEN|               2.2|\n",
            "|           BOS| BWI|              1.05|\n",
            "|           LAS| BWI|3.8333333333333335|\n",
            "|           ABQ| HOU|1.7166666666666666|\n",
            "|           PHX| SLC|1.2666666666666666|\n",
            "+--------------+----+------------------+\n",
            "only showing top 5 rows\n",
            "\n"
          ]
        }
      ],
      "source": [
        "# Renaming columns when selecting\n",
        "flights.select('ORIGIN_AIRPORT', flights.DESTINATION_AIRPORT.alias(\"DEST\"), (flights.AIR_TIME/60).alias(\"DURATION_HRS\")).show(5)\n",
        "\n",
        "# Note: .alias() works on column objects"
      ]
    },
    {
      "cell_type": "markdown",
      "metadata": {
        "id": "SuKtir0d3pFK"
      },
      "source": [
        "To use SQL like strings, use `selectExpr`\n"
      ]
    },
    {
      "cell_type": "code",
      "execution_count": null,
      "metadata": {
        "colab": {
          "base_uri": "https://localhost:8080/"
        },
        "id": "qDTbPw108BiQ",
        "outputId": "03ffabb2-fba7-413b-f9ff-1b513959b848"
      },
      "outputs": [
        {
          "name": "stdout",
          "output_type": "stream",
          "text": [
            "+--------------+-------------------+-----------------+\n",
            "|ORIGIN_AIRPORT|DESTINATION_AIRPORT|        AVG_SPEED|\n",
            "+--------------+-------------------+-----------------+\n",
            "|           SFO|                DEN|439.5454545454545|\n",
            "|           BOS|                BWI|351.4285714285714|\n",
            "|           LAS|                BWI|549.3913043478261|\n",
            "|           ABQ|                HOU|442.1359223300971|\n",
            "|           PHX|                SLC|400.2631578947369|\n",
            "+--------------+-------------------+-----------------+\n",
            "only showing top 5 rows\n",
            "\n",
            "+--------------+-------------------+-----------------+\n",
            "|ORIGIN_AIRPORT|DESTINATION_AIRPORT|        AVG_SPEED|\n",
            "+--------------+-------------------+-----------------+\n",
            "|           SFO|                DEN|439.5454545454545|\n",
            "|           BOS|                BWI|351.4285714285714|\n",
            "|           LAS|                BWI|549.3913043478261|\n",
            "|           ABQ|                HOU|442.1359223300971|\n",
            "|           PHX|                SLC|400.2631578947369|\n",
            "+--------------+-------------------+-----------------+\n",
            "only showing top 5 rows\n",
            "\n"
          ]
        }
      ],
      "source": [
        "# Define avg_speed\n",
        "avg_speed = (flights.DISTANCE/(flights.AIR_TIME/60)).alias(\"AVG_SPEED\")\n",
        "\n",
        "# Select the correct columns\n",
        "speed1 = flights.select(\"ORIGIN_AIRPORT\", \"DESTINATION_AIRPORT\", avg_speed)\n",
        "\n",
        "# Create the same table using a SQL expression\n",
        "speed2 = flights.selectExpr(\"ORIGIN_AIRPORT\", \"DESTINATION_AIRPORT\", \"DISTANCE/(AIR_TIME/60) as AVG_SPEED\")\n",
        "\n",
        "speed1.show(5)\n",
        "speed2.show(5)"
      ]
    },
    {
      "cell_type": "code",
      "execution_count": null,
      "metadata": {
        "colab": {
          "base_uri": "https://localhost:8080/"
        },
        "id": "SOqPweXu_oUc",
        "outputId": "42683ff6-63ed-411e-84d6-84a5b36a17b9"
      },
      "outputs": [
        {
          "name": "stdout",
          "output_type": "stream",
          "text": [
            "+----+-----+---+-----------+-------+-------------+-----------+--------------+\n",
            "|YEAR|MONTH|DAY|DAY_OF_WEEK|AIRLINE|FLIGHT_NUMBER|TAIL_NUMBER|ORIGIN_AIRPORT|\n",
            "+----+-----+---+-----------+-------+-------------+-----------+--------------+\n",
            "|2015|    1|  1|          4|     WN|          526|     N742SW|           SFO|\n",
            "|2015|    1|  1|          4|     WN|         4122|     N486WN|           BOS|\n",
            "+----+-----+---+-----------+-------+-------------+-----------+--------------+\n",
            "only showing top 2 rows\n",
            "\n"
          ]
        }
      ],
      "source": [
        "# Selecting columns by subsetting from list of available columns\n",
        "flights.select(flights.columns[:8]).show(2)\n",
        "\n",
        "# This can be helpful when we have joined multiple datasets and want do select only a few initial columns"
      ]
    },
    {
      "cell_type": "markdown",
      "metadata": {
        "id": "1ipENtL7db5M"
      },
      "source": [
        "## Dropping Columns\n",
        "\n",
        "If suppose we have many columns and we want to delete some of them then we can do so by sing `.drop()`"
      ]
    },
    {
      "cell_type": "code",
      "execution_count": null,
      "metadata": {
        "colab": {
          "base_uri": "https://localhost:8080/"
        },
        "id": "60ColiB_9JBK",
        "outputId": "827cfbc4-d2b2-4b47-ba1d-5cee670c82f8"
      },
      "outputs": [
        {
          "name": "stdout",
          "output_type": "stream",
          "text": [
            "+----+-----+---+-----------+-------+-------------+-----------+--------------+-------------------+-------------------+--------------+---------------+--------+----------+--------------+------------+--------+--------+---------+-------+-----------------+------------+-------------+--------+---------+-------------------+----------------+--------------+-------------+-------------------+-------------+------------+\n",
            "|YEAR|MONTH|DAY|DAY_OF_WEEK|AIRLINE|FLIGHT_NUMBER|TAIL_NUMBER|ORIGIN_AIRPORT|DESTINATION_AIRPORT|SCHEDULED_DEPARTURE|DEPARTURE_TIME|DEPARTURE_DELAY|TAXI_OUT|WHEELS_OFF|SCHEDULED_TIME|ELAPSED_TIME|AIR_TIME|DISTANCE|WHEELS_ON|TAXI_IN|SCHEDULED_ARRIVAL|ARRIVAL_TIME|ARRIVAL_DELAY|DIVERTED|CANCELLED|CANCELLATION_REASON|AIR_SYSTEM_DELAY|SECURITY_DELAY|AIRLINE_DELAY|LATE_AIRCRAFT_DELAY|WEATHER_DELAY|DURATION_HRS|\n",
            "+----+-----+---+-----------+-------+-------------+-----------+--------------+-------------------+-------------------+--------------+---------------+--------+----------+--------------+------------+--------+--------+---------+-------+-----------------+------------+-------------+--------+---------+-------------------+----------------+--------------+-------------+-------------------+-------------+------------+\n",
            "|2015|    1|  1|          4|     WN|          526|     N742SW|           SFO|                DEN|                555|           553|             -2|      11|       604|           150|         150|     132|     967|      916|      7|              925|         923|           -2|       0|        0|               null|            null|          null|         null|               null|         null|         2.2|\n",
            "|2015|    1|  1|          4|     WN|         4122|     N486WN|           BOS|                BWI|                600|           556|             -4|      17|       613|           105|          83|      63|     369|      716|      3|              745|         719|          -26|       0|        0|               null|            null|          null|         null|               null|         null|        1.05|\n",
            "+----+-----+---+-----------+-------+-------------+-----------+--------------+-------------------+-------------------+--------------+---------------+--------+----------+--------------+------------+--------+--------+---------+-------+-----------------+------------+-------------+--------+---------+-------------------+----------------+--------------+-------------+-------------------+-------------+------------+\n",
            "only showing top 2 rows\n",
            "\n",
            "+----+-----+---+-----------+-------+-------------+-----------+--------------+-------------------+-------------------+--------------+---------------+--------+----------+--------------+------------+--------+--------+---------+-------+-----------------+------------+-------------+--------+---------+-------------------+----------------+--------------+-------------+------------+\n",
            "|YEAR|MONTH|DAY|DAY_OF_WEEK|AIRLINE|FLIGHT_NUMBER|TAIL_NUMBER|ORIGIN_AIRPORT|DESTINATION_AIRPORT|SCHEDULED_DEPARTURE|DEPARTURE_TIME|DEPARTURE_DELAY|TAXI_OUT|WHEELS_OFF|SCHEDULED_TIME|ELAPSED_TIME|AIR_TIME|DISTANCE|WHEELS_ON|TAXI_IN|SCHEDULED_ARRIVAL|ARRIVAL_TIME|ARRIVAL_DELAY|DIVERTED|CANCELLED|CANCELLATION_REASON|AIR_SYSTEM_DELAY|SECURITY_DELAY|AIRLINE_DELAY|DURATION_HRS|\n",
            "+----+-----+---+-----------+-------+-------------+-----------+--------------+-------------------+-------------------+--------------+---------------+--------+----------+--------------+------------+--------+--------+---------+-------+-----------------+------------+-------------+--------+---------+-------------------+----------------+--------------+-------------+------------+\n",
            "|2015|    1|  1|          4|     WN|          526|     N742SW|           SFO|                DEN|                555|           553|             -2|      11|       604|           150|         150|     132|     967|      916|      7|              925|         923|           -2|       0|        0|               null|            null|          null|         null|         2.2|\n",
            "|2015|    1|  1|          4|     WN|         4122|     N486WN|           BOS|                BWI|                600|           556|             -4|      17|       613|           105|          83|      63|     369|      716|      3|              745|         719|          -26|       0|        0|               null|            null|          null|         null|        1.05|\n",
            "+----+-----+---+-----------+-------+-------------+-----------+--------------+-------------------+-------------------+--------------+---------------+--------+----------+--------------+------------+--------+--------+---------+-------+-----------------+------------+-------------+--------+---------+-------------------+----------------+--------------+-------------+------------+\n",
            "only showing top 2 rows\n",
            "\n",
            "+----+-----+---+-----------+-------+-------------+-----------+--------------+-------------------+-------------------+--------------+---------------+--------+----------+--------------+------------+--------+--------+---------+-------+-----------------+------------+-------------+--------+---------+-------------------+----------------+--------------+-------------+------------+\n",
            "|YEAR|MONTH|DAY|DAY_OF_WEEK|AIRLINE|FLIGHT_NUMBER|TAIL_NUMBER|ORIGIN_AIRPORT|DESTINATION_AIRPORT|SCHEDULED_DEPARTURE|DEPARTURE_TIME|DEPARTURE_DELAY|TAXI_OUT|WHEELS_OFF|SCHEDULED_TIME|ELAPSED_TIME|AIR_TIME|DISTANCE|WHEELS_ON|TAXI_IN|SCHEDULED_ARRIVAL|ARRIVAL_TIME|ARRIVAL_DELAY|DIVERTED|CANCELLED|CANCELLATION_REASON|AIR_SYSTEM_DELAY|SECURITY_DELAY|AIRLINE_DELAY|DURATION_HRS|\n",
            "+----+-----+---+-----------+-------+-------------+-----------+--------------+-------------------+-------------------+--------------+---------------+--------+----------+--------------+------------+--------+--------+---------+-------+-----------------+------------+-------------+--------+---------+-------------------+----------------+--------------+-------------+------------+\n",
            "|2015|    1|  1|          4|     WN|          526|     N742SW|           SFO|                DEN|                555|           553|             -2|      11|       604|           150|         150|     132|     967|      916|      7|              925|         923|           -2|       0|        0|               null|            null|          null|         null|         2.2|\n",
            "|2015|    1|  1|          4|     WN|         4122|     N486WN|           BOS|                BWI|                600|           556|             -4|      17|       613|           105|          83|      63|     369|      716|      3|              745|         719|          -26|       0|        0|               null|            null|          null|         null|        1.05|\n",
            "+----+-----+---+-----------+-------+-------------+-----------+--------------+-------------------+-------------------+--------------+---------------+--------+----------+--------------+------------+--------+--------+---------+-------+-----------------+------------+-------------+--------+---------+-------------------+----------------+--------------+-------------+------------+\n",
            "only showing top 2 rows\n",
            "\n"
          ]
        }
      ],
      "source": [
        "# dropping a column by passing column names\n",
        "drop1 = flights.drop('WEATHER_DELAY', 'LATE_AIRCRAFT_DELAY')\n",
        "\n",
        "# dropping columns by passing a list\n",
        "columns = ['WEATHER_DELAY', 'LATE_AIRCRAFT_DELAY']\n",
        "drop2 = flights.drop(*columns)\n",
        "# will this work if we remove * from before columns?\n",
        "# can we do a similar thing to select columns for this dataframe? \n",
        "# this can be helpful if we have to try different features when modeling\n",
        "\n",
        "flights.show(2)\n",
        "drop1.show(2)\n",
        "drop2.show(2)\n"
      ]
    },
    {
      "cell_type": "markdown",
      "metadata": {
        "id": "t3dQLvgHU94_"
      },
      "source": [
        "## Grouping and Aggregating data\n",
        "\n",
        "All of the common aggregation methods, like `.min()`, `.max()`, and `.count()` are `GroupedData` methods on certain columns, created by calling the `.groupBy()` method.\n",
        "\n",
        "PySpark has a whole class devoted to grouped data frames: `pyspark.sql.GroupedData`"
      ]
    },
    {
      "cell_type": "code",
      "execution_count": null,
      "metadata": {
        "colab": {
          "base_uri": "https://localhost:8080/"
        },
        "id": "wc8LPzciCHKg",
        "outputId": "8bc39640-09e1-4264-b287-d26dda64643a"
      },
      "outputs": [
        {
          "name": "stdout",
          "output_type": "stream",
          "text": [
            "+-------------+\n",
            "|min(TAXI_OUT)|\n",
            "+-------------+\n",
            "|            3|\n",
            "+-------------+\n",
            "\n",
            "+-------------+\n",
            "|max(TAXI_OUT)|\n",
            "+-------------+\n",
            "|          180|\n",
            "+-------------+\n",
            "\n",
            "+------------------+\n",
            "|     avg(TAXI_OUT)|\n",
            "+------------------+\n",
            "|27.009783223784442|\n",
            "+------------------+\n",
            "\n"
          ]
        }
      ],
      "source": [
        "# Find the Minimum time in Taxi from JFK\n",
        "flights.filter(flights.ORIGIN_AIRPORT==\"JFK\").groupBy().min(\"TAXI_OUT\").show()\n",
        "\n",
        "# Find the Maximum time in Taxi from JFK\n",
        "flights.filter(flights.ORIGIN_AIRPORT==\"JFK\").groupBy().max(\"TAXI_OUT\").show()\n",
        "\n",
        "# Find the Average time in Taxi from JFK\n",
        "flights.filter(flights.ORIGIN_AIRPORT==\"JFK\").groupBy().avg(\"TAXI_OUT\").show()\n"
      ]
    },
    {
      "cell_type": "markdown",
      "metadata": {
        "id": "g_J-ydZXU9v4"
      },
      "source": [
        "We have seen how to create a grouped DataFrame by calling the `.groupBy()` method on a DataFrame with no arguments. Now lets try passing some column names to it.\n"
      ]
    },
    {
      "cell_type": "code",
      "execution_count": null,
      "metadata": {
        "colab": {
          "base_uri": "https://localhost:8080/"
        },
        "id": "0O7gQxkkFPC_",
        "outputId": "bb358298-ff57-44d0-c465-2d023a5a451a"
      },
      "outputs": [
        {
          "name": "stdout",
          "output_type": "stream",
          "text": [
            "+--------------+------------------+\n",
            "|ORIGIN_AIRPORT|     avg(TAXI_OUT)|\n",
            "+--------------+------------------+\n",
            "|           BGM|15.818532818532818|\n",
            "|           INL|19.113274336283187|\n",
            "|         12888|13.538461538461538|\n",
            "|           MSY|10.976116059801011|\n",
            "|         12003|14.626315789473685|\n",
            "|         15041|               8.7|\n",
            "|           GEG|13.923337210531882|\n",
            "|           BUR|12.008937224076666|\n",
            "|           SNA|12.221841797777234|\n",
            "|           GRB|13.468399915451279|\n",
            "+--------------+------------------+\n",
            "only showing top 10 rows\n",
            "\n",
            "+--------------+------------------+\n",
            "|ORIGIN_AIRPORT|     avg(TAXI_OUT)|\n",
            "+--------------+------------------+\n",
            "|           JFK|27.009783223784442|\n",
            "|           LGA|26.721369750638914|\n",
            "|         12953|26.660011813349083|\n",
            "|         12478|23.677466150870405|\n",
            "|         13502|23.666666666666668|\n",
            "|           ITH|22.533333333333335|\n",
            "|           PHL|21.709365521700974|\n",
            "|           ISN| 20.99641862315957|\n",
            "|         12389|20.509090909090908|\n",
            "|           EWR|  20.1907141264468|\n",
            "+--------------+------------------+\n",
            "only showing top 10 rows\n",
            "\n"
          ]
        }
      ],
      "source": [
        "# Group by AIRLINE\n",
        "flights.groupBy('ORIGIN_AIRPORT').avg(\"TAXI_OUT\").show(10)\n",
        "\n",
        "# lets try to sort this based on average time\n",
        "# we already have pyspark.sql.functions imported as F\n",
        "flights.groupBy('ORIGIN_AIRPORT').avg(\"TAXI_OUT\").sort(F.desc('avg(TAXI_OUT)')).show(10)"
      ]
    },
    {
      "cell_type": "markdown",
      "metadata": {
        "id": "Ek6KdtujFVa8"
      },
      "source": [
        "In addition to the GroupedData methods, there is also the .agg() method. This method lets you pass an aggregate column expression that uses any of the aggregate functions from the pyspark.sql.functions submodule.\n",
        "\n",
        "This submodule contains many useful functions for computing things like standard deviations. All the aggregation functions in this submodule take the name of a column in a GroupedData table.\n"
      ]
    },
    {
      "cell_type": "code",
      "execution_count": null,
      "metadata": {
        "colab": {
          "base_uri": "https://localhost:8080/"
        },
        "id": "2-x7_tLfI8TF",
        "outputId": "90bd878b-069c-47dc-f7e0-40a3f01a2b1d"
      },
      "outputs": [
        {
          "name": "stdout",
          "output_type": "stream",
          "text": [
            "+--------------+------------------+\n",
            "|ORIGIN_AIRPORT|     avg(TAXI_OUT)|\n",
            "+--------------+------------------+\n",
            "|           JFK|27.009783223784442|\n",
            "|           LGA|26.721369750638914|\n",
            "|         12953|26.660011813349083|\n",
            "|         12478|23.677466150870405|\n",
            "|         13502|23.666666666666668|\n",
            "|           ITH|22.533333333333335|\n",
            "|           PHL|21.709365521700974|\n",
            "|           ISN| 20.99641862315957|\n",
            "|         12389|20.509090909090908|\n",
            "|           EWR|  20.1907141264468|\n",
            "+--------------+------------------+\n",
            "only showing top 10 rows\n",
            "\n",
            "+--------------+---------------------+\n",
            "|ORIGIN_AIRPORT|stddev_samp(TAXI_OUT)|\n",
            "+--------------+---------------------+\n",
            "|           MMH|    16.05318754706919|\n",
            "|         15497|   14.627987625713319|\n",
            "|           LGA|    14.44829164624525|\n",
            "|         12953|   14.311777482769433|\n",
            "|           JFK|   13.649207254602993|\n",
            "|           BRD|   13.364328796110769|\n",
            "|           PHL|   13.282167044588624|\n",
            "|         11537|   13.259437708386624|\n",
            "|         10577|   13.191757838931677|\n",
            "|           ILG|   12.514027962916773|\n",
            "+--------------+---------------------+\n",
            "only showing top 10 rows\n",
            "\n"
          ]
        }
      ],
      "source": [
        "# Import pyspark.sql.functions as F\n",
        "\n",
        "# Group by ORIGIN_AIRPORT\n",
        "orig_air = flights.groupBy(\"ORIGIN_AIRPORT\")\n",
        "\n",
        "# Average time in Taxi\n",
        "orig_air.avg(\"TAXI_OUT\").sort(F.desc('avg(TAXI_OUT)')).show(10)\n",
        "\n",
        "# Standard deviation of Taxi\n",
        "orig_air.agg(F.stddev(\"TAXI_OUT\")).sort(F.desc('stddev_samp(TAXI_OUT)')).show(10)"
      ]
    },
    {
      "cell_type": "markdown",
      "metadata": {
        "id": "KfCjuyoSKUpM"
      },
      "source": [
        "## Renaming a column\n",
        "We dont really like to see names like `stddev_samp(TAXI_OUT)` in our dataframes, so lets try to change it something better"
      ]
    },
    {
      "cell_type": "code",
      "execution_count": null,
      "metadata": {
        "colab": {
          "base_uri": "https://localhost:8080/"
        },
        "id": "mHDlxKzTKkyK",
        "outputId": "f04e608f-17fc-4de8-df83-8f541bc361e2"
      },
      "outputs": [
        {
          "name": "stdout",
          "output_type": "stream",
          "text": [
            "+--------------+---------------------+\n",
            "|ORIGIN_AIRPORT|stddev_samp(TAXI_OUT)|\n",
            "+--------------+---------------------+\n",
            "|           BGM|   10.418095289780277|\n",
            "|           INL|    9.711142832374387|\n",
            "+--------------+---------------------+\n",
            "only showing top 2 rows\n",
            "\n",
            "+--------------+------------------+\n",
            "|ORIGIN_AIRPORT|  STD_DEV_TAXI_OUT|\n",
            "+--------------+------------------+\n",
            "|           BGM|10.418095289780277|\n",
            "|           INL| 9.711142832374387|\n",
            "+--------------+------------------+\n",
            "only showing top 2 rows\n",
            "\n"
          ]
        }
      ],
      "source": [
        "new_df = orig_air.agg(F.stddev(\"TAXI_OUT\"))\n",
        "\n",
        "new_df.show(2)\n",
        "\n",
        "new_df = new_df.withColumnRenamed('stddev_samp(TAXI_OUT)', 'STD_DEV_TAXI_OUT')\n",
        "\n",
        "new_df.show(2)"
      ]
    },
    {
      "cell_type": "markdown",
      "metadata": {
        "id": "WX6ncUZGU9Yt"
      },
      "source": [
        "## Joining Multiple Dataframes\n",
        "\n",
        "Most of the times our fact data will have codes instead of actual names similar to the airport codes we have in our data. In order to gain proper insights, we have *join* these dataframes with reference dataframes\n",
        "\n",
        "In PySpark, joins are performed using the DataFrame method `.join()`. \n",
        "\n",
        "This method takes three arguments:\n",
        "* The first argument is the second DataFrame that you want to join with the first one.\n",
        "* The second argument, `on`, is the name of the key column(s) as a string. ***The names of the key column(s) must be the same in each table***.\n",
        "* The third argument, `how`, specifies the kind of join to perform.\n"
      ]
    },
    {
      "cell_type": "code",
      "execution_count": null,
      "metadata": {
        "colab": {
          "base_uri": "https://localhost:8080/"
        },
        "id": "gDbE2qIELZLV",
        "outputId": "45b47f76-88e0-4fc2-cb65-9f465ed506f6"
      },
      "outputs": [
        {
          "name": "stdout",
          "output_type": "stream",
          "text": [
            "+---------+--------------------+-----------+-----+-------+--------+----------+\n",
            "|IATA_CODE|             AIRPORT|       CITY|STATE|COUNTRY|LATITUDE| LONGITUDE|\n",
            "+---------+--------------------+-----------+-----+-------+--------+----------+\n",
            "|      ABE|Lehigh Valley Int...|  Allentown|   PA|    USA|40.65236|  -75.4404|\n",
            "|      ABI|Abilene Regional ...|    Abilene|   TX|    USA|32.41132|  -99.6819|\n",
            "|      ABQ|Albuquerque Inter...|Albuquerque|   NM|    USA|35.04022|-106.60919|\n",
            "|      ABR|Aberdeen Regional...|   Aberdeen|   SD|    USA|45.44906| -98.42183|\n",
            "|      ABY|Southwest Georgia...|     Albany|   GA|    USA|31.53552| -84.19447|\n",
            "+---------+--------------------+-----------+-----+-------+--------+----------+\n",
            "only showing top 5 rows\n",
            "\n"
          ]
        }
      ],
      "source": [
        "# Load the airports dataset\n",
        "airports = spark.read.csv('/content/drive/My Drive/Colab Datasets/PySpark Sessions/Kaggle_Flights_Data/airports.csv', inferSchema=True, header=True)\n",
        "\n",
        "# Examine the data\n",
        "airports.show(5)\n"
      ]
    },
    {
      "cell_type": "code",
      "execution_count": null,
      "metadata": {
        "colab": {
          "base_uri": "https://localhost:8080/"
        },
        "id": "xkTqmcYTMcoz",
        "outputId": "06b19361-1a98-41b2-f47b-18c0bf03e08d"
      },
      "outputs": [
        {
          "name": "stdout",
          "output_type": "stream",
          "text": [
            "+--------------+----+-----+---+-----------+-------+-------------+-----------+-------------------+-------------------+--------------+---------------+--------+----------+--------------+------------+--------+--------+---------+-------+-----------------+------------+-------------+--------+---------+-------------------+----------------+--------------+-------------+-------------------+-------------+------------------+--------------------+-------------+-----+-------+--------+----------+\n",
            "|ORIGIN_AIRPORT|YEAR|MONTH|DAY|DAY_OF_WEEK|AIRLINE|FLIGHT_NUMBER|TAIL_NUMBER|DESTINATION_AIRPORT|SCHEDULED_DEPARTURE|DEPARTURE_TIME|DEPARTURE_DELAY|TAXI_OUT|WHEELS_OFF|SCHEDULED_TIME|ELAPSED_TIME|AIR_TIME|DISTANCE|WHEELS_ON|TAXI_IN|SCHEDULED_ARRIVAL|ARRIVAL_TIME|ARRIVAL_DELAY|DIVERTED|CANCELLED|CANCELLATION_REASON|AIR_SYSTEM_DELAY|SECURITY_DELAY|AIRLINE_DELAY|LATE_AIRCRAFT_DELAY|WEATHER_DELAY|      DURATION_HRS|             AIRPORT|         CITY|STATE|COUNTRY|LATITUDE| LONGITUDE|\n",
            "+--------------+----+-----+---+-----------+-------+-------------+-----------+-------------------+-------------------+--------------+---------------+--------+----------+--------------+------------+--------+--------+---------+-------+-----------------+------------+-------------+--------+---------+-------------------+----------------+--------------+-------------+-------------------+-------------+------------------+--------------------+-------------+-----+-------+--------+----------+\n",
            "|           SFO|2015|    1|  1|          4|     WN|          526|     N742SW|                DEN|                555|           553|             -2|      11|       604|           150|         150|     132|     967|      916|      7|              925|         923|           -2|       0|        0|               null|            null|          null|         null|               null|         null|               2.2|San Francisco Int...|San Francisco|   CA|    USA|  37.619|-122.37484|\n",
            "|           BOS|2015|    1|  1|          4|     WN|         4122|     N486WN|                BWI|                600|           556|             -4|      17|       613|           105|          83|      63|     369|      716|      3|              745|         719|          -26|       0|        0|               null|            null|          null|         null|               null|         null|              1.05|Gen. Edward Lawre...|       Boston|   MA|    USA|42.36435| -71.00518|\n",
            "|           LAS|2015|    1|  1|          4|     WN|         4822|     N293WN|                BWI|                600|           602|              2|      10|       612|           270|         243|     230|    2106|     1302|      3|             1330|        1305|          -25|       0|        0|               null|            null|          null|         null|               null|         null|3.8333333333333335|McCarran Internat...|    Las Vegas|   NV|    USA|36.08036|-115.15233|\n",
            "|           ABQ|2015|    1|  1|          4|     WN|         2215|     N249WN|                HOU|                600|           607|              7|      29|       636|           120|         135|     103|     759|      919|      3|              900|         922|           22|       0|        0|               null|              15|             0|            7|                  0|            0|1.7166666666666666|Albuquerque Inter...|  Albuquerque|   NM|    USA|35.04022|-106.60919|\n",
            "|           PHX|2015|    1|  1|          4|     WN|          676|     N630WN|                SLC|                600|           601|              1|       9|       610|            95|          88|      76|     507|      726|      3|              735|         729|           -6|       0|        0|               null|            null|          null|         null|               null|         null|1.2666666666666666|Phoenix Sky Harbo...|      Phoenix|   AZ|    USA|33.43417|-112.00806|\n",
            "+--------------+----+-----+---+-----------+-------+-------------+-----------+-------------------+-------------------+--------------+---------------+--------+----------+--------------+------------+--------+--------+---------+-------+-----------------+------------+-------------+--------+---------+-------------------+----------------+--------------+-------------+-------------------+-------------+------------------+--------------------+-------------+-----+-------+--------+----------+\n",
            "only showing top 5 rows\n",
            "\n",
            "+----------------------------------------------------------------------+------------------+\n",
            "|AIRPORT                                                               |avg(TAXI_OUT)     |\n",
            "+----------------------------------------------------------------------+------------------+\n",
            "|John F. Kennedy International Airport (New York International Airport)|27.009783223784442|\n",
            "|LaGuardia Airport (Marine Air Terminal)                               |26.721369750638914|\n",
            "|Ithaca Tompkins Regional Airport                                      |22.533333333333335|\n",
            "|Philadelphia International Airport                                    |21.709365521700974|\n",
            "|Sloulin Field International Airport                                   |20.99641862315957 |\n",
            "|Newark Liberty International Airport                                  |20.1907141264468  |\n",
            "|Gen. Edward Lawrence Logan International Airport                      |20.019864843029723|\n",
            "|Charlotte Douglas International Airport                               |19.65315292624198 |\n",
            "|Chicago O'Hare International Airport                                  |19.545272993374333|\n",
            "|Chippewa County International Airport                                 |19.445561139028477|\n",
            "+----------------------------------------------------------------------+------------------+\n",
            "only showing top 10 rows\n",
            "\n"
          ]
        }
      ],
      "source": [
        "# Rename the airport code column\n",
        "airports1 = airports.withColumnRenamed(\"IATA_CODE\", \"ORIGIN_AIRPORT\")\n",
        "\n",
        "# Join the DataFrames\n",
        "flights_with_airports = flights.join(airports1, on=\"ORIGIN_AIRPORT\",how=\"leftouter\")\n",
        "\n",
        "# Examine the new DataFrame\n",
        "flights_with_airports.show(5)\n",
        "\n",
        "# Perform grouping on Airport Name\n",
        "flights_with_airports.groupBy('AIRPORT').avg(\"TAXI_OUT\").sort(F.desc('avg(TAXI_OUT)')).show(10, truncate=0)"
      ]
    },
    {
      "cell_type": "markdown",
      "metadata": {
        "id": "wv2zBO3xaoQ8"
      },
      "source": [
        "## Using broadcasting on Spark joins\n",
        "Remember that table joins in Spark are split between the cluster workers. If the data is not local, various shuffle operations are required and can have a negative impact on performance. Instead, we're going to use Spark's broadcast operations to give each node a copy of the specified data.\n",
        "\n",
        "A couple tips:\n",
        "\n",
        "Broadcast the smaller DataFrame. The larger the DataFrame, the more time required to transfer to the worker nodes.\n",
        "\n",
        "If we dont have small DataFrames, it may be better skip broadcasting and let Spark figure out any optimization on its own.\n",
        "\n",
        "If you look at the query execution plan, a broadcastHashJoin indicates you've successfully configured broadcasting.\n"
      ]
    },
    {
      "cell_type": "code",
      "execution_count": null,
      "metadata": {
        "colab": {
          "base_uri": "https://localhost:8080/"
        },
        "id": "em4qYyftg4Ur",
        "outputId": "53a75575-d323-4669-dc05-7ca2f02b43da"
      },
      "outputs": [
        {
          "name": "stdout",
          "output_type": "stream",
          "text": [
            "== Physical Plan ==\n",
            "AdaptiveSparkPlan isFinalPlan=false\n",
            "+- BroadcastHashJoin [DESTINATION_AIRPORT#579], [IATA_CODE#2474], Inner, BuildRight, false\n",
            "   :- Project [YEAR#571, MONTH#572, DAY#573, DAY_OF_WEEK#574, AIRLINE#575, FLIGHT_NUMBER#576, TAIL_NUMBER#577, ORIGIN_AIRPORT#578, DESTINATION_AIRPORT#579, SCHEDULED_DEPARTURE#580, DEPARTURE_TIME#581, DEPARTURE_DELAY#582, TAXI_OUT#583, WHEELS_OFF#584, SCHEDULED_TIME#585, ELAPSED_TIME#586, AIR_TIME#587, DISTANCE#588, WHEELS_ON#589, TAXI_IN#590, SCHEDULED_ARRIVAL#591, ARRIVAL_TIME#592, ARRIVAL_DELAY#593, DIVERTED#594, ... 8 more fields]\n",
            "   :  +- Filter isnotnull(DESTINATION_AIRPORT#579)\n",
            "   :     +- FileScan parquet [YEAR#571,MONTH#572,DAY#573,DAY_OF_WEEK#574,AIRLINE#575,FLIGHT_NUMBER#576,TAIL_NUMBER#577,ORIGIN_AIRPORT#578,DESTINATION_AIRPORT#579,SCHEDULED_DEPARTURE#580,DEPARTURE_TIME#581,DEPARTURE_DELAY#582,TAXI_OUT#583,WHEELS_OFF#584,SCHEDULED_TIME#585,ELAPSED_TIME#586,AIR_TIME#587,DISTANCE#588,WHEELS_ON#589,TAXI_IN#590,SCHEDULED_ARRIVAL#591,ARRIVAL_TIME#592,ARRIVAL_DELAY#593,DIVERTED#594,... 7 more fields] Batched: true, DataFilters: [isnotnull(DESTINATION_AIRPORT#579)], Format: Parquet, Location: InMemoryFileIndex(1 paths)[file:/content/drive/My Drive/Colab Datasets/PySpark Sessions/Flights_D..., PartitionFilters: [], PushedFilters: [IsNotNull(DESTINATION_AIRPORT)], ReadSchema: struct<YEAR:int,MONTH:int,DAY:int,DAY_OF_WEEK:int,AIRLINE:string,FLIGHT_NUMBER:int,TAIL_NUMBER:st...\n",
            "   +- BroadcastExchange HashedRelationBroadcastMode(List(input[0, string, false]),false), [id=#1110]\n",
            "      +- Filter isnotnull(IATA_CODE#2474)\n",
            "         +- FileScan csv [IATA_CODE#2474,AIRPORT#2475,CITY#2476,STATE#2477,COUNTRY#2478,LATITUDE#2479,LONGITUDE#2480] Batched: false, DataFilters: [isnotnull(IATA_CODE#2474)], Format: CSV, Location: InMemoryFileIndex(1 paths)[file:/content/drive/My Drive/Colab Datasets/PySpark Sessions/Kaggle_Fl..., PartitionFilters: [], PushedFilters: [IsNotNull(IATA_CODE)], ReadSchema: struct<IATA_CODE:string,AIRPORT:string,CITY:string,STATE:string,COUNTRY:string,LATITUDE:double,LO...\n",
            "\n",
            "\n"
          ]
        }
      ],
      "source": [
        "# Import the broadcast method from pyspark.sql.functions\n",
        "from pyspark.sql.functions import broadcast\n",
        "\n",
        "# Join the flights_df and airports_df DataFrames using broadcasting\n",
        "broadcast_df = flights.join(broadcast(airports), \\\n",
        "    flights[\"DESTINATION_AIRPORT\"] == airports[\"IATA_CODE\"] )\n",
        "\n",
        "# Show the query plan and compare against the original\n",
        "broadcast_df.explain()"
      ]
    },
    {
      "cell_type": "markdown",
      "metadata": {
        "id": "Lg7H4MmJg4mn"
      },
      "source": [
        "#### Comparing broadcast vs normal joins\n",
        "We have created two types of joins, normal and broadcasted. Now we would like to know what the performance improvement is by using Spark optimizations. \n",
        "\n",
        "Looking at the below doesn't seem to be any major improvement but that is because we are running in a local machine without any actual master worker setup."
      ]
    },
    {
      "cell_type": "code",
      "execution_count": null,
      "metadata": {
        "colab": {
          "base_uri": "https://localhost:8080/"
        },
        "id": "kFTWeEOig490",
        "outputId": "06615a53-b405-4192-9467-1b40caae0358"
      },
      "outputs": [
        {
          "name": "stdout",
          "output_type": "stream",
          "text": [
            "Normal count:\t\t5819079\tduration: 1.650217\n",
            "Broadcast count:\t5332914\tduration: 1.691223\n"
          ]
        }
      ],
      "source": [
        "start_time = time.time()\n",
        "# Count the number of rows in the normal DataFrame\n",
        "normal_count = flights_with_airports.count()\n",
        "normal_duration = time.time() - start_time\n",
        "\n",
        "start_time = time.time()\n",
        "# Count the number of rows in the broadcast DataFrame\n",
        "broadcast_count = broadcast_df.count()\n",
        "broadcast_duration = time.time() - start_time\n",
        "\n",
        "# Print the counts and the duration of the tests\n",
        "print(\"Normal count:\\t\\t%d\\tduration: %f\" % (normal_count, normal_duration))\n",
        "print(\"Broadcast count:\\t%d\\tduration: %f\" % (broadcast_count, broadcast_duration))"
      ]
    },
    {
      "cell_type": "markdown",
      "metadata": {
        "id": "HKXAUz6dOpYG"
      },
      "source": [
        "#### Checking for Bad Joins\n",
        "\n",
        "We need to be very careful when working with the joins. Often incorrect joins will not give any error but the output will be very different from expected.\n",
        "\n",
        "* **One to many joins** - when performing left join, if our right table has duplications in join key column then this can result in number of rows being higher then original dataframe. *It is one of the most common mistake when joining multiple tables!*\n",
        "* **many to many joins** - another common issue when joining tables is when both left and right tables have duplications in joining keys. This results in # rows being multipled by the number of duplicated rows in both left and right table\n",
        "* **Selecting proper left or right table when performing left or right join** - remember, when performing a left join, the table which you want to retain in its entirety goes as first table and the second table goes inside the bracket. Similarly for right join.\n",
        "\n",
        "careful when joining over decimal values. If the precision level is diffrent between the tables then it can lead to duplication in rows."
      ]
    },
    {
      "cell_type": "markdown",
      "metadata": {
        "id": "wxMf-GHfUx6n"
      },
      "source": [
        "## Dropping Duplicate rows\n"
      ]
    },
    {
      "cell_type": "code",
      "execution_count": null,
      "metadata": {
        "colab": {
          "base_uri": "https://localhost:8080/"
        },
        "id": "56nn-P_FWwS2",
        "outputId": "7ea444a5-e6ac-4546-b436-a3e0fe73b322"
      },
      "outputs": [
        {
          "name": "stdout",
          "output_type": "stream",
          "text": [
            "322\n",
            "54\n"
          ]
        }
      ],
      "source": [
        "# distinct will de dup the dataframe by taking all the columns into consideration\n",
        "print(airports.distinct().count())\n",
        "\n",
        "# we can pass a subset of columns in dropDuplicates which needs to be considered for de duplicating the Dataframe\n",
        "print(airports.dropDuplicates(['STATE']).count())\n"
      ]
    },
    {
      "cell_type": "markdown",
      "metadata": {
        "id": "hODe91lOYHrX"
      },
      "source": [
        "## Summary statistics \n",
        "we can create summary statistics for required or all columns of a dataframe using the `.describe()` method\n",
        "\n",
        "Note: Summary statistics is provided for numeric data only"
      ]
    },
    {
      "cell_type": "code",
      "execution_count": null,
      "metadata": {
        "colab": {
          "base_uri": "https://localhost:8080/"
        },
        "id": "P34sDxKyYM3k",
        "outputId": "b899b873-b6b0-48b0-87b5-d4c2ef9f109c"
      },
      "outputs": [
        {
          "name": "stdout",
          "output_type": "stream",
          "text": [
            "+-------+-----------------+------------------+\n",
            "|summary|         TAXI_OUT|           TAXI_IN|\n",
            "+-------+-----------------+------------------+\n",
            "|  count|          5730032|           5726566|\n",
            "|   mean|16.07166225249702|7.4349708010001105|\n",
            "| stddev|8.895574065449965| 5.638547687322167|\n",
            "|    min|                1|                 1|\n",
            "|    max|              225|               248|\n",
            "+-------+-----------------+------------------+\n",
            "\n"
          ]
        }
      ],
      "source": [
        "flights.select('TAXI_OUT','TAXI_IN').describe().show()"
      ]
    },
    {
      "cell_type": "code",
      "execution_count": null,
      "metadata": {
        "colab": {
          "base_uri": "https://localhost:8080/"
        },
        "id": "iHGJZJa5ZHVQ",
        "outputId": "e69d0576-882b-4bb5-f8be-6d3228b12168"
      },
      "outputs": [
        {
          "name": "stdout",
          "output_type": "stream",
          "text": [
            "+-------+-----------------+------------------+-------+\n",
            "|summary|         TAXI_OUT|           TAXI_IN|AIRLINE|\n",
            "+-------+-----------------+------------------+-------+\n",
            "|  count|          5730032|           5726566|5819079|\n",
            "|   mean|16.07166225249702|7.4349708010001105|   null|\n",
            "| stddev|8.895574065449965| 5.638547687322167|   null|\n",
            "|    min|                1|                 1|     AA|\n",
            "|    max|              225|               248|     WN|\n",
            "+-------+-----------------+------------------+-------+\n",
            "\n"
          ]
        }
      ],
      "source": [
        "flights.describe(['TAXI_OUT','TAXI_IN','AIRLINE']).show()"
      ]
    },
    {
      "cell_type": "markdown",
      "metadata": {
        "id": "6Y_4eMOo-6MX"
      },
      "source": [
        "# **Running SQL queries in PySpark**\n",
        "---\n"
      ]
    },
    {
      "cell_type": "markdown",
      "metadata": {
        "id": "JBIYjSfP2tM_"
      },
      "source": [
        "## Creating SQL tables\n",
        "\n",
        "One of the advantages of the DataFrame interface is that we can run SQL queries on the tables in the Spark cluster. However, we cannot do so directly on the spark Dataframe but need to create a temporary table on top of the Spark Dataframe.\n",
        "\n",
        "Using SQL in PySpark makes the program concise, easy to understand and *portable* (example if you have to move from AWS Glue to Athena, it can be easily done)\n"
      ]
    },
    {
      "cell_type": "code",
      "execution_count": null,
      "metadata": {
        "id": "kRbwmoZX3an8"
      },
      "outputs": [],
      "source": [
        "flights.createOrReplaceTempView('flights')"
      ]
    },
    {
      "cell_type": "markdown",
      "metadata": {
        "id": "IHHx_BlcU8Mv"
      },
      "source": [
        "## List tables in catalog\n",
        "Your `SparkSession` has an attribute called `catalog` which lists all the data inside the cluster. This attribute has a few methods for extracting different pieces of information, and one of the most useful is the `.listTables()` method, which returns the names of all the tables in the cluster as a `list`.\n"
      ]
    },
    {
      "cell_type": "code",
      "execution_count": null,
      "metadata": {
        "colab": {
          "base_uri": "https://localhost:8080/"
        },
        "id": "3u3B3oM93on4",
        "outputId": "f7c81dd8-6ea6-48f4-c9a6-3117f05018e1"
      },
      "outputs": [
        {
          "name": "stdout",
          "output_type": "stream",
          "text": [
            "[Table(name='flights', database=None, description=None, tableType='TEMPORARY', isTemporary=True)]\n"
          ]
        }
      ],
      "source": [
        "# Print the tables in the catalog\n",
        "print(spark.catalog.listTables())\n"
      ]
    },
    {
      "cell_type": "markdown",
      "metadata": {
        "id": "Rlgsp0vp34al"
      },
      "source": [
        "## Running SQL queries\n",
        "\n",
        "To run a query on this table, all we need to do is pass the sql query as a string to the `sql()` method in the `SparkSession`. This method takes a string containing the query and returns a DataFrame with the results.\n",
        "\n",
        "A good command over SQL is a must in data science industry and if you are not already familier with it, practising them on the PySpark can be helpful."
      ]
    },
    {
      "cell_type": "code",
      "execution_count": null,
      "metadata": {
        "colab": {
          "base_uri": "https://localhost:8080/"
        },
        "id": "D91I-zPbOVC3",
        "outputId": "b6fa3174-9d32-4214-d6e3-8e52502d0cb7"
      },
      "outputs": [
        {
          "name": "stdout",
          "output_type": "stream",
          "text": [
            "+----+-----+---+-----------+-------+-------------+-----------+--------------+-------------------+-------------------+--------------+---------------+--------+----------+--------------+------------+--------+--------+---------+-------+-----------------+------------+-------------+--------+---------+-------------------+----------------+--------------+-------------+-------------------+-------------+------------------+\n",
            "|YEAR|MONTH|DAY|DAY_OF_WEEK|AIRLINE|FLIGHT_NUMBER|TAIL_NUMBER|ORIGIN_AIRPORT|DESTINATION_AIRPORT|SCHEDULED_DEPARTURE|DEPARTURE_TIME|DEPARTURE_DELAY|TAXI_OUT|WHEELS_OFF|SCHEDULED_TIME|ELAPSED_TIME|AIR_TIME|DISTANCE|WHEELS_ON|TAXI_IN|SCHEDULED_ARRIVAL|ARRIVAL_TIME|ARRIVAL_DELAY|DIVERTED|CANCELLED|CANCELLATION_REASON|AIR_SYSTEM_DELAY|SECURITY_DELAY|AIRLINE_DELAY|LATE_AIRCRAFT_DELAY|WEATHER_DELAY|      DURATION_HRS|\n",
            "+----+-----+---+-----------+-------+-------------+-----------+--------------+-------------------+-------------------+--------------+---------------+--------+----------+--------------+------------+--------+--------+---------+-------+-----------------+------------+-------------+--------+---------+-------------------+----------------+--------------+-------------+-------------------+-------------+------------------+\n",
            "|2015|    1|  1|          4|     WN|          526|     N742SW|           SFO|                DEN|                555|           553|             -2|      11|       604|           150|         150|     132|     967|      916|      7|              925|         923|           -2|       0|        0|               null|            null|          null|         null|               null|         null|               2.2|\n",
            "|2015|    1|  1|          4|     WN|         4122|     N486WN|           BOS|                BWI|                600|           556|             -4|      17|       613|           105|          83|      63|     369|      716|      3|              745|         719|          -26|       0|        0|               null|            null|          null|         null|               null|         null|              1.05|\n",
            "|2015|    1|  1|          4|     WN|         4822|     N293WN|           LAS|                BWI|                600|           602|              2|      10|       612|           270|         243|     230|    2106|     1302|      3|             1330|        1305|          -25|       0|        0|               null|            null|          null|         null|               null|         null|3.8333333333333335|\n",
            "|2015|    1|  1|          4|     WN|         2215|     N249WN|           ABQ|                HOU|                600|           607|              7|      29|       636|           120|         135|     103|     759|      919|      3|              900|         922|           22|       0|        0|               null|              15|             0|            7|                  0|            0|1.7166666666666666|\n",
            "|2015|    1|  1|          4|     WN|          676|     N630WN|           PHX|                SLC|                600|           601|              1|       9|       610|            95|          88|      76|     507|      726|      3|              735|         729|           -6|       0|        0|               null|            null|          null|         null|               null|         null|1.2666666666666666|\n",
            "|2015|    1|  1|          4|     WN|         2787|     N910WN|           PIT|                FLL|                600|           559|             -1|       9|       608|           170|         145|     132|     994|      820|      4|              850|         824|          -26|       0|        0|               null|            null|          null|         null|               null|         null|               2.2|\n",
            "|2015|    1|  1|          4|     WN|         4859|     N8641B|           PVD|                BWI|                600|           606|              6|      11|       617|           100|          81|      63|     327|      720|      7|              740|         727|          -13|       0|        0|               null|            null|          null|         null|               null|         null|              1.05|\n",
            "|2015|    1|  1|          4|     WN|          597|     N768SW|           SFO|                ATL|                600|           554|             -6|       9|       603|           280|         270|     253|    2139|     1316|      8|             1340|        1324|          -16|       0|        0|               null|            null|          null|         null|               null|         null| 4.216666666666667|\n",
            "|2015|    1|  1|          4|     WN|         2505|     N467WN|           GEG|                DEN|                605|           604|             -1|      14|       618|           140|         132|     111|     836|      909|      7|              925|         916|           -9|       0|        0|               null|            null|          null|         null|               null|         null|              1.85|\n",
            "|2015|    1|  1|          4|     WN|          239|     N653SW|           SAT|                STL|                605|           559|             -6|       9|       608|           120|         104|      91|     786|      739|      4|              805|         743|          -22|       0|        0|               null|            null|          null|         null|               null|         null|1.5166666666666666|\n",
            "+----+-----+---+-----------+-------+-------------+-----------+--------------+-------------------+-------------------+--------------+---------------+--------+----------+--------------+------------+--------+--------+---------+-------+-----------------+------------+-------------+--------+---------+-------------------+----------------+--------------+-------------+-------------------+-------------+------------------+\n",
            "\n"
          ]
        }
      ],
      "source": [
        "sql_query = \"FROM flights SELECT * LIMIT 10\"\n",
        "\n",
        "# Get the first 10 rows\n",
        "dat10 = spark.sql(sql_query)\n",
        "\n",
        "# Show the results\n",
        "dat10.show()"
      ]
    },
    {
      "cell_type": "markdown",
      "metadata": {
        "id": "E2Izv0iaOSn8"
      },
      "source": [
        "## Spark SQL Join\n",
        "Sometimes it is much easier to write complex joins in SQL. \n"
      ]
    },
    {
      "cell_type": "code",
      "execution_count": null,
      "metadata": {
        "colab": {
          "base_uri": "https://localhost:8080/"
        },
        "id": "slmSiGNcOhyc",
        "outputId": "7b2a3acd-0a1a-4fe1-84b6-360d4d1ca24e"
      },
      "outputs": [
        {
          "name": "stdout",
          "output_type": "stream",
          "text": [
            "+----------------------------------------------------------------------+------------------+\n",
            "|AIRPORT                                                               |AVG_TAXI_OUT      |\n",
            "+----------------------------------------------------------------------+------------------+\n",
            "|John F. Kennedy International Airport (New York International Airport)|27.009783223784442|\n",
            "|LaGuardia Airport (Marine Air Terminal)                               |26.721369750638914|\n",
            "|Ithaca Tompkins Regional Airport                                      |22.533333333333335|\n",
            "|Philadelphia International Airport                                    |21.709365521700974|\n",
            "|Sloulin Field International Airport                                   |20.99641862315957 |\n",
            "|Newark Liberty International Airport                                  |20.1907141264468  |\n",
            "|Gen. Edward Lawrence Logan International Airport                      |20.019864843029723|\n",
            "|Charlotte Douglas International Airport                               |19.65315292624198 |\n",
            "|Chicago O'Hare International Airport                                  |19.545272993374333|\n",
            "|Chippewa County International Airport                                 |19.445561139028477|\n",
            "+----------------------------------------------------------------------+------------------+\n",
            "only showing top 10 rows\n",
            "\n"
          ]
        }
      ],
      "source": [
        "# Register airports tables\n",
        "airports.createOrReplaceTempView('airports')\n",
        "\n",
        "# SQL to join dataframes\n",
        "join_sql = \t\"\"\"\n",
        "\t\t\tSELECT \n",
        "\t\t\t\tAIRPORT, avg(TAXI_OUT) as AVG_TAXI_OUT\n",
        "\t\t\tFROM flights\n",
        "\t\t\tLEFT JOIN airports\n",
        "\t\t\tON flights.ORIGIN_AIRPORT = airports.IATA_CODE\n",
        "      GROUP BY AIRPORT\n",
        "      ORDER BY AVG_TAXI_OUT desc\n",
        "\t\t\t\"\"\"\n",
        "\n",
        "# Perform sql join\n",
        "joined_df = spark.sql(join_sql)\n",
        "\n",
        "joined_df.show(10, truncate=False)"
      ]
    },
    {
      "cell_type": "markdown",
      "metadata": {
        "id": "93hgydoI-7km"
      },
      "source": [
        "## Convert a Spark DataFrame to Pandas DataFrame\n",
        "\n",
        "Suppose you've run a query on your huge dataset and aggregated it down to something a little more manageable.\n",
        "\n",
        "Sometimes it makes sense to then take that table and work with it locally using a tool like pandas. Spark DataFrames make that easy with the .toPandas() method. Calling this method on a Spark DataFrame returns the corresponding pandas DataFrame.\n",
        "\n",
        "We will see more applications of this later"
      ]
    },
    {
      "cell_type": "code",
      "execution_count": null,
      "metadata": {
        "colab": {
          "base_uri": "https://localhost:8080/",
          "height": 206
        },
        "id": "7sUVptLL8Z4n",
        "outputId": "c7aef4ba-e99d-4f8b-a3a0-fdf0f7c01ac9"
      },
      "outputs": [
        {
          "data": {
            "text/html": [
              "<div>\n",
              "<style scoped>\n",
              "    .dataframe tbody tr th:only-of-type {\n",
              "        vertical-align: middle;\n",
              "    }\n",
              "\n",
              "    .dataframe tbody tr th {\n",
              "        vertical-align: top;\n",
              "    }\n",
              "\n",
              "    .dataframe thead th {\n",
              "        text-align: right;\n",
              "    }\n",
              "</style>\n",
              "<table border=\"1\" class=\"dataframe\">\n",
              "  <thead>\n",
              "    <tr style=\"text-align: right;\">\n",
              "      <th></th>\n",
              "      <th>AIRLINE</th>\n",
              "      <th>Num_Flights</th>\n",
              "    </tr>\n",
              "  </thead>\n",
              "  <tbody>\n",
              "    <tr>\n",
              "      <th>0</th>\n",
              "      <td>WN</td>\n",
              "      <td>1261855</td>\n",
              "    </tr>\n",
              "    <tr>\n",
              "      <th>1</th>\n",
              "      <td>DL</td>\n",
              "      <td>875881</td>\n",
              "    </tr>\n",
              "    <tr>\n",
              "      <th>2</th>\n",
              "      <td>AA</td>\n",
              "      <td>725984</td>\n",
              "    </tr>\n",
              "    <tr>\n",
              "      <th>3</th>\n",
              "      <td>OO</td>\n",
              "      <td>588353</td>\n",
              "    </tr>\n",
              "    <tr>\n",
              "      <th>4</th>\n",
              "      <td>EV</td>\n",
              "      <td>571977</td>\n",
              "    </tr>\n",
              "  </tbody>\n",
              "</table>\n",
              "</div>"
            ],
            "text/plain": [
              "  AIRLINE  Num_Flights\n",
              "0      WN      1261855\n",
              "1      DL       875881\n",
              "2      AA       725984\n",
              "3      OO       588353\n",
              "4      EV       571977"
            ]
          },
          "execution_count": 41,
          "metadata": {},
          "output_type": "execute_result"
        }
      ],
      "source": [
        "pd_dat = spark.sql(\"\"\"SELECT AIRLINE, COUNT(*) as Num_Flights\n",
        "                      FROM flights\n",
        "                      GROUP BY 1 ORDER BY 2 DESC\"\"\").toPandas()\n",
        "\n",
        "pd_dat.head()"
      ]
    },
    {
      "cell_type": "markdown",
      "metadata": {
        "id": "_AT8TKbP-7v-"
      },
      "source": [
        "## Pandas to Spark DataFrame\n",
        "\n",
        "We just saw how to move data from Spark to pandas. However, maybe you want to go the other direction, and put a pandas DataFrame into a Spark cluster. The SparkSession class has a method for this as well.\n",
        "\n",
        "The .createDataFrame() method takes a pandas DataFrame and returns a Spark DataFrame."
      ]
    },
    {
      "cell_type": "code",
      "execution_count": null,
      "metadata": {
        "colab": {
          "base_uri": "https://localhost:8080/"
        },
        "id": "AqeEq1HVQKUA",
        "outputId": "978c05d2-a4ed-41a5-dd6c-5ef541dea133"
      },
      "outputs": [
        {
          "name": "stdout",
          "output_type": "stream",
          "text": [
            "[Table(name='airports', database=None, description=None, tableType='TEMPORARY', isTemporary=True), Table(name='flights', database=None, description=None, tableType='TEMPORARY', isTemporary=True)]\n",
            "[Table(name='airports', database=None, description=None, tableType='TEMPORARY', isTemporary=True), Table(name='flights', database=None, description=None, tableType='TEMPORARY', isTemporary=True), Table(name='temp', database=None, description=None, tableType='TEMPORARY', isTemporary=True)]\n"
          ]
        }
      ],
      "source": [
        "# Create pd_temp as a collection of random numbers\n",
        "pd_temp = pd.DataFrame(np.random.random(10))\n",
        "\n",
        "# Create spark_temp from pd_temp\n",
        "spark_temp = spark.createDataFrame(pd_temp)\n",
        "\n",
        "# Examine the tables in the catalog\n",
        "print(spark.catalog.listTables())\n",
        "\n",
        "# Add spark_temp to the catalog\n",
        "spark_temp.createOrReplaceTempView(\"temp\")\n",
        "\n",
        "# Examine the tables in the catalog again\n",
        "print(spark.catalog.listTables())"
      ]
    },
    {
      "cell_type": "code",
      "execution_count": null,
      "metadata": {
        "colab": {
          "base_uri": "https://localhost:8080/"
        },
        "id": "aXvNQ2KNIp1-",
        "outputId": "a9cc3d88-14ef-468f-d1da-3d949c397161"
      },
      "outputs": [
        {
          "name": "stdout",
          "output_type": "stream",
          "text": [
            "[Table(name='airports', database=None, description=None, tableType='TEMPORARY', isTemporary=True), Table(name='flights', database=None, description=None, tableType='TEMPORARY', isTemporary=True)]\n"
          ]
        }
      ],
      "source": [
        "# Dropping a temporary table\n",
        "spark.catalog.dropTempView('temp')\n",
        "print(spark.catalog.listTables())"
      ]
    },
    {
      "cell_type": "markdown",
      "metadata": {
        "id": "rOrF_j8SeQXp"
      },
      "source": [
        "# Cleaning Data with PySpark\n",
        "---"
      ]
    },
    {
      "cell_type": "markdown",
      "metadata": {
        "id": "fE7w9ArDBEWz"
      },
      "source": [
        "Let us import another dataset with larger number of columns and more variable data. We will utiliize our knowledge from previous section to prepare this dataset for any real output."
      ]
    },
    {
      "cell_type": "code",
      "execution_count": null,
      "metadata": {
        "colab": {
          "base_uri": "https://localhost:8080/"
        },
        "id": "1zTYEZlNBleH",
        "outputId": "676eb5ed-3902-4b83-a1fb-370d74e68f7a"
      },
      "outputs": [
        {
          "name": "stdout",
          "output_type": "stream",
          "text": [
            "+----+-----+-------------------+--------------------+----------+----------+---------------+----------------+---------------+----------+---------+---------------+-----------------+------------+--------------+-----+---------+--------------------+--------------------+------------+-------------+----------+---------+--------------------+--------------------+----------+------------------+--------------------+----+--------------------+---------------+-----+----------+---------+------------------+-------+----------+----------+---------+--------------------+--------------------+-----+------------------+--------------------+----------------+--------------+---------+------------+----------+----------+---------+---------------------+--------------------+---------+---------+-----------+-----------------+-----+----------+--------------------+---------+----------+---------+----------+---------+----------+---------+----------+--------+---------------+-----------------+--------------+-----------------+-----------------+\n",
            "| No.|MLSID|StreetNumberNumeric|       streetaddress|STREETNAME|PostalCode|StateOrProvince|            City|SalesClosePrice|  LISTDATE|LISTPRICE|       LISTTYPE|OriginalListPrice|PricePerTSFT|FOUNDATIONSIZE|FENCE|MapLetter|   LotSizeDimensions|SchoolDistrictNumber|DAYSONMARKET|offmarketdate|Fireplaces|RoomArea4|            roomtype|                ROOF|RoomFloor4|PotentialShortSale|     PoolDescription|PDOM|   GarageDescription|SQFTABOVEGROUND|Taxes|RoomFloor1|RoomArea1|TAXWITHASSESSMENTS|TAXYEAR|LivingArea|UNITNUMBER|YEARBUILT|              ZONING|               STYLE|ACRES|CoolingDescription|          APPLIANCES|backonmarketdate|ROOMFAMILYCHAR|RoomArea3|    EXTERIOR|RoomFloor3|RoomFloor2|RoomArea2|DiningRoomDescription|            BASEMENT|BathsFull|BathsHalf|BATHQUARTER|BATHSTHREEQUARTER|Class|BATHSTOTAL|            BATHDESC|RoomArea5|RoomFloor5|RoomArea6|RoomFloor6|RoomArea7|RoomFloor7|RoomArea8|RoomFloor8|Bedrooms|SQFTBELOWGROUND|AssumableMortgage|AssociationFee|ASSESSMENTPENDING|AssessedValuation|\n",
            "+----+-----+-------------------+--------------------+----------+----------+---------------+----------------+---------------+----------+---------+---------------+-----------------+------------+--------------+-----+---------+--------------------+--------------------+------------+-------------+----------+---------+--------------------+--------------------+----------+------------------+--------------------+----+--------------------+---------------+-----+----------+---------+------------------+-------+----------+----------+---------+--------------------+--------------------+-----+------------------+--------------------+----------------+--------------+---------+------------+----------+----------+---------+---------------------+--------------------+---------+---------+-----------+-----------------+-----+----------+--------------------+---------+----------+---------+----------+---------+----------+---------+----------+--------+---------------+-----------------+--------------+-----------------+-----------------+\n",
            "| 893| RMLS|               7685|7685 Upper 45th St N|Upper 45th|     55128|             MN|  OAKD - Oakdale|         252500|2017-08-16|   252500|Exclusive Right|           252500|    139.0419|          1200| Full|       D4|              80x130|622 - North St Pa...|           0|   2017-08-16|         1|    20x10|Living Room, Dini...|Asphalt Shingles,...|     Upper|                No|                null|   0|Attached Garage, ...|           1200| 2843|      Main|  17 x 14|            2846.0|   2016|      1816|      null|     1992|  Residential-Single|(SF) Four or More...|0.238|           Central|Range, Dishwasher...|            null|   Lower Level|    21x15|Metal, Vinyl|     Lower|      null|     null|                 null|Finished (Livable...|        1|        0|          0|                1|   SF|         2|Upper Level Full ...|    13x12|     Upper|    11x10|     Upper|    11x10|     Upper|    13x11|     Lower|       4|            616|    Not Assumable|             0|          Unknown|              3.0|\n",
            "|2092| RMLS|                500|500 Robert St N, 711|    Robert|     55101|             MN|STP - Saint Paul|         179900|2017-06-09|   179900|Exclusive Right|           179900|    183.0112|           983| null|       B4|              common|      625 - St. Paul|           4|   2017-06-13|         0|     null|Living Room, Dini...|                null|      null|                No|                null|   4|      Uncovered/Open|            983| 2625|      null|     null|            2822.0|   2017|       983|       711|     1916|Residential-Multi...|(CC) High Rise (4...|  0.0|           Central|Range, Exhaust Fa...|            null|          Loft|     null| Brick/Stone|      null|      null|     null|                 null|                None|        1|        0|          0|                0|   SF|         1|Main Floor Full Bath|     null|      null|     null|      null|     null|      null|     null|      null|       1|              0|             null|           385|          Unknown|           197.38|\n",
            "|2335| RMLS|               1024|      1024 Argyle St|    Argyle|     55103|             MN|STP - Saint Paul|         192000|2017-10-25|   194900|Exclusive Right|           194900|    180.1126|           578| None|       E3|              40x103|      625 - St. Paul|          19|   2017-11-13|         0|   13 x 9|Living Room, Dini...|    Asphalt Shingles|      Main|                No|                None|  19|Detached Garage, ...|           1066| 2058|      Main|  17 x 11|            2116.0|   2017|      1066|      null|     1916|  Residential-Single|    (SF) Two Stories|0.095|              None|Range, Microwave,...|            null|          null|     null|Cement Board|      null|      Main|  12 x 12| Separate/Formal D...|Full, Day/Lookout...|        1|        0|          0|                0|   SF|         1|Upper Level Full ...|  12 x 10|     Upper|  11 x 11|     Upper|   11 x 9|     Upper|     null|      null|       3|              0|             null|             0|          Unknown|             58.0|\n",
            "|4920| RMLS|               1680|   1680 Deephaven Dr| Deephaven|     55129|             MN|   WB - Woodbury|         540000|2017-05-26|   539900|Exclusive Right|           539900|    142.5178|          1360| None|       C2|140x145x81x160x23x35|833 - South Washi...|          11|   2017-06-06|         2|    15x14|Living Room, Dini...|Asphalt Shingles,...|      Main|                No|Below Ground, Out...|  11|Attached Garage, ...|           2788| 7198|      Main|    19x19|            7198.0|   2017|      3789|      null|     2007|  Residential-Single|    (SF) Two Stories|0.496|           Central|Range, Cooktop, W...|            null|   Lower Level|    19x19|Cement Board|     Lower|      Main|    15x11| Informal Dining R...|Walkout, Full, Fi...|        3|        1|          0|                0|   SF|         4|Main Floor 1/2 Ba...|    19x13|     Upper|    13x11|     Upper|    13x12|     Upper|    13x12|     Upper|       5|           1001|             null|            80|          Unknown|              0.0|\n",
            "|2942| RMLS|                689|       689 Rivoli St|    Rivoli|     55130|             MN|STP - Saint Paul|         240000|2017-07-29|   240000|Exclusive Right|           240000|    164.3836|           730| null|       C3|            42'x121'|      625 - St. Paul|          94|   2017-10-31|         0|    9'x9'|Living Room, Dini...|    Asphalt Shingles|      Main|                No|                null|  94|     Attached Garage|           1460|  176|      Main|  13'x16'|             176.4|   2017|      1460|      null|     2017|  Residential-Single|    (SF) Two Stories|0.117|           Central|Range, Exhaust Fa...|            null|          null|     null|       Vinyl|      null|      Main|  10'x13'|   Living/Dining Room|Full, Day/Lookout...|        1|        1|          0|                0|   SF|         2|Main Floor 1/2 Ba...|  13'x11'|     Upper|   9'x10'|     Upper|   9'x10'|     Upper|     null|      null|       3|              0|             null|             0|          Unknown|              0.0|\n",
            "+----+-----+-------------------+--------------------+----------+----------+---------------+----------------+---------------+----------+---------+---------------+-----------------+------------+--------------+-----+---------+--------------------+--------------------+------------+-------------+----------+---------+--------------------+--------------------+----------+------------------+--------------------+----+--------------------+---------------+-----+----------+---------+------------------+-------+----------+----------+---------+--------------------+--------------------+-----+------------------+--------------------+----------------+--------------+---------+------------+----------+----------+---------+---------------------+--------------------+---------+---------+-----------+-----------------+-----+----------+--------------------+---------+----------+---------+----------+---------+----------+---------+----------+--------+---------------+-----------------+--------------+-----------------+-----------------+\n",
            "only showing top 5 rows\n",
            "\n"
          ]
        }
      ],
      "source": [
        "real_estate_df = spark.read.parquet('/content/drive/My Drive/Colab Datasets/PySpark Sessions/Real_Estate_Data_Parquet')\n",
        "real_estate_df.show(5)"
      ]
    },
    {
      "cell_type": "markdown",
      "metadata": {
        "id": "AyK2iR2OCIRf"
      },
      "source": [
        "## Dropping a list of columns\n",
        "Our data set is rich with a lot of features, but not all are valuable. For now, let's remove any columns that aren't immediately useful by dropping them.\n",
        "\n",
        "'STREETNUMBERNUMERIC': The postal address number on the home\n",
        "'FIREPLACES': Number of Fireplaces in the home\n",
        "'LOTSIZEDIMENSIONS': Free text describing the lot shape\n",
        "'LISTTYPE': Set list of values of sale type\n",
        "'ACRES': Numeric area of lot size\n"
      ]
    },
    {
      "cell_type": "code",
      "execution_count": null,
      "metadata": {
        "colab": {
          "base_uri": "https://localhost:8080/"
        },
        "id": "nFkeDfdbDHN8",
        "outputId": "300eb975-f1c0-4cea-f3e7-41f1e64d8a2f"
      },
      "outputs": [
        {
          "name": "stdout",
          "output_type": "stream",
          "text": [
            "+----+-----+--------------------+----------+----------+---------------+----------------+---------------+----------+---------+-----------------+------------+--------------+-----+---------+--------------------+------------+-------------+---------+--------------------+--------------------+----------+------------------+---------------+----+--------------------+---------------+-----+----------+---------+------------------+-------+----------+----------+---------+--------------------+--------------------+------------------+--------------------+----------------+--------------+---------+------------+----------+----------+---------+---------------------+--------------------+---------+---------+-----------+-----------------+-----+----------+--------------------+---------+----------+---------+----------+---------+----------+---------+----------+--------+---------------+-----------------+--------------+-----------------+-----------------+\n",
            "| No.|MLSID|       streetaddress|STREETNAME|PostalCode|StateOrProvince|            City|SalesClosePrice|  LISTDATE|LISTPRICE|OriginalListPrice|PricePerTSFT|FOUNDATIONSIZE|FENCE|MapLetter|SchoolDistrictNumber|DAYSONMARKET|offmarketdate|RoomArea4|            roomtype|                ROOF|RoomFloor4|PotentialShortSale|PoolDescription|PDOM|   GarageDescription|SQFTABOVEGROUND|Taxes|RoomFloor1|RoomArea1|TAXWITHASSESSMENTS|TAXYEAR|LivingArea|UNITNUMBER|YEARBUILT|              ZONING|               STYLE|CoolingDescription|          APPLIANCES|backonmarketdate|ROOMFAMILYCHAR|RoomArea3|    EXTERIOR|RoomFloor3|RoomFloor2|RoomArea2|DiningRoomDescription|            BASEMENT|BathsFull|BathsHalf|BATHQUARTER|BATHSTHREEQUARTER|Class|BATHSTOTAL|            BATHDESC|RoomArea5|RoomFloor5|RoomArea6|RoomFloor6|RoomArea7|RoomFloor7|RoomArea8|RoomFloor8|Bedrooms|SQFTBELOWGROUND|AssumableMortgage|AssociationFee|ASSESSMENTPENDING|AssessedValuation|\n",
            "+----+-----+--------------------+----------+----------+---------------+----------------+---------------+----------+---------+-----------------+------------+--------------+-----+---------+--------------------+------------+-------------+---------+--------------------+--------------------+----------+------------------+---------------+----+--------------------+---------------+-----+----------+---------+------------------+-------+----------+----------+---------+--------------------+--------------------+------------------+--------------------+----------------+--------------+---------+------------+----------+----------+---------+---------------------+--------------------+---------+---------+-----------+-----------------+-----+----------+--------------------+---------+----------+---------+----------+---------+----------+---------+----------+--------+---------------+-----------------+--------------+-----------------+-----------------+\n",
            "| 893| RMLS|7685 Upper 45th St N|Upper 45th|     55128|             MN|  OAKD - Oakdale|         252500|2017-08-16|   252500|           252500|    139.0419|          1200| Full|       D4|622 - North St Pa...|           0|   2017-08-16|    20x10|Living Room, Dini...|Asphalt Shingles,...|     Upper|                No|           null|   0|Attached Garage, ...|           1200| 2843|      Main|  17 x 14|            2846.0|   2016|      1816|      null|     1992|  Residential-Single|(SF) Four or More...|           Central|Range, Dishwasher...|            null|   Lower Level|    21x15|Metal, Vinyl|     Lower|      null|     null|                 null|Finished (Livable...|        1|        0|          0|                1|   SF|         2|Upper Level Full ...|    13x12|     Upper|    11x10|     Upper|    11x10|     Upper|    13x11|     Lower|       4|            616|    Not Assumable|             0|          Unknown|              3.0|\n",
            "|2092| RMLS|500 Robert St N, 711|    Robert|     55101|             MN|STP - Saint Paul|         179900|2017-06-09|   179900|           179900|    183.0112|           983| null|       B4|      625 - St. Paul|           4|   2017-06-13|     null|Living Room, Dini...|                null|      null|                No|           null|   4|      Uncovered/Open|            983| 2625|      null|     null|            2822.0|   2017|       983|       711|     1916|Residential-Multi...|(CC) High Rise (4...|           Central|Range, Exhaust Fa...|            null|          Loft|     null| Brick/Stone|      null|      null|     null|                 null|                None|        1|        0|          0|                0|   SF|         1|Main Floor Full Bath|     null|      null|     null|      null|     null|      null|     null|      null|       1|              0|             null|           385|          Unknown|           197.38|\n",
            "+----+-----+--------------------+----------+----------+---------------+----------------+---------------+----------+---------+-----------------+------------+--------------+-----+---------+--------------------+------------+-------------+---------+--------------------+--------------------+----------+------------------+---------------+----+--------------------+---------------+-----+----------+---------+------------------+-------+----------+----------+---------+--------------------+--------------------+------------------+--------------------+----------------+--------------+---------+------------+----------+----------+---------+---------------------+--------------------+---------+---------+-----------+-----------------+-----+----------+--------------------+---------+----------+---------+----------+---------+----------+---------+----------+--------+---------------+-----------------+--------------+-----------------+-----------------+\n",
            "only showing top 2 rows\n",
            "\n"
          ]
        }
      ],
      "source": [
        "# List of columns to remove from dataset\n",
        "cols_to_drop = ['STREETNUMBERNUMERIC', 'FIREPLACES','LOTSIZEDIMENSIONS','LISTTYPE','ACRES']\n",
        "\n",
        "# Drop columns in list\n",
        "real_estate_df = real_estate_df.drop(*cols_to_drop)\n",
        "\n",
        "real_estate_df.show(2)"
      ]
    },
    {
      "cell_type": "markdown",
      "metadata": {
        "id": "vT9mwQLXRX4Z"
      },
      "source": [
        "## Renaming columns\n",
        "\n",
        "Sometimes it pays to have renamed the column names to something more insightful. Here, we will rename the `'No.'` columns so that it is easier to work with"
      ]
    },
    {
      "cell_type": "code",
      "execution_count": null,
      "metadata": {
        "colab": {
          "base_uri": "https://localhost:8080/"
        },
        "id": "vzQLgGatRr7L",
        "outputId": "042bf9ed-aad4-4154-f73f-f66f6c555ede"
      },
      "outputs": [
        {
          "data": {
            "text/plain": [
              "['Listing_Numbers',\n",
              " 'MLSID',\n",
              " 'streetaddress',\n",
              " 'STREETNAME',\n",
              " 'PostalCode',\n",
              " 'StateOrProvince',\n",
              " 'City',\n",
              " 'SalesClosePrice',\n",
              " 'LISTDATE',\n",
              " 'LISTPRICE',\n",
              " 'OriginalListPrice',\n",
              " 'PricePerTSFT',\n",
              " 'FOUNDATIONSIZE',\n",
              " 'FENCE',\n",
              " 'MapLetter',\n",
              " 'SchoolDistrictNumber',\n",
              " 'DAYSONMARKET',\n",
              " 'offmarketdate',\n",
              " 'RoomArea4',\n",
              " 'roomtype',\n",
              " 'ROOF',\n",
              " 'RoomFloor4',\n",
              " 'PotentialShortSale',\n",
              " 'PoolDescription',\n",
              " 'PDOM',\n",
              " 'GarageDescription',\n",
              " 'SQFTABOVEGROUND',\n",
              " 'Taxes',\n",
              " 'RoomFloor1',\n",
              " 'RoomArea1',\n",
              " 'TAXWITHASSESSMENTS',\n",
              " 'TAXYEAR',\n",
              " 'LivingArea',\n",
              " 'UNITNUMBER',\n",
              " 'YEARBUILT',\n",
              " 'ZONING',\n",
              " 'STYLE',\n",
              " 'CoolingDescription',\n",
              " 'APPLIANCES',\n",
              " 'backonmarketdate',\n",
              " 'ROOMFAMILYCHAR',\n",
              " 'RoomArea3',\n",
              " 'EXTERIOR',\n",
              " 'RoomFloor3',\n",
              " 'RoomFloor2',\n",
              " 'RoomArea2',\n",
              " 'DiningRoomDescription',\n",
              " 'BASEMENT',\n",
              " 'BathsFull',\n",
              " 'BathsHalf',\n",
              " 'BATHQUARTER',\n",
              " 'BATHSTHREEQUARTER',\n",
              " 'Class',\n",
              " 'BATHSTOTAL',\n",
              " 'BATHDESC',\n",
              " 'RoomArea5',\n",
              " 'RoomFloor5',\n",
              " 'RoomArea6',\n",
              " 'RoomFloor6',\n",
              " 'RoomArea7',\n",
              " 'RoomFloor7',\n",
              " 'RoomArea8',\n",
              " 'RoomFloor8',\n",
              " 'Bedrooms',\n",
              " 'SQFTBELOWGROUND',\n",
              " 'AssumableMortgage',\n",
              " 'AssociationFee',\n",
              " 'ASSESSMENTPENDING',\n",
              " 'AssessedValuation']"
            ]
          },
          "execution_count": 46,
          "metadata": {},
          "output_type": "execute_result"
        }
      ],
      "source": [
        "real_estate_df = real_estate_df.withColumnRenamed('No.','Listing_Numbers')\n",
        "real_estate_df.columns"
      ]
    },
    {
      "cell_type": "markdown",
      "metadata": {
        "id": "8rKXArwDCtnQ"
      },
      "source": [
        "## Using text filters to remove records\n",
        "As mentioned earlier, in order to work on any data and give reliable insights, we need a good amount of information on things like:\n",
        "* where the data was collected from\n",
        "* what is the frequency of collection of data\n",
        "* what are the different columns in the data\n",
        "* are the values in your data in sync with real world\n",
        "* what are some of the columns that the business feels would be important for the analysis\n",
        "\n",
        "Assumable mortgage is an unusual occurrence in the real estate industry and needs to be excluded.\n",
        "\n",
        "In this exercise we will use isin() which allows us to pass a list of values to use as a filter rather than a single one.\n"
      ]
    },
    {
      "cell_type": "code",
      "execution_count": null,
      "metadata": {
        "colab": {
          "base_uri": "https://localhost:8080/"
        },
        "id": "6HO4bmLSGfIK",
        "outputId": "e750e8c4-3a9c-4a3f-c1dc-9624280c65b5"
      },
      "outputs": [
        {
          "name": "stdout",
          "output_type": "stream",
          "text": [
            "+-------------------+\n",
            "|  ASSUMABLEMORTGAGE|\n",
            "+-------------------+\n",
            "|  Yes w/ Qualifying|\n",
            "| Information Coming|\n",
            "|               null|\n",
            "|Yes w/No Qualifying|\n",
            "|      Not Assumable|\n",
            "+-------------------+\n",
            "\n",
            "5000\n",
            "+------------------+\n",
            "| ASSUMABLEMORTGAGE|\n",
            "+------------------+\n",
            "|Information Coming|\n",
            "|              null|\n",
            "|     Not Assumable|\n",
            "+------------------+\n",
            "\n",
            "4976\n"
          ]
        }
      ],
      "source": [
        "# Inspect unique values in the column 'ASSUMABLEMORTGAGE'\n",
        "real_estate_df.select(['ASSUMABLEMORTGAGE']).distinct().show()\n",
        "print(real_estate_df.count())\n",
        "\n",
        "# List of possible values containing 'yes'\n",
        "yes_values = ['Yes w/ Qualifying', 'Yes w/No Qualifying']\n",
        "\n",
        "# Filter the text values out of df but keep null values\n",
        "text_filter = ~real_estate_df['ASSUMABLEMORTGAGE'].isin(yes_values) | real_estate_df['ASSUMABLEMORTGAGE'].isNull()\n",
        "real_estate_df = real_estate_df.where(text_filter)\n",
        "\n",
        "# Print count of remaining records\n",
        "real_estate_df.select(['ASSUMABLEMORTGAGE']).distinct().show()\n",
        "print(real_estate_df.count())\n",
        " "
      ]
    },
    {
      "cell_type": "markdown",
      "metadata": {
        "id": "jGd4N0oKGxcL"
      },
      "source": [
        "## Matching parts of a string \n",
        "\n",
        "The above `.isin()` is useful when trying to match the exact values of the string, but what if we need to match only part of a string.\n",
        "\n",
        "Example, from the list of appliances, we want only those listings that has a dishwasher. In such scenarios, `'like()` is helpful, however it can only be applied on a object of class *column*"
      ]
    },
    {
      "cell_type": "code",
      "execution_count": null,
      "metadata": {
        "colab": {
          "base_uri": "https://localhost:8080/"
        },
        "id": "IysEvtsQL93K",
        "outputId": "40e59c70-064f-4700-dd25-ac4ee424917f"
      },
      "outputs": [
        {
          "name": "stdout",
          "output_type": "stream",
          "text": [
            "+------------------------------------------------------------------------------------------------------------------------------------------------------------+\n",
            "|APPLIANCES                                                                                                                                                  |\n",
            "+------------------------------------------------------------------------------------------------------------------------------------------------------------+\n",
            "|Range, Dishwasher, Refrigerator, Washer, Dryer                                                                                                              |\n",
            "|Range, Exhaust Fan/Hood, Dishwasher, Refrigerator                                                                                                           |\n",
            "|Range, Microwave, Refrigerator, Washer, Dryer                                                                                                               |\n",
            "|Range, Cooktop, Wall Oven, Microwave, Exhaust Fan/Hood, Dishwasher, Refrigerator, Water Softener - Owned, Disposal, Air-To-Air Exchanger, Furnace Humidifier|\n",
            "|Range, Exhaust Fan/Hood, Dishwasher, Refrigerator, Washer, Dryer, Disposal, Air-To-Air Exchanger                                                            |\n",
            "+------------------------------------------------------------------------------------------------------------------------------------------------------------+\n",
            "only showing top 5 rows\n",
            "\n",
            "+---------------+------------------------------------------------------------------------------------------------------------------------------------------------------------+\n",
            "|Listing_Numbers|APPLIANCES                                                                                                                                                  |\n",
            "+---------------+------------------------------------------------------------------------------------------------------------------------------------------------------------+\n",
            "|893            |Range, Dishwasher, Refrigerator, Washer, Dryer                                                                                                              |\n",
            "|2092           |Range, Exhaust Fan/Hood, Dishwasher, Refrigerator                                                                                                           |\n",
            "|4920           |Range, Cooktop, Wall Oven, Microwave, Exhaust Fan/Hood, Dishwasher, Refrigerator, Water Softener - Owned, Disposal, Air-To-Air Exchanger, Furnace Humidifier|\n",
            "|2942           |Range, Exhaust Fan/Hood, Dishwasher, Refrigerator, Washer, Dryer, Disposal, Air-To-Air Exchanger                                                            |\n",
            "|679            |Range, Microwave, Dishwasher, Refrigerator, Washer, Dryer                                                                                                   |\n",
            "+---------------+------------------------------------------------------------------------------------------------------------------------------------------------------------+\n",
            "only showing top 5 rows\n",
            "\n"
          ]
        }
      ],
      "source": [
        "# check values in APPLIANCES column\n",
        "real_estate_df.select('APPLIANCES').show(5,truncate=False)\n",
        "\n",
        "# filter listings having Dishwasher as one of its appliances\n",
        "real_estate_df.select('Listing_Numbers','APPLIANCES').where(F.col('APPLIANCES').like('%Dishwasher%')).show(5, truncate=False)"
      ]
    },
    {
      "cell_type": "markdown",
      "metadata": {
        "id": "d2dTUpN7SGJC"
      },
      "source": [
        "Note: Such filters are useful not only to filter data but also to create new features.\n",
        "\n",
        "We can create many indicator columns using this list which might be of interest to homeowners"
      ]
    },
    {
      "cell_type": "markdown",
      "metadata": {
        "id": "AV_CBfNPEWiH"
      },
      "source": [
        "## Filtering numeric fields\n",
        "Again, understanding the context of your data is extremely important. We want to understand what a normal range of houses sell for.\n",
        "\n",
        "This becomes particularly important when we are trying to make predictions, as the extreme values may deviate the model from actual trend.\n",
        "\n",
        "Here, we will remove values which we feel might be out of bounds of a normal distribution"
      ]
    },
    {
      "cell_type": "code",
      "execution_count": null,
      "metadata": {
        "colab": {
          "base_uri": "https://localhost:8080/"
        },
        "id": "HoOofk18UvWR",
        "outputId": "9fb729f4-b38c-48cc-da36-05af0ac17299"
      },
      "outputs": [
        {
          "name": "stdout",
          "output_type": "stream",
          "text": [
            "+-------+------------------+\n",
            "|summary|   SalesClosePrice|\n",
            "+-------+------------------+\n",
            "|  count|              4976|\n",
            "|   mean|262899.59485530545|\n",
            "| stddev| 140713.0015588166|\n",
            "|    min|             48000|\n",
            "|    max|           1700000|\n",
            "+-------+------------------+\n",
            "\n",
            "+-------+------------------+\n",
            "|summary|   SalesClosePrice|\n",
            "+-------+------------------+\n",
            "|  count|              4897|\n",
            "|   mean| 252758.4096385542|\n",
            "| stddev|112735.01811282213|\n",
            "|    min|             48000|\n",
            "|    max|            683000|\n",
            "+-------+------------------+\n",
            "\n"
          ]
        }
      ],
      "source": [
        "from pyspark.sql.functions import mean, stddev\n",
        "\n",
        "# Calculate values used for outlier filtering\n",
        "mean_val = real_estate_df.agg({'SalesClosePrice': 'mean'}).collect()[0][0]\n",
        "stddev_val = real_estate_df.agg({'SalesClosePrice':'stddev'}).collect()[0][0]\n",
        "\n",
        "# Create three standard deviation (μ ± 3σ) lower and upper bounds for data\n",
        "low_bound = mean_val - (3 * stddev_val)\n",
        "hi_bound = mean_val + (3 * stddev_val)\n",
        "\n",
        "# Filter the data to fit between the lower and upper bounds\n",
        "real_estate_df_filtered = real_estate_df.where((real_estate_df['SalesClosePrice'] < hi_bound) & (real_estate_df['SalesClosePrice'] > low_bound))\n",
        "\n",
        "# suammry for unfiltered column\n",
        "real_estate_df.describe('SalesClosePrice').show()\n",
        "\n",
        "real_estate_df_filtered.describe('SalesClosePrice').show()\n"
      ]
    },
    {
      "cell_type": "markdown",
      "metadata": {
        "id": "xmUwJwqgUvml"
      },
      "source": [
        "Although it might seem like we have filtered out the extreme values, but have we really?\n",
        "\n",
        "One of the major disadvantage when using PySpark is the lack of plotting capability which is very useful when trying to clean the data. We will look into plotting in more details later, but for now just follow along"
      ]
    },
    {
      "cell_type": "code",
      "execution_count": null,
      "metadata": {
        "colab": {
          "base_uri": "https://localhost:8080/",
          "height": 331
        },
        "id": "cjVtm6tXTN0D",
        "outputId": "8c7ae8b5-1fba-4746-dd4b-857786a00bca"
      },
      "outputs": [
        {
          "data": {
            "text/plain": [
              "array([[<matplotlib.axes._subplots.AxesSubplot object at 0x7fd6b0f69b10>]],\n",
              "      dtype=object)"
            ]
          },
          "execution_count": 50,
          "metadata": {},
          "output_type": "execute_result"
        },
        {
          "data": {
            "image/png": "[encoded data removed]",
            "text/plain": [
              "<Figure size 432x288 with 1 Axes>"
            ]
          },
          "metadata": {},
          "output_type": "display_data"
        }
      ],
      "source": [
        "real_estate_df.select('SalesClosePrice').toPandas().hist()"
      ]
    },
    {
      "cell_type": "code",
      "execution_count": null,
      "metadata": {
        "colab": {
          "base_uri": "https://localhost:8080/",
          "height": 317
        },
        "id": "prYukxhoWv7v",
        "outputId": "c763b0db-725d-4ed9-a60b-f98ab6cba925"
      },
      "outputs": [
        {
          "data": {
            "text/plain": [
              "array([[<matplotlib.axes._subplots.AxesSubplot object at 0x7fd6b107cd50>]],\n",
              "      dtype=object)"
            ]
          },
          "execution_count": 51,
          "metadata": {},
          "output_type": "execute_result"
        },
        {
          "data": {
            "image/png": "[encoded data removed]",
            "text/plain": [
              "<Figure size 432x288 with 1 Axes>"
            ]
          },
          "metadata": {},
          "output_type": "display_data"
        }
      ],
      "source": [
        "real_estate_df_filtered.select('SalesClosePrice').toPandas().hist()"
      ]
    },
    {
      "cell_type": "markdown",
      "metadata": {
        "id": "Sh7KEBOHW2zg"
      },
      "source": [
        "A good data scientist will always be inquisitive to see if there is a better way to do things, and it is the curse of data science that there most often is!\n",
        "\n",
        "If we look closely, we have not really changed anything from the lower bound and might have penalised a bit too much on the right. this is because our distribution is right skewed and we tried to filter assuming normal distribution.\n",
        "\n",
        "Lets us try doing the same in `log` of sales price"
      ]
    },
    {
      "cell_type": "code",
      "execution_count": null,
      "metadata": {
        "colab": {
          "base_uri": "https://localhost:8080/"
        },
        "id": "DESKgVXkW2Pv",
        "outputId": "4e734f4c-ff49-4ef2-c925-0891af5ab5e5"
      },
      "outputs": [
        {
          "name": "stdout",
          "output_type": "stream",
          "text": [
            "+-------+------------------+\n",
            "|summary|   SalesClosePrice|\n",
            "+-------+------------------+\n",
            "|  count|              4976|\n",
            "|   mean|262899.59485530545|\n",
            "| stddev| 140713.0015588166|\n",
            "|    min|             48000|\n",
            "|    max|           1700000|\n",
            "+-------+------------------+\n",
            "\n",
            "+-------+------------------+\n",
            "|summary|   SalesClosePrice|\n",
            "+-------+------------------+\n",
            "|  count|              4946|\n",
            "|   mean| 259043.9393449252|\n",
            "| stddev|124951.33401444044|\n",
            "|    min|             61000|\n",
            "|    max|            920000|\n",
            "+-------+------------------+\n",
            "\n"
          ]
        }
      ],
      "source": [
        "from pyspark.sql.functions import mean, stddev\n",
        "\n",
        "# calculate log of sales price\n",
        "real_estate_df_log = real_estate_df.withColumn('log_sales_price',F.log(real_estate_df.SalesClosePrice))\n",
        "\n",
        "# Calculate values used for outlier filtering\n",
        "mean_val = real_estate_df_log.agg({'log_sales_price': 'mean'}).collect()[0][0]\n",
        "stddev_val = real_estate_df_log.agg({'log_sales_price':'stddev'}).collect()[0][0]\n",
        "\n",
        "# Create three standard deviation (μ ± 3σ) lower and upper bounds for data\n",
        "low_bound = mean_val - (3 * stddev_val)\n",
        "hi_bound = mean_val + (3 * stddev_val)\n",
        "\n",
        "# Filter the data to fit between the lower and upper bounds\n",
        "real_estate_df_filtered = real_estate_df_log.where((real_estate_df_log['log_sales_price'] < hi_bound) & (real_estate_df_log['log_sales_price'] > low_bound))\n",
        "\n",
        "# suammry for unfiltered column\n",
        "real_estate_df_log.describe('SalesClosePrice').show()\n",
        "\n",
        "real_estate_df_filtered.describe('SalesClosePrice').show()\n"
      ]
    },
    {
      "cell_type": "code",
      "execution_count": null,
      "metadata": {
        "colab": {
          "base_uri": "https://localhost:8080/",
          "height": 317
        },
        "id": "g_0SKdu2aI3m",
        "outputId": "f46e1d72-bb9f-48f8-a01a-0874c433516c"
      },
      "outputs": [
        {
          "data": {
            "text/plain": [
              "array([[<matplotlib.axes._subplots.AxesSubplot object at 0x7fd6b0b12f10>]],\n",
              "      dtype=object)"
            ]
          },
          "execution_count": 53,
          "metadata": {},
          "output_type": "execute_result"
        },
        {
          "data": {
            "image/png": "[encoded data removed]",
            "text/plain": [
              "<Figure size 432x288 with 1 Axes>"
            ]
          },
          "metadata": {},
          "output_type": "display_data"
        }
      ],
      "source": [
        "real_estate_df_log.select('log_sales_price').toPandas().hist()"
      ]
    },
    {
      "cell_type": "code",
      "execution_count": null,
      "metadata": {
        "colab": {
          "base_uri": "https://localhost:8080/",
          "height": 317
        },
        "id": "4fujMkwpYOkR",
        "outputId": "bbc75518-ebdd-4c69-93af-1677c22c68c9"
      },
      "outputs": [
        {
          "data": {
            "text/plain": [
              "array([[<matplotlib.axes._subplots.AxesSubplot object at 0x7fd6b09fd2d0>]],\n",
              "      dtype=object)"
            ]
          },
          "execution_count": 54,
          "metadata": {},
          "output_type": "execute_result"
        },
        {
          "data": {
            "image/png": "[encoded data removed]",
            "text/plain": [
              "<Figure size 432x288 with 1 Axes>"
            ]
          },
          "metadata": {},
          "output_type": "display_data"
        }
      ],
      "source": [
        "real_estate_df_filtered.select('SalesClosePrice').toPandas().hist()"
      ]
    },
    {
      "cell_type": "markdown",
      "metadata": {
        "id": "aX81C7kkZwpj"
      },
      "source": [
        "What we have done is transforming a right skewed data to a normal like distribution. Such transformations on dependent variables can yeild good results when trying to fit a model.\n",
        "\n",
        "Now that we are satisfied with our work, lets replace the original dataframe with the new one"
      ]
    },
    {
      "cell_type": "code",
      "execution_count": null,
      "metadata": {
        "colab": {
          "base_uri": "https://localhost:8080/"
        },
        "id": "59YdA2ORZ2x0",
        "outputId": "115cf411-9afa-41cb-9040-03b171eceaa3"
      },
      "outputs": [
        {
          "data": {
            "text/plain": [
              "4946"
            ]
          },
          "execution_count": 55,
          "metadata": {},
          "output_type": "execute_result"
        }
      ],
      "source": [
        "real_estate_df = real_estate_df_filtered\n",
        "real_estate_df.count()"
      ]
    },
    {
      "cell_type": "markdown",
      "metadata": {
        "id": "emNelfggHV0t"
      },
      "source": [
        "## Correcting Skewed Data\n",
        "We have already seen how we can use log transforms to fix positively skewed data. What if we have a negatively skewed data?\n"
      ]
    },
    {
      "cell_type": "code",
      "execution_count": null,
      "metadata": {
        "colab": {
          "base_uri": "https://localhost:8080/"
        },
        "id": "yuMhBWcFdGkd",
        "outputId": "72eeab6b-b930-40fb-c632-cefcc3baa8c5"
      },
      "outputs": [
        {
          "name": "stdout",
          "output_type": "stream",
          "text": [
            "[Row(skewness(YEARBUILT)=-0.25317374723020836)]\n",
            "[Row(skewness(SalesClosePrice)=1.5470927824971825)]\n"
          ]
        }
      ],
      "source": [
        "from pyspark.sql.functions import log,skewness\n",
        " \n",
        "# Compute the skewness\n",
        "print(real_estate_df.agg({'YEARBUILT': 'skewness'}).collect())\n",
        "print(real_estate_df.agg({'SalesClosePrice': 'skewness'}).collect())"
      ]
    },
    {
      "cell_type": "markdown",
      "metadata": {
        "id": "n5S5MeI2g1Su"
      },
      "source": [
        "Alhough we may not be able to plot the data using PySpark dataframe yet, `Skewness` method does give a good sense of if our data is skewed.\n",
        "\n",
        "For this data, lets plot and see it for better visualization"
      ]
    },
    {
      "cell_type": "code",
      "execution_count": null,
      "metadata": {
        "colab": {
          "base_uri": "https://localhost:8080/",
          "height": 317
        },
        "id": "m3ZEaCeqdPsH",
        "outputId": "9ca17086-276c-4889-ce8c-541caf10d7c3"
      },
      "outputs": [
        {
          "data": {
            "text/plain": [
              "array([[<matplotlib.axes._subplots.AxesSubplot object at 0x7fd6b2572250>]],\n",
              "      dtype=object)"
            ]
          },
          "execution_count": 57,
          "metadata": {},
          "output_type": "execute_result"
        },
        {
          "data": {
            "image/png": "[encoded data removed]",
            "text/plain": [
              "<Figure size 432x288 with 1 Axes>"
            ]
          },
          "metadata": {},
          "output_type": "display_data"
        }
      ],
      "source": [
        "real_estate_df.select('YEARBUILT').toPandas().hist()"
      ]
    },
    {
      "cell_type": "markdown",
      "metadata": {
        "id": "q2L9MCSPeH_O"
      },
      "source": [
        "To correct negative skew or left skewed data, we need to take an extra step called \"reflecting\" before we can perform transformations.\n",
        "\n",
        "Reflecting data uses the following formula to reflect each value: `(xmax+1)–x`.\n",
        "\n",
        "What it actually does is reflects a negatively skewed data and makes it positively skewed.\n",
        "\n",
        "Note: If you have negative values then it is advised to add a constant to make it positive since we will be using logs and square roots for transformation\n"
      ]
    },
    {
      "cell_type": "code",
      "execution_count": null,
      "metadata": {
        "id": "4BB7u0AQdfa3"
      },
      "outputs": [],
      "source": [
        "# Calculate the max year\n",
        "max_year = real_estate_df.agg({'YEARBUILT': 'max'}).collect()[0][0]\n",
        " \n",
        "# Create a new column of reflected data\n",
        "real_estate_df = real_estate_df.withColumn('Reflect_YearBuilt', (max_year + 1) - real_estate_df['YEARBUILT'])"
      ]
    },
    {
      "cell_type": "code",
      "execution_count": null,
      "metadata": {
        "colab": {
          "base_uri": "https://localhost:8080/",
          "height": 317
        },
        "id": "WHn7tkj7eOWn",
        "outputId": "8b249956-99bd-4104-cbf5-c65dab59501f"
      },
      "outputs": [
        {
          "data": {
            "text/plain": [
              "array([[<matplotlib.axes._subplots.AxesSubplot object at 0x7fd6b0f7fad0>]],\n",
              "      dtype=object)"
            ]
          },
          "execution_count": 59,
          "metadata": {},
          "output_type": "execute_result"
        },
        {
          "data": {
            "image/png": "[encoded data removed]",
            "text/plain": [
              "<Figure size 432x288 with 1 Axes>"
            ]
          },
          "metadata": {},
          "output_type": "display_data"
        }
      ],
      "source": [
        "real_estate_df.select('Reflect_YearBuilt').toPandas().hist()"
      ]
    },
    {
      "cell_type": "code",
      "execution_count": null,
      "metadata": {
        "id": "_x_10ajTgafW"
      },
      "outputs": [],
      "source": [
        "# Create a new column based reflected data\n",
        "real_estate_df = real_estate_df.withColumn('adj_yearbuilt', F.sqrt(real_estate_df['Reflect_YearBuilt']))"
      ]
    },
    {
      "cell_type": "code",
      "execution_count": null,
      "metadata": {
        "colab": {
          "base_uri": "https://localhost:8080/",
          "height": 317
        },
        "id": "FtaFTqygebta",
        "outputId": "d03226e7-e1f1-43b6-cf1a-60d385bdf26f"
      },
      "outputs": [
        {
          "data": {
            "text/plain": [
              "array([[<matplotlib.axes._subplots.AxesSubplot object at 0x7fd6b095e810>]],\n",
              "      dtype=object)"
            ]
          },
          "execution_count": 61,
          "metadata": {},
          "output_type": "execute_result"
        },
        {
          "data": {
            "image/png": "[encoded data removed]",
            "text/plain": [
              "<Figure size 432x288 with 1 Axes>"
            ]
          },
          "metadata": {},
          "output_type": "display_data"
        }
      ],
      "source": [
        "real_estate_df.select('adj_yearbuilt').toPandas().hist()"
      ]
    },
    {
      "cell_type": "markdown",
      "metadata": {
        "id": "irMZk8o2HU1Z"
      },
      "source": [
        "## Min-Max Scaling\n",
        "We will look at one last method to scale our data. These methods can be the *sanjeevani* when trying to build models like regression or logistic.\n",
        "\n",
        "This is `min-max` scaling were we scale the data between 0 and 1 by simply subtracting the `minimum` value and then divide by `max - min`."
      ]
    },
    {
      "cell_type": "code",
      "execution_count": null,
      "metadata": {
        "colab": {
          "base_uri": "https://localhost:8080/"
        },
        "id": "BACjKe8-j_Sv",
        "outputId": "3d91f408-baef-4623-935e-5d0089de7ad6"
      },
      "outputs": [
        {
          "name": "stdout",
          "output_type": "stream",
          "text": [
            "[Row(max(scaled_days)=1.0)]\n",
            "[Row(min(scaled_days)=0.0)]\n"
          ]
        }
      ],
      "source": [
        "# Define max and min values and collect them\n",
        "max_days = real_estate_df.agg({'DAYSONMARKET': 'max'}).collect()[0][0]\n",
        "min_days = real_estate_df.agg({'DAYSONMARKET': 'min'}).collect()[0][0]\n",
        "\n",
        "# Create a new column based off the scaled data\n",
        "real_estate_df = real_estate_df.withColumn('scaled_days', \n",
        "                  (real_estate_df['DAYSONMARKET'] - min_days) / (max_days - min_days))\n",
        "\n",
        "# Calc max and min for new column\n",
        "print(real_estate_df.agg({'scaled_days': 'max'}).collect())\n",
        "print(real_estate_df.agg({'scaled_days': 'min'}).collect())\n"
      ]
    },
    {
      "cell_type": "markdown",
      "metadata": {
        "id": "lxmezSeq2sWD"
      },
      "source": [
        "## Using Corr()\n",
        "When we have little knowledge about what to expect from the data and the relation among different features, mathematical or economical, correlation may help in getting to the starting point.\n",
        "\n",
        "However, it would be incomplete to talk about correlation without the cautionary tale of **'Correlation does not imply Causation'**\n"
      ]
    },
    {
      "cell_type": "code",
      "execution_count": null,
      "metadata": {
        "id": "HKkq-OVInff5"
      },
      "outputs": [],
      "source": [
        "columns =['LISTPRICE', 'OriginalListPrice', 'PricePerTSFT','DAYSONMARKET']"
      ]
    },
    {
      "cell_type": "code",
      "execution_count": null,
      "metadata": {
        "colab": {
          "base_uri": "https://localhost:8080/"
        },
        "id": "po70MtqbnKC6",
        "outputId": "b963165a-e558-48e4-867f-aa51129ecf96"
      },
      "outputs": [
        {
          "name": "stdout",
          "output_type": "stream",
          "text": [
            "Correlation between SALESCLOSEPRICE and  LISTPRICE  is  0.9968527630752307\n",
            "Correlation between SALESCLOSEPRICE and  OriginalListPrice  is  0.3007794851493323\n",
            "Correlation between SALESCLOSEPRICE and  PricePerTSFT  is  0.005988995443430594\n",
            "Correlation between SALESCLOSEPRICE and  DAYSONMARKET  is  0.09451976464894078\n"
          ]
        }
      ],
      "source": [
        "# Loop to show correlations for all variables\n",
        "for col in columns:\n",
        "    corr_val = real_estate_df.corr('SALESCLOSEPRICE', col)\n",
        "    print(\"Correlation between SALESCLOSEPRICE and \", col, \" is \", corr_val)\n"
      ]
    },
    {
      "cell_type": "markdown",
      "metadata": {
        "id": "T5gxUW9c2ryo"
      },
      "source": [
        "# **Plotting data for visualization**\n",
        "---"
      ]
    },
    {
      "cell_type": "markdown",
      "metadata": {
        "id": "lRpTAYqu09-q"
      },
      "source": [
        "In the previous examples, we have used toPandas to convert Spark Dataframe to Pandas dataframe and then used Python's data visualization capabilities.\n",
        "\n",
        "Another way could be to use `HandySpark` but we are not going to cover that for this session. Below are some useful resources to explore `HandySpark`:\n",
        "\n",
        "[Github link](https://github.com/dvgodoy/handyspark)\n",
        "\n",
        "[Colab Notebook with examples](https://colab.research.google.com/github/dvgodoy/handyspark/blob/master/notebooks/Exploring_Titanic.ipynb)\n",
        "\n",
        "\n",
        "> Tip: create a smaller or aggregated dataset in spark before converting it to Pandas DataFrame"
      ]
    },
    {
      "cell_type": "markdown",
      "metadata": {
        "id": "iEUgy_bI2syy"
      },
      "source": [
        "## Using Visualizations: distplot\n",
        "Understanding the distribution of our dependent variable is very important and can impact the type of model or preprocessing we do. \n",
        "\n",
        "A great way to do this is to plot it, however we will sample the original and use Pandas `matplotlib.pyplot` and `seaborn` packages to do this.\n",
        "\n"
      ]
    },
    {
      "cell_type": "code",
      "execution_count": null,
      "metadata": {
        "colab": {
          "base_uri": "https://localhost:8080/",
          "height": 345
        },
        "id": "4zKVYYcks0da",
        "outputId": "752dd42e-cd3f-4fe7-c522-7607d3862c77"
      },
      "outputs": [
        {
          "name": "stderr",
          "output_type": "stream",
          "text": [
            "/usr/local/lib/python3.7/dist-packages/seaborn/distributions.py:2619: FutureWarning: `distplot` is a deprecated function and will be removed in a future version. Please adapt your code to use either `displot` (a figure-level function with similar flexibility) or `histplot` (an axes-level function for histograms).\n",
            "  warnings.warn(msg, FutureWarning)\n"
          ]
        },
        {
          "data": {
            "image/png": "[encoded data removed]",
            "text/plain": [
              "<Figure size 432x288 with 1 Axes>"
            ]
          },
          "metadata": {},
          "output_type": "display_data"
        }
      ],
      "source": [
        "# Select a single column and sample and convert to pandas\n",
        "sample_df = real_estate_df.select(['LISTPRICE']).sample(False, 0.5, 100)\n",
        "pandas_df = sample_df.toPandas()\n",
        "\n",
        "# Plot distribution of pandas_df and display plot\n",
        "\n",
        "import seaborn as sns\n",
        "\n",
        "sns.distplot(pandas_df)\n",
        "plt.show()\n"
      ]
    },
    {
      "cell_type": "markdown",
      "metadata": {
        "id": "2fNFEZtq2tQ7"
      },
      "source": [
        "## Using Visualizations: lmplot\n",
        "Creating linear model plots helps us visualize if variables have relationships with the dependent variable. If they do they are good candidates to include in our analysis. If they don't it doesn't mean that we should throw them out, it means we may have to process them before they can be used.\n"
      ]
    },
    {
      "cell_type": "code",
      "execution_count": null,
      "metadata": {
        "colab": {
          "base_uri": "https://localhost:8080/",
          "height": 369
        },
        "id": "_nvSuwIAtgn6",
        "outputId": "7f56ad68-8d09-47b4-c279-f7d76d847fcc"
      },
      "outputs": [
        {
          "data": {
            "image/png": "[encoded data removed]",
            "text/plain": [
              "<Figure size 360x360 with 1 Axes>"
            ]
          },
          "metadata": {},
          "output_type": "display_data"
        }
      ],
      "source": [
        "# Select a the relevant columns and sample\n",
        "sample_df = real_estate_df.select(['SALESCLOSEPRICE', 'LIVINGAREA']).sample(False, 0.5, 42)\n",
        "\n",
        "# Convert to pandas dataframe\n",
        "pandas_df = sample_df.toPandas()\n",
        "\n",
        "# Linear model plot of pandas_df\n",
        "sns.lmplot(x='LIVINGAREA', y='SALESCLOSEPRICE', data=pandas_df)\n",
        "plt.show()\n"
      ]
    },
    {
      "cell_type": "markdown",
      "metadata": {
        "id": "F5XBeSUw2tCi"
      },
      "source": [
        "# **Working with Missing Data**\n",
        "---"
      ]
    },
    {
      "cell_type": "markdown",
      "metadata": {
        "id": "tzKl1MfLKwV2"
      },
      "source": [
        "## Visualizing Missing Data\n",
        "Being able to plot missing values is a great way to quickly understand how much of your data is missing. It can also help highlight when variables are missing in a pattern something that will need to be handled with care.\n"
      ]
    },
    {
      "cell_type": "code",
      "execution_count": null,
      "metadata": {
        "colab": {
          "base_uri": "https://localhost:8080/",
          "height": 321
        },
        "id": "SiLX8N0GvPH5",
        "outputId": "95b16322-17ff-4b13-fde4-e98f2003b133"
      },
      "outputs": [
        {
          "data": {
            "image/png": "[encoded data removed]",
            "text/plain": [
              "<Figure size 432x288 with 2 Axes>"
            ]
          },
          "metadata": {},
          "output_type": "display_data"
        }
      ],
      "source": [
        "columns = ['PricePerTSFT','FENCE', 'backonmarketdate', 'PoolDescription','SQFTABOVEGROUND']\n",
        "\n",
        "# Sample the dataframe and convert to Pandas\n",
        "sample_df = real_estate_df.select(columns).sample(False, 0.1, 42)\n",
        "pandas_df = sample_df.toPandas()\n",
        "\n",
        "# Convert all values to True/False\n",
        "tf_df = pandas_df.isnull()\n",
        "\n",
        "import seaborn as sns\n",
        "\n",
        "# Plot it\n",
        "sns.heatmap(data=tf_df)\n",
        "plt.xticks(rotation=30, fontsize=10)\n",
        "plt.yticks(rotation=0, fontsize=10)\n",
        "plt.show()\n"
      ]
    },
    {
      "cell_type": "markdown",
      "metadata": {
        "id": "cb6nqWS2LhfL"
      },
      "source": [
        "## Imputing Missing Data\n",
        "Although deleting the columns with lots of missing data might seem to be the reasonable thing to do, sometimes, it can still be used by replacing null values with some reasonable values.\n",
        "\n",
        "In the above exercise, we saw that `PoolDescription` has lots of missing values, however, after taking to the client we realised that missing values implies the property doesn't have a pool. So we will replace with 'None' for this column."
      ]
    },
    {
      "cell_type": "code",
      "execution_count": null,
      "metadata": {
        "colab": {
          "base_uri": "https://localhost:8080/"
        },
        "id": "b_24xX00xNzs",
        "outputId": "6aba63f6-4a40-46ab-a652-4f6a6c8ffa5c"
      },
      "outputs": [
        {
          "name": "stdout",
          "output_type": "stream",
          "text": [
            "3257\n",
            "+--------------------+\n",
            "|     PoolDescription|\n",
            "+--------------------+\n",
            "|                null|\n",
            "|                null|\n",
            "|                None|\n",
            "|Below Ground, Out...|\n",
            "|                null|\n",
            "|                null|\n",
            "|                null|\n",
            "|                null|\n",
            "|                null|\n",
            "|Below Ground, Shared|\n",
            "|                null|\n",
            "|                null|\n",
            "|                null|\n",
            "|                null|\n",
            "|                null|\n",
            "|                null|\n",
            "|                None|\n",
            "|                null|\n",
            "|                null|\n",
            "|                null|\n",
            "|                null|\n",
            "|                null|\n",
            "|                null|\n",
            "|                null|\n",
            "|                None|\n",
            "|Below Ground, Out...|\n",
            "|                null|\n",
            "|                null|\n",
            "|                None|\n",
            "|                null|\n",
            "+--------------------+\n",
            "only showing top 30 rows\n",
            "\n",
            "+--------------------+\n",
            "|     PoolDescription|\n",
            "+--------------------+\n",
            "|                None|\n",
            "|                None|\n",
            "|                None|\n",
            "|Below Ground, Out...|\n",
            "|                None|\n",
            "|                None|\n",
            "|                None|\n",
            "|                None|\n",
            "|                None|\n",
            "|Below Ground, Shared|\n",
            "|                None|\n",
            "|                None|\n",
            "|                None|\n",
            "|                None|\n",
            "|                None|\n",
            "|                None|\n",
            "|                None|\n",
            "|                None|\n",
            "|                None|\n",
            "|                None|\n",
            "|                None|\n",
            "|                None|\n",
            "|                None|\n",
            "|                None|\n",
            "|                None|\n",
            "|Below Ground, Out...|\n",
            "|                None|\n",
            "|                None|\n",
            "|                None|\n",
            "|                None|\n",
            "+--------------------+\n",
            "only showing top 30 rows\n",
            "\n"
          ]
        }
      ],
      "source": [
        "# Count missing rows\n",
        "missing = real_estate_df.where(real_estate_df['PoolDescription'].isNull()).count()\n",
        "print(missing)\n",
        "\n",
        "# Replacing with 'None' value for that column\n",
        "real_estate_df.select('PoolDescription').show(30)\n",
        "real_estate_df.fillna('None', subset=['PoolDescription']).select('PoolDescription').show(30)\n"
      ]
    },
    {
      "cell_type": "markdown",
      "metadata": {
        "id": "r_pZnHlAd7It"
      },
      "source": [
        "We can also replace with some calculated values such as mean or median"
      ]
    },
    {
      "cell_type": "markdown",
      "metadata": {
        "id": "TndNcjQBMRR7"
      },
      "source": [
        "## Drop columns automatically\n",
        "Automation is the future of data science and learning to automate some of the data preparation will go a long way. Here we will automate dropping columns if they are missing data beyond a specific threshold.\n",
        "This can be helpful if we want drop columns based on fill rate."
      ]
    },
    {
      "cell_type": "code",
      "execution_count": null,
      "metadata": {
        "colab": {
          "base_uri": "https://localhost:8080/"
        },
        "id": "jK1RHxkuiulS",
        "outputId": "f9ea1e14-7839-4e33-91e7-4277cb79a0fa"
      },
      "outputs": [
        {
          "name": "stdout",
          "output_type": "stream",
          "text": [
            "73\n",
            "71\n"
          ]
        }
      ],
      "source": [
        "def drop_col(df, threshold):\n",
        "  total_rows = df.count()\n",
        "  for col in df.columns:\n",
        "    missing_rows = df.where(df[col].isNull()).count()\n",
        "    missing_percent = missing_rows / total_rows\n",
        "    if missing_percent > threshold:\n",
        "      df = df.drop(col)\n",
        "  return df\n",
        "\n",
        "# Drop columns that are more than 80% missing\n",
        "new_df = drop_col(real_estate_df, 0.8)\n",
        "\n",
        "print(len(real_estate_df.columns))\n",
        "print(len(new_df.columns))"
      ]
    },
    {
      "cell_type": "markdown",
      "metadata": {
        "id": "NcYXX2do2sHc"
      },
      "source": [
        "# **Creating New Features**\n",
        "---"
      ]
    },
    {
      "cell_type": "code",
      "execution_count": 7,
      "metadata": {
        "id": "z6rGp8XIn8kH"
      },
      "outputs": [],
      "source": [
        "real_estate_df = spark.read.parquet('/content/drive/My Drive/Colab Datasets/PySpark Sessions/Real_Estate_Data_Parquet')\n",
        "real_estate_df = real_estate_df.withColumnRenamed('No.','Listing_Numbers')"
      ]
    },
    {
      "cell_type": "markdown",
      "metadata": {
        "id": "Jrb5rZpTWcHb"
      },
      "source": [
        "## Feature generation using differences\n",
        "Let's explore generating features using existing ones. Here we will calculate the open area around the house and find its correlation with the label column."
      ]
    },
    {
      "cell_type": "code",
      "execution_count": 8,
      "metadata": {
        "colab": {
          "base_uri": "https://localhost:8080/"
        },
        "id": "6K3Ck4bkkylz",
        "outputId": "b4c581c4-3eb4-4e8c-b3ad-1ddf3144edce"
      },
      "outputs": [
        {
          "output_type": "stream",
          "name": "stdout",
          "text": [
            "Corr of ACRES vs SALESCLOSEPRICE: 0.22060612588935305\n",
            "Corr of FOUNDATIONSIZE vs SALESCLOSEPRICE: 0.6152231695664393\n",
            "Corr of garden_size vs SALESCLOSEPRICE: 0.2071458543085422\n"
          ]
        }
      ],
      "source": [
        "# Lot size in square feet\n",
        "acres_to_sqfeet = 43560\n",
        "real_estate_df = real_estate_df.withColumn('LOT_SIZE_SQFT', real_estate_df['ACRES'] * acres_to_sqfeet)\n",
        "\n",
        "# Create new column garden_size\n",
        "real_estate_df = real_estate_df.withColumn('garden_size', real_estate_df['LOT_SIZE_SQFT'] - real_estate_df['FOUNDATIONSIZE'])\n",
        "\n",
        "# Corr of ACRES vs SALESCLOSEPRICE\n",
        "print(\"Corr of ACRES vs SALESCLOSEPRICE: \" + str(real_estate_df.corr('SALESCLOSEPRICE', 'LOT_SIZE_SQFT')))\n",
        "# Corr of FOUNDATIONSIZE vs SALESCLOSEPRICE\n",
        "print(\"Corr of FOUNDATIONSIZE vs SALESCLOSEPRICE: \" + str(real_estate_df.corr('SALESCLOSEPRICE', 'FOUNDATIONSIZE')))\n",
        "# Corr of garden_size vs SALESCLOSEPRICE\n",
        "print(\"Corr of garden_size vs SALESCLOSEPRICE: \" + str(real_estate_df.corr('SALESCLOSEPRICE', 'garden_size')))\n"
      ]
    },
    {
      "cell_type": "markdown",
      "metadata": {
        "id": "8rvAFXoY2raK"
      },
      "source": [
        "## Creating features using Ratios\n",
        "Ratios are another commonly used features when building a machine learning models like share of a pariticular product, gender etc."
      ]
    },
    {
      "cell_type": "code",
      "execution_count": 9,
      "metadata": {
        "colab": {
          "base_uri": "https://localhost:8080/"
        },
        "id": "4zxU6isCk3tR",
        "outputId": "0a06b1fb-c383-497c-eb3d-17da2a4e03a9"
      },
      "outputs": [
        {
          "output_type": "stream",
          "name": "stdout",
          "text": [
            "+------------+--------+----------+\n",
            "|BED_TO_BATHS|Bedrooms|BATHSTOTAL|\n",
            "+------------+--------+----------+\n",
            "|         2.0|       4|         2|\n",
            "|         1.0|       1|         1|\n",
            "|         3.0|       3|         1|\n",
            "|        1.25|       5|         4|\n",
            "|         1.5|       3|         2|\n",
            "+------------+--------+----------+\n",
            "only showing top 5 rows\n",
            "\n",
            "Corr of Bedrooms vs SALESCLOSEPRICE: 0.5348605700654692\n",
            "Corr of BATHSTOTAL vs SALESCLOSEPRICE: 0.6922501532803724\n",
            "Corr of BED_TO_BATHS vs SALESCLOSEPRICE: -0.2733668713362824\n"
          ]
        }
      ],
      "source": [
        "# BED_TO_BATHS\n",
        "real_estate_df = real_estate_df.withColumn('BED_TO_BATHS',real_estate_df.Bedrooms/real_estate_df.BATHSTOTAL)\n",
        "real_estate_df[['BED_TO_BATHS', 'Bedrooms', 'BATHSTOTAL']].show(5)\n",
        "\n",
        "# Corr of Bedrooms vs SALESCLOSEPRICE\n",
        "print(\"Corr of Bedrooms vs SALESCLOSEPRICE: \" + str(real_estate_df.corr('SALESCLOSEPRICE', 'Bedrooms')))\n",
        "# Corr of BATHSTOTAL vs SALESCLOSEPRICE\n",
        "print(\"Corr of BATHSTOTAL vs SALESCLOSEPRICE: \" + str(real_estate_df.corr('SALESCLOSEPRICE', 'BATHSTOTAL')))\n",
        "# Corr of BED_TO_BATHS vs SALESCLOSEPRICE\n",
        "print(\"Corr of BED_TO_BATHS vs SALESCLOSEPRICE: \" + str(real_estate_df.corr('SALESCLOSEPRICE', 'BED_TO_BATHS')))\n",
        "\n"
      ]
    },
    {
      "cell_type": "markdown",
      "metadata": {
        "id": "uO4IdyiTYqKa"
      },
      "source": [
        "## Deeper Features\n",
        "Creating more complicated variables doen not necesarily increase efficacy of the features. Lets see an example"
      ]
    },
    {
      "cell_type": "code",
      "execution_count": 10,
      "metadata": {
        "colab": {
          "base_uri": "https://localhost:8080/",
          "height": 1000
        },
        "id": "V941UhRap4NN",
        "outputId": "c5a0153d-a29e-4c47-d6e0-47203060574e"
      },
      "outputs": [
        {
          "output_type": "stream",
          "name": "stdout",
          "text": [
            "+-------+-------------------+\n",
            "|summary| BATHS_PER_1000SQFT|\n",
            "+-------+-------------------+\n",
            "|  count|               5000|\n",
            "|   mean|  1.430261748373992|\n",
            "| stddev| 14.128904102459366|\n",
            "|    min|0.39123630672926446|\n",
            "|    max|             1000.0|\n",
            "+-------+-------------------+\n",
            "\n"
          ]
        },
        {
          "output_type": "display_data",
          "data": {
            "image/png": "[encoded data removed]",
            "text/plain": [
              "<Figure size 432x432 with 3 Axes>"
            ]
          },
          "metadata": {
            "needs_background": "light"
          }
        },
        {
          "output_type": "display_data",
          "data": {
            "image/png": "[encoded data removed]",
            "text/plain": [
              "<Figure size 432x432 with 3 Axes>"
            ]
          },
          "metadata": {
            "needs_background": "light"
          }
        }
      ],
      "source": [
        "# Create new feature by adding two features together\n",
        "real_estate_df = real_estate_df.withColumn('Total_SQFT', real_estate_df['SQFTBELOWGROUND'] + real_estate_df['SQFTABOVEGROUND'])\n",
        "\n",
        "# Create additional new feature using previously created feature\n",
        "real_estate_df = real_estate_df.withColumn('BATHS_PER_1000SQFT', real_estate_df['BATHSTOTAL'] / (real_estate_df['Total_SQFT'] / 1000))\n",
        "real_estate_df[['BATHS_PER_1000SQFT']].describe().show()\n",
        "\n",
        "# Sample and create pandas dataframe\n",
        "pandas_df = real_estate_df.sample(False, 0.5, 0).toPandas()\n",
        "\n",
        "import seaborn as sns\n",
        "\n",
        "# Linear model plots\n",
        "sns.jointplot(x='Total_SQFT', y='SalesClosePrice', data=pandas_df, kind=\"reg\")\n",
        "plt.show()\n",
        "sns.jointplot(x='BATHS_PER_1000SQFT', y='SalesClosePrice', data=pandas_df, kind=\"reg\")\n",
        "plt.show()"
      ]
    },
    {
      "cell_type": "markdown",
      "metadata": {
        "id": "UuSfaTqJmeoI"
      },
      "source": [
        "  ## Extracting Text to New Features\n",
        "As discussed previously when trying to find 'Dishwasher' in the appliance list, in this exercise we will create a new feature giving information on whether the house has a garage."
      ]
    },
    {
      "cell_type": "code",
      "execution_count": 11,
      "metadata": {
        "colab": {
          "base_uri": "https://localhost:8080/"
        },
        "id": "gHygV8FjyYuy",
        "outputId": "0daabafb-2aae-4245-b019-4ab96b8aabd5"
      },
      "outputs": [
        {
          "output_type": "stream",
          "name": "stdout",
          "text": [
            "+-----------------------------------------------------------------+-------------------+\n",
            "|                                                GARAGEDESCRIPTION|has_attached_garage|\n",
            "+-----------------------------------------------------------------+-------------------+\n",
            "|              Attached Garage, Heated Garage, Driveway - Concrete|                  1|\n",
            "|                                                   Uncovered/Open|               null|\n",
            "|         Detached Garage, Driveway - Concrete, Garage Door Opener|                  0|\n",
            "|         Attached Garage, Driveway - Concrete, Garage Door Opener|                  1|\n",
            "|                                                  Attached Garage|                  1|\n",
            "|                                                  Attached Garage|                  1|\n",
            "|         Detached Garage, Driveway - Concrete, Garage Door Opener|                  0|\n",
            "|                   Attached Garage, Tuckunder, Driveway - Asphalt|                  1|\n",
            "|Detached Garage, Driveway - Asphalt, Assigned, Garage Door Opener|                  0|\n",
            "|            Attached Garage, Insulated Garage, Driveway - Asphalt|                  1|\n",
            "+-----------------------------------------------------------------+-------------------+\n",
            "only showing top 10 rows\n",
            "\n"
          ]
        }
      ],
      "source": [
        "# Import needed functions\n",
        "from pyspark.sql.functions import when\n",
        "\n",
        "# Create boolean conditions for string matches\n",
        "has_attached_garage = real_estate_df['GARAGEDESCRIPTION'].like('%Attached Garage%')\n",
        "has_detached_garage = real_estate_df['GARAGEDESCRIPTION'].like('%Detached Garage%')\n",
        "\n",
        "# Conditional value assignment \n",
        "df = real_estate_df.withColumn('has_attached_garage', (when(has_attached_garage, 1)\n",
        "                                          .when(has_detached_garage, 0)\n",
        "                                          .otherwise(None)))\n",
        "\n",
        "# Inspect results\n",
        "df[['GARAGEDESCRIPTION', 'has_attached_garage']].show(10,truncate=100)"
      ]
    },
    {
      "cell_type": "markdown",
      "metadata": {
        "id": "uif6fYoxohIb"
      },
      "source": [
        "## Splitting & Exploding\n",
        "Being able to take a field like `GARAGEDESCRIPTION` and turning it into something useful takes effort. It is helpful to understand early on what we can gain out of expanding it. In this example, we will convert our string to a list-like array, explode it and then inspect the unique values.\n"
      ]
    },
    {
      "cell_type": "code",
      "execution_count": 12,
      "metadata": {
        "colab": {
          "base_uri": "https://localhost:8080/"
        },
        "id": "VTTDfGXHzFde",
        "outputId": "d6edb1d8-e68a-4947-aea3-63a88399d6ab"
      },
      "outputs": [
        {
          "output_type": "stream",
          "name": "stdout",
          "text": [
            "+---------------+-----------------------------------------------------------------+-------------------------------------------------------------------+-------------------+\n",
            "|Listing_Numbers|GARAGEDESCRIPTION                                                |garage_list                                                        |ex_garage_list     |\n",
            "+---------------+-----------------------------------------------------------------+-------------------------------------------------------------------+-------------------+\n",
            "|893            |Attached Garage, Heated Garage, Driveway - Concrete              |[Attached Garage, Heated Garage, Driveway - Concrete]              |Attached Garage    |\n",
            "|893            |Attached Garage, Heated Garage, Driveway - Concrete              |[Attached Garage, Heated Garage, Driveway - Concrete]              |Heated Garage      |\n",
            "|893            |Attached Garage, Heated Garage, Driveway - Concrete              |[Attached Garage, Heated Garage, Driveway - Concrete]              |Driveway - Concrete|\n",
            "|2092           |Uncovered/Open                                                   |[Uncovered/Open]                                                   |Uncovered/Open     |\n",
            "|2335           |Detached Garage, Driveway - Concrete, Garage Door Opener         |[Detached Garage, Driveway - Concrete, Garage Door Opener]         |Detached Garage    |\n",
            "|2335           |Detached Garage, Driveway - Concrete, Garage Door Opener         |[Detached Garage, Driveway - Concrete, Garage Door Opener]         |Driveway - Concrete|\n",
            "|2335           |Detached Garage, Driveway - Concrete, Garage Door Opener         |[Detached Garage, Driveway - Concrete, Garage Door Opener]         |Garage Door Opener |\n",
            "|4920           |Attached Garage, Driveway - Concrete, Garage Door Opener         |[Attached Garage, Driveway - Concrete, Garage Door Opener]         |Attached Garage    |\n",
            "|4920           |Attached Garage, Driveway - Concrete, Garage Door Opener         |[Attached Garage, Driveway - Concrete, Garage Door Opener]         |Driveway - Concrete|\n",
            "|4920           |Attached Garage, Driveway - Concrete, Garage Door Opener         |[Attached Garage, Driveway - Concrete, Garage Door Opener]         |Garage Door Opener |\n",
            "|2942           |Attached Garage                                                  |[Attached Garage]                                                  |Attached Garage    |\n",
            "|672            |Attached Garage                                                  |[Attached Garage]                                                  |Attached Garage    |\n",
            "|2118           |Detached Garage, Driveway - Concrete, Garage Door Opener         |[Detached Garage, Driveway - Concrete, Garage Door Opener]         |Detached Garage    |\n",
            "|2118           |Detached Garage, Driveway - Concrete, Garage Door Opener         |[Detached Garage, Driveway - Concrete, Garage Door Opener]         |Driveway - Concrete|\n",
            "|2118           |Detached Garage, Driveway - Concrete, Garage Door Opener         |[Detached Garage, Driveway - Concrete, Garage Door Opener]         |Garage Door Opener |\n",
            "|679            |Attached Garage, Tuckunder, Driveway - Asphalt                   |[Attached Garage, Tuckunder, Driveway - Asphalt]                   |Attached Garage    |\n",
            "|679            |Attached Garage, Tuckunder, Driveway - Asphalt                   |[Attached Garage, Tuckunder, Driveway - Asphalt]                   |Tuckunder          |\n",
            "|679            |Attached Garage, Tuckunder, Driveway - Asphalt                   |[Attached Garage, Tuckunder, Driveway - Asphalt]                   |Driveway - Asphalt |\n",
            "|3202           |Detached Garage, Driveway - Asphalt, Assigned, Garage Door Opener|[Detached Garage, Driveway - Asphalt, Assigned, Garage Door Opener]|Detached Garage    |\n",
            "|3202           |Detached Garage, Driveway - Asphalt, Assigned, Garage Door Opener|[Detached Garage, Driveway - Asphalt, Assigned, Garage Door Opener]|Driveway - Asphalt |\n",
            "+---------------+-----------------------------------------------------------------+-------------------------------------------------------------------+-------------------+\n",
            "only showing top 20 rows\n",
            "\n",
            "+-------------------------+-----+\n",
            "|ex_garage_list           |count|\n",
            "+-------------------------+-----+\n",
            "|Attached Garage          |2262 |\n",
            "|Detached Garage          |2198 |\n",
            "|Garage Door Opener       |2129 |\n",
            "|Driveway - Asphalt       |1513 |\n",
            "|Driveway - Concrete      |785  |\n",
            "|Insulated Garage         |492  |\n",
            "|Tuckunder                |365  |\n",
            "|Heated Garage            |289  |\n",
            "|Underground Garage       |160  |\n",
            "|Assigned                 |147  |\n",
            "|Uncovered/Open           |99   |\n",
            "|Other                    |94   |\n",
            "|Driveway - Shared        |84   |\n",
            "|Secured                  |79   |\n",
            "|Driveway - Gravel        |65   |\n",
            "|None                     |62   |\n",
            "|Tandem                   |59   |\n",
            "|No Int Access to Dwelling|54   |\n",
            "|Driveway - Other Surface |51   |\n",
            "|Covered                  |42   |\n",
            "+-------------------------+-----+\n",
            "only showing top 20 rows\n",
            "\n"
          ]
        }
      ],
      "source": [
        "# Import needed functions\n",
        "from pyspark.sql.functions import split,explode\n",
        "\n",
        "# Convert string to list-like array\n",
        "real_estate_df = real_estate_df.withColumn('garage_list', split(real_estate_df['GARAGEDESCRIPTION'], ', '))\n",
        "\n",
        "# Explode the values into new records\n",
        "real_estate_df_exploded = real_estate_df.withColumn('ex_garage_list', explode(real_estate_df['garage_list']))\n",
        "\n",
        "# Inspect the values\n",
        "real_estate_df_exploded.select('Listing_Numbers','GARAGEDESCRIPTION','garage_list','ex_garage_list').show(20,truncate=False)\n",
        "real_estate_df_exploded.groupBy('ex_garage_list').count().sort(\"count\", ascending=False).show(20, truncate=False)\n"
      ]
    },
    {
      "cell_type": "markdown",
      "metadata": {
        "id": "mexPqm9JaCTj"
      },
      "source": [
        "## Time Components\n",
        "Being able to work with time components for building features is important but you can also use them to explore and understand your data further. In this exercise, we will be looking to see if there is a pattern to which day of the week a house lists on. PySpark's week starts on Sunday, with a value of 1 and ends on Saturday, a value of 7.\n"
      ]
    },
    {
      "cell_type": "code",
      "execution_count": 13,
      "metadata": {
        "colab": {
          "base_uri": "https://localhost:8080/",
          "height": 283
        },
        "id": "_yeTGfFOw4zX",
        "outputId": "572c0502-ab1a-4f41-d97b-b92a0eb0d0d7"
      },
      "outputs": [
        {
          "output_type": "display_data",
          "data": {
            "image/png": "[encoded data removed]",
            "text/plain": [
              "<Figure size 432x288 with 1 Axes>"
            ]
          },
          "metadata": {
            "needs_background": "light"
          }
        }
      ],
      "source": [
        "# Import needed functions\n",
        "from pyspark.sql.functions import to_date, dayofweek\n",
        "\n",
        "# Convert to date type\n",
        "real_estate_df = real_estate_df.withColumn('LISTDATE', to_date(real_estate_df.LISTDATE))\n",
        "\n",
        "# Get the day of the week\n",
        "real_estate_df = real_estate_df.withColumn('Day_of_Week', dayofweek(real_estate_df.LISTDATE))\n",
        "\n",
        "# Sample and convert to pandas dataframe\n",
        "sample_df = real_estate_df.sample(False, 0.5, 42).toPandas()\n",
        "\n",
        "# Plot count plot of of day of week\n",
        "sns.countplot(x=\"Day_of_Week\", data=sample_df)\n",
        "plt.show()"
      ]
    },
    {
      "cell_type": "markdown",
      "metadata": {
        "id": "vZF-Oc35_qpK"
      },
      "source": [
        "## Using Conditional Statements\n",
        "As seen above, it is less likely for a home to list on the weekend thus it would make sense to create a flag for house listed on weekday. Although there is a function available in PySpark called `Binarizer`, we are going to do it using `.when` and `.otherwise` which is similar to `CASE\\WHEN` in SQL and `if\\elif\\else` in python."
      ]
    },
    {
      "cell_type": "code",
      "execution_count": 14,
      "metadata": {
        "colab": {
          "base_uri": "https://localhost:8080/"
        },
        "id": "i_8GG6RQ09F2",
        "outputId": "8cfe6a96-80c5-4398-a40c-fe05632ce9d2"
      },
      "outputs": [
        {
          "output_type": "stream",
          "name": "stdout",
          "text": [
            "+-----------+------------+\n",
            "|Day_of_Week|weekend_flag|\n",
            "+-----------+------------+\n",
            "|          1|           1|\n",
            "|          2|           0|\n",
            "|          3|           0|\n",
            "|          4|           0|\n",
            "|          5|           0|\n",
            "|          6|           0|\n",
            "|          7|           1|\n",
            "+-----------+------------+\n",
            "\n"
          ]
        }
      ],
      "source": [
        "real_estate_df = real_estate_df.withColumn('weekend_flag', when(real_estate_df.Day_of_Week==1, 1)\\\n",
        "                                                           .when(real_estate_df.Day_of_Week==7, 1)\\\n",
        "                                                          .otherwise(0))\n",
        "\n",
        "# Verify transformation\n",
        "real_estate_df[['Day_of_Week', 'weekend_flag']].distinct().sort(\"Day_of_Week\").show()"
      ]
    },
    {
      "cell_type": "markdown",
      "metadata": {
        "id": "s6xE7mx9A0zl"
      },
      "source": [
        "## Bucketing\n",
        "It might be important if a house has 1, 2, 3 or 4 bedrooms, but, once you hit a certain point it doesn't matter if the house has 7 or 8. Here we will bucket the number of bedroom into groups accordingly"
      ]
    },
    {
      "cell_type": "code",
      "execution_count": 15,
      "metadata": {
        "colab": {
          "base_uri": "https://localhost:8080/"
        },
        "id": "GSW7gpqA1guo",
        "outputId": "7d4654da-a004-4c88-88f7-9034a307c739"
      },
      "outputs": [
        {
          "output_type": "stream",
          "name": "stdout",
          "text": [
            "+--------+--------+\n",
            "|Bedrooms|bed_grps|\n",
            "+--------+--------+\n",
            "|       0|     0.0|\n",
            "|       1|     1.0|\n",
            "|       2|     2.0|\n",
            "|       3|     2.0|\n",
            "|       4|     3.0|\n",
            "|       5|     3.0|\n",
            "|       6|     3.0|\n",
            "|       7|     3.0|\n",
            "|       8|     3.0|\n",
            "|       9|     3.0|\n",
            "+--------+--------+\n",
            "\n"
          ]
        }
      ],
      "source": [
        "from pyspark.ml.feature import Bucketizer\n",
        "\n",
        "splits = [0, 1, 2, 4, float('Inf')] #these are intervals\n",
        "bed_grps = Bucketizer(splits=splits, inputCol='Bedrooms', outputCol='bed_grps')\n",
        "\n",
        "# Apply the transformation\n",
        "real_estate_df = bed_grps.transform(real_estate_df)\n",
        "\n",
        "# Display results\n",
        "real_estate_df[['Bedrooms', 'bed_grps']].distinct().sort('Bedrooms').show()\n"
      ]
    },
    {
      "cell_type": "markdown",
      "metadata": {
        "id": "El8XTVBJCjfq"
      },
      "source": [
        "## One Hot Encoding\n",
        "In the United States, the school that your kid can attend depends on the district you live. Therefore people care deeply about which school districts their future home will be. In our data the school districts are numbered in `SchoolDistrictNumber` but they are actually categorical. We will convert this categorical variable into `dummy variables` which can be used in any ML modeling activity."
      ]
    },
    {
      "cell_type": "code",
      "execution_count": 16,
      "metadata": {
        "colab": {
          "base_uri": "https://localhost:8080/"
        },
        "id": "wxtvYtl83Itw",
        "outputId": "5a93e83a-87bb-41eb-f8c4-5ac63f98bbbe"
      },
      "outputs": [
        {
          "output_type": "stream",
          "name": "stdout",
          "text": [
            "+-----------------------------+----------+--------------+\n",
            "|         SchoolDistrictNumber|School_Idx|School_Encoded|\n",
            "+-----------------------------+----------+--------------+\n",
            "|               625 - St. Paul|       0.0| (7,[0],[1.0])|\n",
            "|622 - North St Paul-Maplewood|       1.0| (7,[1],[1.0])|\n",
            "|833 - South Washington County|       2.0| (7,[2],[1.0])|\n",
            "|             834 - Stillwater|       3.0| (7,[3],[1.0])|\n",
            "|              623 - Roseville|       4.0| (7,[4],[1.0])|\n",
            "|              832 - Mahtomedi|       5.0| (7,[5],[1.0])|\n",
            "|        624 - White Bear Lake|       6.0| (7,[6],[1.0])|\n",
            "|           6 - South St. Paul|       7.0|     (7,[],[])|\n",
            "+-----------------------------+----------+--------------+\n",
            "\n"
          ]
        }
      ],
      "source": [
        "from pyspark.ml.feature import OneHotEncoder, StringIndexer\n",
        "\n",
        "# Create string index for the categorical levels\n",
        "indexer = StringIndexer(inputCol='SchoolDistrictNumber', outputCol='School_Idx')\n",
        "real_estate_df = indexer.fit(real_estate_df).transform(real_estate_df)\n",
        "\n",
        "# Onehot encode indexed values\n",
        "encoder = OneHotEncoder(inputCol='School_Idx', outputCol='School_Encoded')\n",
        "real_estate_df = encoder.fit(real_estate_df).transform(real_estate_df)\n",
        "\n",
        "# Inspect the transformation steps\n",
        "real_estate_df[['SchoolDistrictNumber', 'School_Idx', 'School_Encoded']].distinct().sort(\"School_Idx\").show(truncate=100)\n"
      ]
    },
    {
      "cell_type": "markdown",
      "metadata": {
        "id": "xfSjeBWU3MZa"
      },
      "source": [
        "One Hot Encoding is a great way to handle categorial variables. You may have noticed that the implementation in PySpark is different than Pandas `get_dummies()` as it puts everything into a single column of type vector rather than a new column for each value.\n",
        "\n",
        "The output is a sparsevector which we will look into in a while"
      ]
    },
    {
      "cell_type": "markdown",
      "metadata": {
        "id": "dkRbF8yn2sjU"
      },
      "source": [
        "# **External Data**\n",
        "---\n",
        "* Importance of external data\n",
        "* How can we collect external data\n",
        "* Using external data to enhance modeling and reporting capabilities"
      ]
    },
    {
      "cell_type": "markdown",
      "metadata": {
        "id": "r3JTQbpTFPsL"
      },
      "source": [
        "# **PySpark ML Library Data Types**\n",
        "---\n",
        "* Dense Vectors\n",
        "* Sparse Vectors\n",
        "* labeled point\n",
        "* Matrices\n",
        "\n",
        "[Spark Documentation](https://spark.apache.org/docs/1.5.1/mllib-data-types.html)"
      ]
    },
    {
      "cell_type": "markdown",
      "metadata": {
        "id": "7VH5mhKjgehF"
      },
      "source": [
        "# **Machine Learning Models with PySpark**\n",
        "---"
      ]
    },
    {
      "cell_type": "code",
      "execution_count": 17,
      "metadata": {
        "colab": {
          "base_uri": "https://localhost:8080/"
        },
        "id": "qEmw64F8cWTn",
        "outputId": "181cd380-efe6-4742-d268-6045798b44bb"
      },
      "outputs": [
        {
          "output_type": "stream",
          "name": "stdout",
          "text": [
            "+----+-----+---+-----------+-------+-------------+-----------+--------------+-------------------+-------------------+--------------+---------------+--------+----------+--------------+------------+--------+--------+---------+-------+-----------------+------------+-------------+--------+---------+-------------------+----------------+--------------+-------------+-------------------+-------------+\n",
            "|YEAR|MONTH|DAY|DAY_OF_WEEK|AIRLINE|FLIGHT_NUMBER|TAIL_NUMBER|ORIGIN_AIRPORT|DESTINATION_AIRPORT|SCHEDULED_DEPARTURE|DEPARTURE_TIME|DEPARTURE_DELAY|TAXI_OUT|WHEELS_OFF|SCHEDULED_TIME|ELAPSED_TIME|AIR_TIME|DISTANCE|WHEELS_ON|TAXI_IN|SCHEDULED_ARRIVAL|ARRIVAL_TIME|ARRIVAL_DELAY|DIVERTED|CANCELLED|CANCELLATION_REASON|AIR_SYSTEM_DELAY|SECURITY_DELAY|AIRLINE_DELAY|LATE_AIRCRAFT_DELAY|WEATHER_DELAY|\n",
            "+----+-----+---+-----------+-------+-------------+-----------+--------------+-------------------+-------------------+--------------+---------------+--------+----------+--------------+------------+--------+--------+---------+-------+-----------------+------------+-------------+--------+---------+-------------------+----------------+--------------+-------------+-------------------+-------------+\n",
            "|2015|    1|  1|          4|     WN|          526|     N742SW|           SFO|                DEN|                555|           553|             -2|      11|       604|           150|         150|     132|     967|      916|      7|              925|         923|           -2|       0|        0|               null|            null|          null|         null|               null|         null|\n",
            "|2015|    1|  1|          4|     WN|         4859|     N8641B|           PVD|                BWI|                600|           606|              6|      11|       617|           100|          81|      63|     327|      720|      7|              740|         727|          -13|       0|        0|               null|            null|          null|         null|               null|         null|\n",
            "|2015|    1|  1|          4|     WN|          239|     N653SW|           SAT|                STL|                605|           559|             -6|       9|       608|           120|         104|      91|     786|      739|      4|              805|         743|          -22|       0|        0|               null|            null|          null|         null|               null|         null|\n",
            "|2015|    1|  1|          4|     WN|         1966|     N466WN|           CMH|                ATL|                615|           831|            136|      13|       844|           110|          90|      65|     447|      949|     12|              805|        1001|          116|       0|        0|               null|               0|             0|          116|                  0|            0|\n",
            "|2015|    1|  1|          4|     WN|         2351|     N7728D|           HOU|                ATL|                615|           612|             -3|       7|       619|           110|         106|      91|     696|      850|      8|              905|         858|           -7|       0|        0|               null|            null|          null|         null|               null|         null|\n",
            "|2015|    1|  1|          4|     WN|          799|     N7736A|           LAS|                HOU|                620|           618|             -2|      11|       629|           170|         170|     155|    1235|     1104|      4|             1110|        1108|           -2|       0|        0|               null|            null|          null|         null|               null|         null|\n",
            "|2015|    1|  1|          4|     WN|         4570|     N8611F|           SEA|                MDW|                630|           634|              4|      10|       644|           240|         227|     212|    1733|     1216|      5|             1230|        1221|           -9|       0|        0|               null|            null|          null|         null|               null|         null|\n",
            "|2015|    1|  1|          4|     WN|         3213|     N8612K|           DAL|                MDW|                645|           649|              4|       8|       657|           140|         110|      95|     793|      832|      7|              905|         839|          -26|       0|        0|               null|            null|          null|         null|               null|         null|\n",
            "|2015|    1|  1|          4|     WN|          753|     N443WN|           PVD|                FLL|                655|           656|              1|       7|       703|           200|         179|     169|    1188|      952|      3|             1015|         955|          -20|       0|        0|               null|            null|          null|         null|               null|         null|\n",
            "|2015|    1|  1|          4|     WN|          473|     N423WN|           BUF|                FLL|                700|           700|              0|      29|       729|           195|         192|     158|    1165|     1007|      5|             1015|        1012|           -3|       0|        0|               null|            null|          null|         null|               null|         null|\n",
            "|2015|    1|  1|          4|     WN|         2511|     N7735A|           MDW|                DAL|                700|           703|              3|       9|       712|           150|         143|     129|     793|      921|      5|              930|         926|           -4|       0|        0|               null|            null|          null|         null|               null|         null|\n",
            "|2015|    1|  1|          4|     WN|          893|     N737JW|           OAK|                HOU|                705|           709|              4|       8|       717|           220|         224|     212|    1642|     1249|      4|             1245|        1253|            8|       0|        0|               null|            null|          null|         null|               null|         null|\n",
            "|2015|    1|  1|          4|     WN|          235|     N691WN|           CAK|                BOS|                710|           709|             -1|       9|       718|           110|          84|      68|     549|      826|      7|              900|         833|          -27|       0|        0|               null|            null|          null|         null|               null|         null|\n",
            "|2015|    1|  1|          4|     WN|         4323|     N295WN|           CMH|                LAS|                715|           717|              2|       8|       725|           280|         262|     250|    1771|      835|      4|              855|         839|          -16|       0|        0|               null|            null|          null|         null|               null|         null|\n",
            "|2015|    1|  1|          4|     WN|           19|     N749SW|           LGA|                DAL|                720|           720|              0|      12|       732|           245|         245|     228|    1381|     1020|      5|             1025|        1025|            0|       0|        0|               null|            null|          null|         null|               null|         null|\n",
            "|2015|    1|  1|          4|     WN|          697|     N508SW|           ELP|                AUS|                735|           735|              0|       9|       744|            90|          87|      75|     528|      959|      3|             1005|        1002|           -3|       0|        0|               null|            null|          null|         null|               null|         null|\n",
            "|2015|    1|  1|          4|     WN|         2279|     N440LV|           SLC|                PHX|                735|           736|              1|      29|       805|           105|         104|      69|     507|      914|      6|              920|         920|            0|       0|        0|               null|            null|          null|         null|               null|         null|\n",
            "|2015|    1|  1|          4|     WN|         1370|     N967WN|           IND|                BWI|                740|           736|             -4|       7|       743|           105|          75|      63|     516|      846|      5|              925|         851|          -34|       0|        0|               null|            null|          null|         null|               null|         null|\n",
            "|2015|    1|  1|          4|     WN|         1126|     N771SA|           LAS|                SAT|                740|           739|             -1|      14|       753|           150|         150|     133|    1069|     1206|      3|             1210|        1209|           -1|       0|        0|               null|            null|          null|         null|               null|         null|\n",
            "|2015|    1|  1|          4|     WN|          742|     N245WN|           TPA|                ATL|                740|           739|             -1|       9|       748|            90|         108|      69|     406|      857|     30|              910|         927|           17|       0|        0|               null|              17|             0|            0|                  0|            0|\n",
            "+----+-----+---+-----------+-------+-------------+-----------+--------------+-------------------+-------------------+--------------+---------------+--------+----------+--------------+------------+--------+--------+---------+-------+-----------------+------------+-------------+--------+---------+-------------------+----------------+--------------+-------------+-------------------+-------------+\n",
            "only showing top 20 rows\n",
            "\n"
          ]
        }
      ],
      "source": [
        "flights = spark.read.parquet('/content/drive/My Drive/Colab Datasets/PySpark Sessions/Flights_Data_Parquet').sample(False, 0.1, 1000)\n",
        "flights.show(20)"
      ]
    },
    {
      "cell_type": "markdown",
      "metadata": {
        "id": "BKb6K9QLj9Yo"
      },
      "source": [
        "## Data Leakage\n",
        "In this exercise we will try to predict Arrival Delay based on several data like origin airport, distance etc. In such a scenario and with the available data, we might end up using some columns which are currently available with us but will not be available in actual scenario.\n",
        "\n",
        "An example of this is departure delay. Using this column might give us very good results but our motive is to predict if a flight will be delayed, and we will not have this data with us then."
      ]
    },
    {
      "cell_type": "code",
      "execution_count": 18,
      "metadata": {
        "colab": {
          "base_uri": "https://localhost:8080/"
        },
        "id": "3E1k8aT7ktAb",
        "outputId": "a595bf68-f1a8-4cc3-82c7-b0419ad2b09e"
      },
      "outputs": [
        {
          "output_type": "execute_result",
          "data": {
            "text/plain": [
              "0.9372946014112368"
            ]
          },
          "metadata": {},
          "execution_count": 18
        }
      ],
      "source": [
        "flights.corr('ARRIVAL_DELAY', 'DEPARTURE_DELAY')"
      ]
    },
    {
      "cell_type": "markdown",
      "metadata": {
        "id": "OZ9GuCChoxUn"
      },
      "source": [
        "Do you see any more such columns? What kind of external data could have been useful here?"
      ]
    },
    {
      "cell_type": "markdown",
      "metadata": {
        "id": "Ot58SuF8mjGS"
      },
      "source": [
        "## Selecting appropriate features"
      ]
    },
    {
      "cell_type": "markdown",
      "metadata": {
        "id": "aKrwquA9mt2t"
      },
      "source": [
        "Is Year a good feature for the model? What about month or day? day of week? Discuss!"
      ]
    },
    {
      "cell_type": "code",
      "execution_count": 19,
      "metadata": {
        "colab": {
          "base_uri": "https://localhost:8080/"
        },
        "id": "ssh_SBZAjzaW",
        "outputId": "6baa3528-121d-412c-a390-390f86fb5a97"
      },
      "outputs": [
        {
          "output_type": "stream",
          "name": "stdout",
          "text": [
            "+----+-----+\n",
            "|YEAR|MONTH|\n",
            "+----+-----+\n",
            "|2015|    1|\n",
            "|2015|    2|\n",
            "|2015|    3|\n",
            "|2015|    4|\n",
            "|2015|    5|\n",
            "|2015|    6|\n",
            "|2015|    7|\n",
            "|2015|    8|\n",
            "|2015|    9|\n",
            "|2015|   10|\n",
            "|2015|   11|\n",
            "|2015|   12|\n",
            "+----+-----+\n",
            "\n"
          ]
        }
      ],
      "source": [
        "flights.select('YEAR','MONTH').distinct().sort('MONTH').show()"
      ]
    },
    {
      "cell_type": "markdown",
      "metadata": {
        "id": "f0iJn71gtdpQ"
      },
      "source": [
        "Let us select all required columns from the dataframe that can be used for modeling.\n",
        "\n",
        "Now before we get started, it's important to know that Spark only handles `numeric` data so all the columns in our DataFrame must be either integers or decimals ('doubles')."
      ]
    },
    {
      "cell_type": "code",
      "execution_count": 20,
      "metadata": {
        "colab": {
          "base_uri": "https://localhost:8080/"
        },
        "id": "sCXXK15XlaKj",
        "outputId": "c1cf63a2-01fa-46c0-9c6a-7dbf38390375"
      },
      "outputs": [
        {
          "output_type": "stream",
          "name": "stdout",
          "text": [
            "root\n",
            " |-- ARRIVAL_DELAY: integer (nullable = true)\n",
            " |-- DAY_OF_WEEK: integer (nullable = true)\n",
            " |-- AIRLINE: string (nullable = true)\n",
            " |-- ORIGIN_AIRPORT: string (nullable = true)\n",
            " |-- DESTINATION_AIRPORT: string (nullable = true)\n",
            " |-- DISTANCE: integer (nullable = true)\n",
            "\n",
            "+-------+-----------------+-----------------+\n",
            "|summary|    ARRIVAL_DELAY|         DISTANCE|\n",
            "+-------+-----------------+-----------------+\n",
            "|  count|           572625|           583156|\n",
            "|   mean|4.330900676708143|822.1281715355753|\n",
            "| stddev|38.98357170815414|607.8704371287403|\n",
            "|    min|              -69|               31|\n",
            "|    max|             1576|             4983|\n",
            "+-------+-----------------+-----------------+\n",
            "\n"
          ]
        }
      ],
      "source": [
        "flights = flights.select('ARRIVAL_DELAY','DAY_OF_WEEK','AIRLINE','ORIGIN_AIRPORT','DESTINATION_AIRPORT','DISTANCE')\n",
        "flights.printSchema()\n",
        "flights.describe(['ARRIVAL_DELAY','DISTANCE']).show()"
      ]
    },
    {
      "cell_type": "markdown",
      "metadata": {
        "id": "lgPyngtlt-Aq"
      },
      "source": [
        "Well, we just said that spark can only handle integers and doubles and yet we have selected columns with string.\n",
        "These columns are actually factor columns, which we will see in a while on how to handle them.\n",
        "\n",
        "Although not applicable to this exercise, sometimes spark may read your numeric data as string and you may need to cast it to appropriate numeric data type. In such a case, you can use the `.cast()` method in combination with the `.withColumn()` method."
      ]
    },
    {
      "cell_type": "markdown",
      "metadata": {
        "id": "jmM3bH7EvgvV"
      },
      "source": [
        "## Clean missing data"
      ]
    },
    {
      "cell_type": "code",
      "execution_count": 21,
      "metadata": {
        "colab": {
          "base_uri": "https://localhost:8080/"
        },
        "id": "b91f2ucLqWft",
        "outputId": "5bf9a2cc-6756-4af2-e4db-d6278a1ace39"
      },
      "outputs": [
        {
          "output_type": "stream",
          "name": "stdout",
          "text": [
            "0.018058632681478025\n",
            "0.981941367318522\n"
          ]
        },
        {
          "output_type": "execute_result",
          "data": {
            "text/plain": [
              "572625"
            ]
          },
          "metadata": {},
          "execution_count": 21
        }
      ],
      "source": [
        "# Percentage of missing data in Arrival Delay\n",
        "print(flights.filter('ARRIVAL_DELAY IS NULL').count()/flights.count())\n",
        "\n",
        "# Total percentage of rows with no missing data\n",
        "print(flights.dropna().count()/flights.count())\n",
        "\n",
        "# Drop all rows with any missing data\n",
        "flights = flights.dropna()\n",
        "flights.count()"
      ]
    },
    {
      "cell_type": "markdown",
      "metadata": {
        "id": "RJKY7U_lzNRC"
      },
      "source": [
        "## Prepare the label column\n",
        "\n",
        "Lets start by building a classification model. In this model we will simly try to predict if a flight will get delayed or not. To do this we will create a binary variable with value 1 if arrival delay was more than 15 minutes else 0.\n"
      ]
    },
    {
      "cell_type": "code",
      "execution_count": 22,
      "metadata": {
        "colab": {
          "base_uri": "https://localhost:8080/"
        },
        "id": "xq8SOeyd2VfA",
        "outputId": "35410575-b97a-48a1-9c52-e17e85e895ff"
      },
      "outputs": [
        {
          "output_type": "stream",
          "name": "stdout",
          "text": [
            "+-------------+-----------+-------+--------------+-------------------+--------+-----+\n",
            "|ARRIVAL_DELAY|DAY_OF_WEEK|AIRLINE|ORIGIN_AIRPORT|DESTINATION_AIRPORT|DISTANCE|label|\n",
            "+-------------+-----------+-------+--------------+-------------------+--------+-----+\n",
            "|           -2|          4|     WN|           SFO|                DEN|     967|    0|\n",
            "|          -13|          4|     WN|           PVD|                BWI|     327|    0|\n",
            "|          -22|          4|     WN|           SAT|                STL|     786|    0|\n",
            "|          116|          4|     WN|           CMH|                ATL|     447|    1|\n",
            "|           -7|          4|     WN|           HOU|                ATL|     696|    0|\n",
            "+-------------+-----------+-------+--------------+-------------------+--------+-----+\n",
            "only showing top 5 rows\n",
            "\n"
          ]
        }
      ],
      "source": [
        "# Create 'label' column indicating whether flight delayed (1) or not (0)\n",
        "flights = flights.withColumn('label', (flights.ARRIVAL_DELAY>=15).cast('integer'))\n",
        "\n",
        "# Check first five records\n",
        "flights.show(5)\n"
      ]
    },
    {
      "cell_type": "markdown",
      "metadata": {
        "id": "2nlr-u8b4j_o"
      },
      "source": [
        "## One Hot Encoding\n",
        "\n",
        "For our categorical features, we will now create what are called 'one-hot vectors' for use in modeling.\n",
        "\n",
        "The first step here would be to encode the categorical feature to create a StringIndexer. This will take a column of strings and map each unique string to a number. Then the Transformer will return a new DataFrame with a numeric column corresponding to the string column. The second step is to encode this numeric column as a one-hot vector using a `OneHotEncoder`."
      ]
    },
    {
      "cell_type": "code",
      "execution_count": 23,
      "metadata": {
        "colab": {
          "base_uri": "https://localhost:8080/"
        },
        "id": "iPOTqFoU4l-B",
        "outputId": "91409d86-3675-4f27-eff6-cd0e99280b56"
      },
      "outputs": [
        {
          "output_type": "stream",
          "name": "stdout",
          "text": [
            "+-------+-----------+\n",
            "|AIRLINE|AIRLINE_idx|\n",
            "+-------+-----------+\n",
            "|     WN|        0.0|\n",
            "|     OO|        3.0|\n",
            "|     DL|        1.0|\n",
            "|     AA|        2.0|\n",
            "|     VX|       13.0|\n",
            "+-------+-----------+\n",
            "only showing top 5 rows\n",
            "\n"
          ]
        }
      ],
      "source": [
        "from pyspark.ml.feature import StringIndexer\n",
        "\n",
        "# Create an indexer\n",
        "indexer = StringIndexer(inputCol='AIRLINE', outputCol='AIRLINE_idx')\n",
        "\n",
        "# Indexer identifies categories in the data\n",
        "indexer_model = indexer.fit(flights)\n",
        "\n",
        "# Indexer creates a new column with numeric index values\n",
        "flights = indexer_model.transform(flights)\n",
        "\n",
        "flights[['AIRLINE','AIRLINE_idx']].distinct().show(5)\n"
      ]
    },
    {
      "cell_type": "markdown",
      "metadata": {
        "id": "AQ0jB0T3AwIM"
      },
      "source": [
        "Quick note: the numeric index is actually based on the frequency of the categorical class"
      ]
    },
    {
      "cell_type": "code",
      "execution_count": 24,
      "metadata": {
        "colab": {
          "base_uri": "https://localhost:8080/"
        },
        "id": "3j9inkyPAG7w",
        "outputId": "71b5b662-4916-4f9f-aa4d-6984d3e9c31f"
      },
      "outputs": [
        {
          "output_type": "stream",
          "name": "stdout",
          "text": [
            "+-------------+-----------+-------+--------------+-------------------+--------+-----+-----------+----------+---------------+\n",
            "|ARRIVAL_DELAY|DAY_OF_WEEK|AIRLINE|ORIGIN_AIRPORT|DESTINATION_AIRPORT|DISTANCE|label|AIRLINE_idx|ORIGIN_idx|DESTINATION_idx|\n",
            "+-------------+-----------+-------+--------------+-------------------+--------+-----+-----------+----------+---------------+\n",
            "|           -2|          4|     WN|           SFO|                DEN|     967|    0|        0.0|       5.0|            3.0|\n",
            "|          -13|          4|     WN|           PVD|                BWI|     327|    0|        0.0|      83.0|           19.0|\n",
            "+-------------+-----------+-------+--------------+-------------------+--------+-----+-----------+----------+---------------+\n",
            "only showing top 2 rows\n",
            "\n"
          ]
        }
      ],
      "source": [
        "# Let us repeat the process for the other categorical features\n",
        "flights = StringIndexer(inputCol='ORIGIN_AIRPORT', outputCol='ORIGIN_idx').fit(flights).transform(flights)\n",
        "flights = StringIndexer(inputCol='DESTINATION_AIRPORT', outputCol='DESTINATION_idx').fit(flights).transform(flights)\n",
        "\n",
        "flights.show(2)"
      ]
    },
    {
      "cell_type": "markdown",
      "metadata": {
        "id": "J4wtzDMpBZnm"
      },
      "source": [
        "Let us now create the one-hot vectors"
      ]
    },
    {
      "cell_type": "code",
      "execution_count": 25,
      "metadata": {
        "colab": {
          "base_uri": "https://localhost:8080/"
        },
        "id": "ZZEAysYQBSpU",
        "outputId": "aca8e8a5-f5ab-4fe4-a2be-077f34cdc823"
      },
      "outputs": [
        {
          "output_type": "stream",
          "name": "stdout",
          "text": [
            "+-------------+--------------+----------------+-----------------+\n",
            "|    DOW_dummy| airline_dummy|    origin_dummy|destination_dummy|\n",
            "+-------------+--------------+----------------+-----------------+\n",
            "|(7,[4],[1.0])|(13,[0],[1.0])| (624,[5],[1.0])|  (620,[3],[1.0])|\n",
            "|(7,[4],[1.0])|(13,[0],[1.0])|(624,[83],[1.0])| (620,[19],[1.0])|\n",
            "|(7,[4],[1.0])|(13,[0],[1.0])|(624,[44],[1.0])| (620,[29],[1.0])|\n",
            "|(7,[4],[1.0])|(13,[0],[1.0])|(624,[50],[1.0])|  (620,[0],[1.0])|\n",
            "|(7,[4],[1.0])|(13,[0],[1.0])|(624,[28],[1.0])|  (620,[0],[1.0])|\n",
            "+-------------+--------------+----------------+-----------------+\n",
            "only showing top 5 rows\n",
            "\n"
          ]
        }
      ],
      "source": [
        "# Import the one hot encoder class\n",
        "from pyspark.ml.feature import OneHotEncoder\n",
        "\n",
        "# Create a one-hot encoder\n",
        "onehot = OneHotEncoder(inputCols=['DAY_OF_WEEK','AIRLINE_idx','ORIGIN_idx','DESTINATION_idx'],\\\n",
        "                       outputCols=['DOW_dummy','airline_dummy','origin_dummy','destination_dummy'])\n",
        "\n",
        "\n",
        "# Fit the estimator and then transform\n",
        "flights = onehot.fit(flights).transform(flights)\n",
        "flights[['DOW_dummy','airline_dummy','origin_dummy','destination_dummy']].show(5)"
      ]
    },
    {
      "cell_type": "code",
      "execution_count": 26,
      "metadata": {
        "colab": {
          "base_uri": "https://localhost:8080/"
        },
        "id": "Jcd1xIsEDVMf",
        "outputId": "44d65ad2-75bb-4ce6-eaa7-667c8802d251"
      },
      "outputs": [
        {
          "output_type": "stream",
          "name": "stdout",
          "text": [
            "+-------------+-----------+-------+--------------+-------------------+--------+-----+-----------+----------+---------------+-------------+--------------+-----------------+-----------------+\n",
            "|ARRIVAL_DELAY|DAY_OF_WEEK|AIRLINE|ORIGIN_AIRPORT|DESTINATION_AIRPORT|DISTANCE|label|AIRLINE_idx|ORIGIN_idx|DESTINATION_idx|    DOW_dummy| airline_dummy|     origin_dummy|destination_dummy|\n",
            "+-------------+-----------+-------+--------------+-------------------+--------+-----+-----------+----------+---------------+-------------+--------------+-----------------+-----------------+\n",
            "|           -2|          4|     WN|           SFO|                DEN|     967|    0|        0.0|       5.0|            3.0|(7,[4],[1.0])|(13,[0],[1.0])|  (624,[5],[1.0])|  (620,[3],[1.0])|\n",
            "|          -13|          4|     WN|           PVD|                BWI|     327|    0|        0.0|      83.0|           19.0|(7,[4],[1.0])|(13,[0],[1.0])| (624,[83],[1.0])| (620,[19],[1.0])|\n",
            "|          -22|          4|     WN|           SAT|                STL|     786|    0|        0.0|      44.0|           29.0|(7,[4],[1.0])|(13,[0],[1.0])| (624,[44],[1.0])| (620,[29],[1.0])|\n",
            "|          116|          4|     WN|           CMH|                ATL|     447|    1|        0.0|      50.0|            0.0|(7,[4],[1.0])|(13,[0],[1.0])| (624,[50],[1.0])|  (620,[0],[1.0])|\n",
            "|           -7|          4|     WN|           HOU|                ATL|     696|    0|        0.0|      28.0|            0.0|(7,[4],[1.0])|(13,[0],[1.0])| (624,[28],[1.0])|  (620,[0],[1.0])|\n",
            "|           -2|          4|     WN|           LAS|                HOU|    1235|    0|        0.0|       8.0|           28.0|(7,[4],[1.0])|(13,[0],[1.0])|  (624,[8],[1.0])| (620,[28],[1.0])|\n",
            "|           -9|          4|     WN|           SEA|                MDW|    1733|    0|        0.0|      10.0|           20.0|(7,[4],[1.0])|(13,[0],[1.0])| (624,[10],[1.0])| (620,[20],[1.0])|\n",
            "|          -26|          4|     WN|           DAL|                MDW|     793|    0|        0.0|      27.0|           20.0|(7,[4],[1.0])|(13,[0],[1.0])| (624,[27],[1.0])| (620,[20],[1.0])|\n",
            "|          -20|          4|     WN|           PVD|                FLL|    1188|    0|        0.0|      83.0|           21.0|(7,[4],[1.0])|(13,[0],[1.0])| (624,[83],[1.0])| (620,[21],[1.0])|\n",
            "|           -3|          4|     WN|           BUF|                FLL|    1165|    0|        0.0|      64.0|           21.0|(7,[4],[1.0])|(13,[0],[1.0])| (624,[64],[1.0])| (620,[21],[1.0])|\n",
            "|           -4|          4|     WN|           MDW|                DAL|     793|    0|        0.0|      20.0|           27.0|(7,[4],[1.0])|(13,[0],[1.0])| (624,[20],[1.0])| (620,[27],[1.0])|\n",
            "|            8|          4|     WN|           OAK|                HOU|    1642|    0|        0.0|      33.0|           28.0|(7,[4],[1.0])|(13,[0],[1.0])| (624,[33],[1.0])| (620,[28],[1.0])|\n",
            "|          -27|          4|     WN|           CAK|                BOS|     549|    0|        0.0|     123.0|           13.0|(7,[4],[1.0])|(13,[0],[1.0])|(624,[123],[1.0])| (620,[13],[1.0])|\n",
            "|          -16|          4|     WN|           CMH|                LAS|    1771|    0|        0.0|      50.0|            8.0|(7,[4],[1.0])|(13,[0],[1.0])| (624,[50],[1.0])|  (620,[8],[1.0])|\n",
            "|            0|          4|     WN|           LGA|                DAL|    1381|    0|        0.0|      17.0|           27.0|(7,[4],[1.0])|(13,[0],[1.0])| (624,[17],[1.0])| (620,[27],[1.0])|\n",
            "|           -3|          4|     WN|           ELP|                AUS|     528|    0|        0.0|      78.0|           34.0|(7,[4],[1.0])|(13,[0],[1.0])| (624,[78],[1.0])| (620,[34],[1.0])|\n",
            "|            0|          4|     WN|           SLC|                PHX|     507|    0|        0.0|      16.0|            6.0|(7,[4],[1.0])|(13,[0],[1.0])| (624,[16],[1.0])|  (620,[6],[1.0])|\n",
            "|          -34|          4|     WN|           IND|                BWI|     516|    0|        0.0|      48.0|           19.0|(7,[4],[1.0])|(13,[0],[1.0])| (624,[48],[1.0])| (620,[19],[1.0])|\n",
            "|           -1|          4|     WN|           LAS|                SAT|    1069|    0|        0.0|       8.0|           44.0|(7,[4],[1.0])|(13,[0],[1.0])|  (624,[8],[1.0])| (620,[44],[1.0])|\n",
            "|           17|          4|     WN|           TPA|                ATL|     406|    1|        0.0|      26.0|            0.0|(7,[4],[1.0])|(13,[0],[1.0])| (624,[26],[1.0])|  (620,[0],[1.0])|\n",
            "+-------------+-----------+-------+--------------+-------------------+--------+-----+-----------+----------+---------------+-------------+--------------+-----------------+-----------------+\n",
            "only showing top 20 rows\n",
            "\n"
          ]
        }
      ],
      "source": [
        "flights.show(20)"
      ]
    },
    {
      "cell_type": "markdown",
      "metadata": {
        "id": "3mLcpD_44vFI"
      },
      "source": [
        "## Assembler\n",
        "\n",
        "The next step is to combine all of the columns containing our features into a single vector. This needs to be done because every Spark model expects the data to be in this form."
      ]
    },
    {
      "cell_type": "code",
      "execution_count": 27,
      "metadata": {
        "colab": {
          "base_uri": "https://localhost:8080/"
        },
        "id": "yPtC3qez4x4I",
        "outputId": "44e700f5-74cb-473f-bd51-32bf536b1942"
      },
      "outputs": [
        {
          "output_type": "stream",
          "name": "stdout",
          "text": [
            "+-----+-------------------------------------------------+\n",
            "|label|features                                         |\n",
            "+-----+-------------------------------------------------+\n",
            "|0    |(1265,[4,7,25,647,1264],[1.0,1.0,1.0,1.0,967.0]) |\n",
            "|0    |(1265,[4,7,103,663,1264],[1.0,1.0,1.0,1.0,327.0])|\n",
            "|0    |(1265,[4,7,64,673,1264],[1.0,1.0,1.0,1.0,786.0]) |\n",
            "|1    |(1265,[4,7,70,644,1264],[1.0,1.0,1.0,1.0,447.0]) |\n",
            "|0    |(1265,[4,7,48,644,1264],[1.0,1.0,1.0,1.0,696.0]) |\n",
            "+-----+-------------------------------------------------+\n",
            "only showing top 5 rows\n",
            "\n"
          ]
        }
      ],
      "source": [
        "# Import the necessary class\n",
        "from pyspark.ml.feature import VectorAssembler\n",
        "\n",
        "# Create an assembler object\n",
        "assembler = VectorAssembler(inputCols=['DOW_dummy','airline_dummy','origin_dummy','destination_dummy','DISTANCE'], outputCol='features')\n",
        "\n",
        "# Consolidate predictor columns\n",
        "flights = assembler.transform(flights)\n",
        "\n",
        "# Check the resulting column\n",
        "flights.select('label','features').show(5, truncate=False)"
      ]
    },
    {
      "cell_type": "markdown",
      "metadata": {
        "id": "Rta2G3ck410w"
      },
      "source": [
        "## Train Test Split\n",
        "\n",
        "Now that we have cleaned our data and gotten it ready for modeling, we need to split the data into a test set and a train set to get a more realistic idea of how our model will perform with a new data.\n",
        "\n",
        "In Spark it's important to make sure you split the data after all the transformations because operations like StringIndexer don't always produce the same index even when given the same list of strings. why?"
      ]
    },
    {
      "cell_type": "code",
      "execution_count": 28,
      "metadata": {
        "colab": {
          "base_uri": "https://localhost:8080/"
        },
        "id": "NqsDQRST44Cy",
        "outputId": "dc66e11c-5195-4439-878d-bbb5990a3ffe"
      },
      "outputs": [
        {
          "output_type": "stream",
          "name": "stdout",
          "text": [
            "0.7999650731281379\n"
          ]
        }
      ],
      "source": [
        "# Split into training and testing sets in a 80:20 ratio\n",
        "flights_train, flights_test = flights.select('label','features').randomSplit([0.8, 0.2], seed = 1)\n",
        "\n",
        "print(flights_train.count()/flights.count())"
      ]
    },
    {
      "cell_type": "markdown",
      "metadata": {
        "id": "_FluDGeA46xx"
      },
      "source": [
        "## Decision Tree\n",
        "\n",
        "Time to finally fit our first model"
      ]
    },
    {
      "cell_type": "code",
      "execution_count": 29,
      "metadata": {
        "colab": {
          "base_uri": "https://localhost:8080/"
        },
        "id": "hCm8HAu448kS",
        "outputId": "e49a8091-2991-46d1-9def-6bd356de18cb"
      },
      "outputs": [
        {
          "output_type": "stream",
          "name": "stdout",
          "text": [
            "+-----+----------+---------------------------------------+\n",
            "|label|prediction|probability                            |\n",
            "+-----+----------+---------------------------------------+\n",
            "|0    |0.0       |[0.8059440415869392,0.1940559584130608]|\n",
            "|0    |0.0       |[0.8059440415869392,0.1940559584130608]|\n",
            "|0    |0.0       |[0.8059440415869392,0.1940559584130608]|\n",
            "|0    |0.0       |[0.8059440415869392,0.1940559584130608]|\n",
            "|0    |0.0       |[0.8059440415869392,0.1940559584130608]|\n",
            "+-----+----------+---------------------------------------+\n",
            "only showing top 5 rows\n",
            "\n"
          ]
        }
      ],
      "source": [
        "# Import the Decision Tree Classifier class\n",
        "from pyspark.ml.classification import DecisionTreeClassifier\n",
        "\n",
        "# Create a classifier object and fit to the training data\n",
        "tree = DecisionTreeClassifier()\n",
        "tree_model = tree.fit(flights_train)\n",
        "\n",
        "# Create predictions for the testing data and take a look at the predictions\n",
        "prediction = tree_model.transform(flights_test)\n",
        "prediction.select('label', 'prediction', 'probability').show(5, False)\n",
        "\n"
      ]
    },
    {
      "cell_type": "markdown",
      "metadata": {
        "id": "B3xefon15G2H"
      },
      "source": [
        "## Confusion Matrix"
      ]
    },
    {
      "cell_type": "code",
      "execution_count": null,
      "metadata": {
        "colab": {
          "base_uri": "https://localhost:8080/"
        },
        "id": "H3e3X0T15JAs",
        "outputId": "25524bd3-4c94-4163-822e-adfb4040c86a"
      },
      "outputs": [
        {
          "name": "stdout",
          "output_type": "stream",
          "text": [
            "+-----+----------+-----+\n",
            "|label|prediction|count|\n",
            "+-----+----------+-----+\n",
            "|    1|       0.0|21255|\n",
            "|    0|       0.0|93272|\n",
            "|    1|       1.0|    7|\n",
            "|    0|       1.0|   11|\n",
            "+-----+----------+-----+\n",
            "\n",
            "0.8143437077131258\n"
          ]
        }
      ],
      "source": [
        "# Create a confusion matrix\n",
        "prediction.groupBy('label', 'prediction').count().show()\n",
        "\n",
        "# Calculate the elements of the confusion matrix\n",
        "TN = prediction.filter('prediction = 0 AND label = prediction').count()\n",
        "TP = prediction.filter('prediction = 1 AND label = prediction').count()\n",
        "FN = prediction.filter('prediction = 0 AND label != prediction').count()\n",
        "FP = prediction.filter('prediction = 1 AND label != prediction').count()\n",
        "\n",
        "# Accuracy measures the proportion of correct predictions\n",
        "accuracy = (TN+TP)/(TN+TP+FN+FP)\n",
        "print(accuracy)"
      ]
    },
    {
      "cell_type": "markdown",
      "metadata": {
        "id": "1eAYD_TG5K7Y"
      },
      "source": [
        "## Logistic Regression"
      ]
    },
    {
      "cell_type": "code",
      "execution_count": null,
      "metadata": {
        "id": "1t-xiKRT5NQY"
      },
      "outputs": [],
      "source": [
        "# Import the logistic regression class\n",
        "from pyspark.ml.classification import LogisticRegression\n",
        "\n",
        "# Create a classifier object and train on training data\n",
        "logistic = LogisticRegression().fit(flights_train)"
      ]
    },
    {
      "cell_type": "code",
      "execution_count": null,
      "metadata": {
        "colab": {
          "base_uri": "https://localhost:8080/"
        },
        "id": "sYvBSO71LZqd",
        "outputId": "8d253de4-788b-49a1-bec8-a92390f20af1"
      },
      "outputs": [
        {
          "name": "stdout",
          "output_type": "stream",
          "text": [
            "+-----+----------+-----+\n",
            "|label|prediction|count|\n",
            "+-----+----------+-----+\n",
            "|    1|       0.0|21258|\n",
            "|    0|       0.0|93256|\n",
            "|    1|       1.0|    4|\n",
            "|    0|       1.0|   27|\n",
            "+-----+----------+-----+\n",
            "\n",
            "0.814177834039024\n"
          ]
        }
      ],
      "source": [
        "# Create predictions for the testing data and show confusion matrix\n",
        "prediction = logistic.transform(flights_test)\n",
        "\n",
        "# Create a confusion matrix\n",
        "prediction.groupBy('label', 'prediction').count().show()\n",
        "\n",
        "# Calculate the elements of the confusion matrix\n",
        "TN = prediction.filter('prediction = 0 AND label = prediction').count()\n",
        "TP = prediction.filter('prediction = 1 AND label = prediction').count()\n",
        "FN = prediction.filter('prediction = 0 AND label != prediction').count()\n",
        "FP = prediction.filter('prediction = 1 AND label != prediction').count()\n",
        "\n",
        "# Accuracy measures the proportion of correct predictions\n",
        "accuracy = (TN+TP)/(TN+TP+FN+FP)\n",
        "print(accuracy)"
      ]
    },
    {
      "cell_type": "markdown",
      "metadata": {
        "id": "_ngQ8pfw5Qvz"
      },
      "source": [
        "## Accuracy, Precision and Recall\n",
        "\n",
        "Accuracy is generally not a very reliable metric because as we have already seen it can be biased by the most common target class.\n",
        "\n",
        "There are two other useful metrics:\n",
        "\n",
        "precision and recall.\n",
        "\n",
        "*Precision* is the proportion of positive predictions which are correct. For all flights which are predicted to be delayed, what proportion is actually delayed?\n",
        "\n",
        "*Recall* is the proportion of positives outcomes which are correctly predicted. For all delayed flights, what proportion is correctly predicted by the model?\n"
      ]
    },
    {
      "cell_type": "code",
      "execution_count": null,
      "metadata": {
        "colab": {
          "base_uri": "https://localhost:8080/"
        },
        "id": "lKXgCpKj5UWb",
        "outputId": "96064246-f481-471e-a058-3a2b11063f84"
      },
      "outputs": [
        {
          "name": "stdout",
          "output_type": "stream",
          "text": [
            "precision = 0.13\n",
            "recall = 0.00\n",
            "Weighted Precision = 0.69\n",
            "AUC = 0.59\n"
          ]
        }
      ],
      "source": [
        "from pyspark.ml.evaluation import MulticlassClassificationEvaluator, BinaryClassificationEvaluator\n",
        "\n",
        "# Calculate precision and recall\n",
        "precision = TP / (TP + FP)\n",
        "recall = TP / (TP + FN)\n",
        "\n",
        "# Find weighted precision\n",
        "multi_evaluator = MulticlassClassificationEvaluator()\n",
        "weighted_precision = multi_evaluator.evaluate(prediction, {multi_evaluator.metricName: \"weightedPrecision\"})\n",
        "\n",
        "# Find AUC\n",
        "binary_evaluator = BinaryClassificationEvaluator()\n",
        "auc = binary_evaluator.evaluate(prediction, {binary_evaluator.metricName: \"areaUnderROC\"})\n",
        "\n",
        "print('precision = {:.2f}\\nrecall = {:.2f}\\nWeighted Precision = {:.2f}\\nAUC = {:.2f}'.format(precision, recall, weighted_precision, auc))\n"
      ]
    },
    {
      "cell_type": "markdown",
      "metadata": {
        "id": "NMYFOZE0_L5P"
      },
      "source": [
        "## How to handle a class imbalance data\n",
        "* sub sampling\n",
        "* over sampling\n",
        "* tuning the model"
      ]
    },
    {
      "cell_type": "markdown",
      "metadata": {
        "id": "T8hdkF7Gj3Y-"
      },
      "source": [
        "## Regression Model\n",
        "\n",
        "Let us try building a simple linear regression model using only distance as a predictor"
      ]
    },
    {
      "cell_type": "code",
      "execution_count": null,
      "metadata": {
        "id": "rkZ7lofNOwvN"
      },
      "outputs": [],
      "source": [
        "# Import the necessary class\n",
        "from pyspark.ml.feature import VectorAssembler\n",
        "\n",
        "# Create an assembler object\n",
        "assembler = VectorAssembler(inputCols=['DISTANCE'], outputCol='features_dist')\n",
        "\n",
        "# Consolidate predictor columns\n",
        "flights_reg = assembler.transform(flights)\n",
        "\n",
        "# Split into training and testing sets in a 80:20 ratio\n",
        "flights_train, flights_test = flights_reg.select('ARRIVAL_DELAY','features_dist').randomSplit([0.8, 0.2], seed = 1)"
      ]
    },
    {
      "cell_type": "code",
      "execution_count": null,
      "metadata": {
        "colab": {
          "base_uri": "https://localhost:8080/"
        },
        "id": "Ykg9ZSm0uhNY",
        "outputId": "3eb0ef9d-b33d-450f-c455-a660cf681847"
      },
      "outputs": [
        {
          "name": "stdout",
          "output_type": "stream",
          "text": [
            "+-------------+------------------+\n",
            "|ARRIVAL_DELAY|prediction        |\n",
            "+-------------+------------------+\n",
            "|-66          |1.7824422085007665|\n",
            "|-62          |3.005541570077937 |\n",
            "|-62          |2.3679517093331923|\n",
            "|-62          |1.736674619486911 |\n",
            "|-61          |3.793059739661173 |\n",
            "+-------------+------------------+\n",
            "only showing top 5 rows\n",
            "\n"
          ]
        }
      ],
      "source": [
        "from pyspark.ml.regression import LinearRegression\n",
        "\n",
        "# Create a regression object and train on training data\n",
        "regression = LinearRegression(labelCol='ARRIVAL_DELAY', featuresCol='features_dist').fit(flights_train)\n",
        "\n",
        "# Create predictions for the testing data and take a look at the predictions\n",
        "predictions = regression.transform(flights_test)\n",
        "predictions.select('ARRIVAL_DELAY', 'prediction').show(5, False)\n"
      ]
    },
    {
      "cell_type": "markdown",
      "metadata": {
        "id": "7PNaQIylQ4UN"
      },
      "source": [
        "Calculate the error: RMSE"
      ]
    },
    {
      "cell_type": "code",
      "execution_count": null,
      "metadata": {
        "colab": {
          "base_uri": "https://localhost:8080/"
        },
        "id": "Y9Guq_xIPBSY",
        "outputId": "0f4f2db0-b447-444d-8df5-718a18c9594f"
      },
      "outputs": [
        {
          "data": {
            "text/plain": [
              "38.8687543985381"
            ]
          },
          "execution_count": 23,
          "metadata": {},
          "output_type": "execute_result"
        }
      ],
      "source": [
        "from pyspark.ml.evaluation import RegressionEvaluator\n",
        "\n",
        "# Calculate the RMSE\n",
        "RegressionEvaluator(labelCol='ARRIVAL_DELAY').evaluate(predictions)\n"
      ]
    },
    {
      "cell_type": "code",
      "execution_count": null,
      "metadata": {
        "colab": {
          "base_uri": "https://localhost:8080/"
        },
        "id": "cqd8bP3FRJEc",
        "outputId": "6831f8c8-3b0f-4c48-b250-5a9f1d038101"
      },
      "outputs": [
        {
          "name": "stdout",
          "output_type": "stream",
          "text": [
            "5.642701612910778\n",
            "[-0.0015781927246157038]\n"
          ]
        }
      ],
      "source": [
        "# Intercept\n",
        "inter = regression.intercept\n",
        "print(inter)\n",
        "\n",
        "# Coefficients\n",
        "coefs = regression.coefficients\n",
        "print(coefs)"
      ]
    },
    {
      "cell_type": "markdown",
      "metadata": {
        "id": "1jfnwOh9R0fy"
      },
      "source": [
        "Lets try one more iteration this time taking origin airport as well"
      ]
    },
    {
      "cell_type": "code",
      "execution_count": null,
      "metadata": {
        "colab": {
          "base_uri": "https://localhost:8080/"
        },
        "id": "ia7rS4k1RSss",
        "outputId": "fe331f5c-8ffb-4c3d-c933-cb9343aee37d"
      },
      "outputs": [
        {
          "name": "stdout",
          "output_type": "stream",
          "text": [
            "38.80423427843799\n",
            "[-0.0018840053625827754,-1.4188576533033999,3.245518148739166,2.2235460039079578,3.40096886914553,2.0843605197094486,2.3498217334939198,0.017755142951012985,2.7423582976891523,2.3441666859620405,-2.5457949615673927,-0.49356833475653733,3.3836735951694665,-1.527679247015572,0.8437436959967546,-0.2367531166924637,0.7258962495222002,-3.5420054406475483,0.7690289040240056,0.7607755418972146,3.1872616302397163,1.1217880690119117,0.22516061548249514,-0.9778628947136884,-0.8075905717460745,2.5979161119311556,0.22953481581198446,0.6402419127799186,4.027642765918639,2.858647706775379,-2.4015561209270704,0.46286052846330483,-0.8884906836609564,0.16686508084335983,1.9205935384842823,-2.2299968356863147,-0.3308498342664245,1.101329052991453,-0.6996356164324058,-2.4850003683902306,-0.030517166375888662,0.010455954251428957,2.8241445132346223,-9.153748456643244,0.011585534850435031,-1.6339744760492114,-2.489960719715649,-7.578007276936138,-0.9014311399397716,-3.568131433081141,-2.156018428372161,1.1115056585129912,-5.773424434671101,5.13121635139259,-0.7353700196517982,-5.113831687256475,-0.449719712050194,2.0301393999272537,0.6667439876277148,-1.961273510627916,-5.464331966637594,-3.019876142383203,-0.2830203826716054,-3.3604254463530037,1.7119348187951446,-5.5468540873925125,-4.49095307315234,0.5203268658196375,-0.637832430080403,-2.6046716524000306,-2.2238501700959095,-0.09643256781161015,-1.7887724704084236,-3.9909368590240293,-3.7067831671525964,-0.200973745394008,0.249149253053861,-2.912870717456604,-0.49787747034366586,0.02706146176071103,2.1253891165541594,-5.160449344698843,-4.930199970852264,-2.003866289295949,-3.3892996204478036,-0.12263720489875464,-6.735220829307898,-7.804186588242522,-5.2956360894927546,-5.203100814149351,-5.184551918693603,0.06204085652806499,-3.7816449860420223,-4.520652572260015,-0.5434895956229236,6.701259684920592,-4.564918883855726,-8.436585597938935,-1.0161739959527516,0.22770412266992612,-1.8775058690323798,-4.298477444526483,-6.912360932432352,0.9062688493707199,-3.2905928149302817,-2.4826715327717155,0.8227309492434748,-4.934596315015001,6.3112219250763495,-4.547801352630922,-7.136187065543237,1.6110446117762824,2.0007974311904277,-2.2695577439687256,4.302877435409076,4.75570654798585,3.078174920093122,5.896756829988382,-5.586757478680711,-3.241063797630018,3.8309934579499654,-0.5751602567643869,-1.078062466760359,2.6066039067313134,-4.881419264376452,-4.372056781659085,-7.126505917079897,-6.476229547710126,-4.668850326430254,3.1582716811600906,-3.563791419159564,-5.0300925740767,-0.4084690910693702,-1.1660653174039197,6.6868650276188015,-4.048795145935431,-6.196120374441455,3.5098347377277146,0.8520994431298493,-4.867512951048774,-3.081264146034602,3.5525564055985686,4.642644033595721,2.5263960305482818,-0.19730499778458457,4.111464587766975,2.9441751658763415,1.4608591999145686,2.2135504453241834,-0.09378076466526138,-7.706949719400421,-9.815932280876295,-7.22949590638221,1.0741085168742093,-1.3047437242410973,-7.23213790327457,0.05972917344207095,-0.09463794032180163,-1.6606285050433567,-0.17913579611693256,-4.556566232489839,0.1685377328846393,-3.09607526205896,0.2683445676345523,-1.2254320708493929,-0.48504848192874145,3.4558487670351963,-1.6724037878784614,-3.4392058089799957,-1.5601404930449532,6.357266134559879,0.44655173492386874,-2.150865004870131,-8.242569156435579,-6.690591482407355,-5.986189347257656,-3.2062088818627394,0.8988299078082951,-5.574407619288213,0.22111296033727956,0.5535876138909686,-2.285188225126465,-6.680650233951077,-2.714295399882664,0.530934824786272,4.64234115123442,-9.819910847995244,-8.645593091709873,2.5919377024696404,-10.519485614497498,5.81109396804803,-3.185222749144205,2.6602815840657077,-4.588603186822755,4.577140142575961,1.7213117953155581,0.5526930710059186,-4.137354207333735,-7.6645441270671055,-1.2409980340362485,-1.1015440065820532,-2.137734354478581,-2.2077437066428347,8.123107878275595,-0.2190266977870577,2.0364041385208864,0.7420261502967889,-6.697640953279398,-12.4008995822203,7.750179128128184,-9.51297665709201,0.8740832834525113,-6.04173398203254,0.9905509836289474,0.21319355091456768,8.994594538269613,-0.5745919742571116,-3.6514240727800953,6.370537715031199,-5.491459841472515,-4.016377390660121,-1.7704138003296723,-2.1558736073664955,-9.008471384154042,-4.204106791634471,1.3770959968053516,-3.3428390896432933,-5.337217982907483,-4.935540315398429,1.558333722174913,-5.36891652615972,-4.494484921548488,-1.8303206059032113,-0.9711351952425883,-4.474484627991519,1.0220315820165649,-7.682052649349235,5.357136338837497,-3.2632382384882876,-1.8997902952997825,4.633380159920403,5.590369311299517,-1.491210487896819,-7.916699682215506,1.1787555436489605,-3.106210094665985,-9.310801104785039,-0.5270660910183603,-3.954260310915495,-7.415638008855066,-6.649112877427811,-6.790224727135623,-6.474993315021915,-8.094519889928867,-9.02579354400514,-5.737232830645592,-2.7428386539862992,-10.977384189116405,-4.409354335785911,-0.6824696358275592,1.132041056909665,-4.717105839054603,-1.9181811533153628,2.6457321891297085,-1.7133166521041814,-2.040064829054298,0.05623634891565969,2.705243893835972,-2.5882934014110144,-8.884337448835653,2.4475051023153176,8.277109639440264,-4.839186305778566,-5.120434182320175,-5.4431321125703915,-0.22539898129192282,-7.0297542789032565,2.017320871060123,-9.483564508283292,-1.1280300093609668,-2.0291186419434832,-3.9811846454999644,0.4999585317536749,-4.142142665240591,-4.862491220825047,-1.8656246334131614,-8.206946160844184,-3.6499638261531038,2.7730317313341235,-0.919032512587767,-4.526214408401332,4.670385810079587,-0.2833993908813717,0.8606330233288194,-8.81105944231988,-1.4881068489567093,1.9912730347222276,-1.4047042293038623,-7.2052351831369315,-4.627286500671092,-6.166743335823704,2.885326971328329,-9.23375504912428,8.782514925809044,1.3528823414138003,-9.696159452114296,-5.615665556139192,1.49778257750679,-5.942148797679777,7.925607374788935,-6.276958387991315,-5.97544486900722,-8.343558739958072,-3.3716972127571427,6.100053799573431,-0.45416414895118673,-12.58240751703575,-9.890037414714884,8.780533657366552,-0.37887317736697235,6.396150653798588,2.2332482087721157,0.10416683684383199,-11.823427982867734,-6.689229727154026,-3.430507318806736,-3.9877098591086533,-4.1269437750891225,0.29595314439034637,-2.817871178923208,7.561715191080744,-1.8604908119372627,26.510457820007648,-7.15584520432802,-9.90199015151082,-10.387374187872078,-11.298933258285665,-6.008878932479129,-11.832145010723027,-13.62980340738183,-5.915202785013182,3.1012827088251367,-12.050516900739108,4.865617365259324,1.9932070932692145,-17.25520901298391,1.8059725218861322,-0.32194857456062903,-9.796850233904253,-5.438784007483122,-4.235914402157711,7.172652778577154,-3.126779179762987,-5.588591929329427,10.181964793287136,-1.5327071439993913,2.607156040888763,-4.068742186355846,-5.030582686975771,9.211769874574353,-4.936002544285384,0.2754743957019041,-4.409575551521091,3.801537301790929,-6.7914592112447645,7.463531657502376,1.4881351434312045,-2.793103957976005,-7.294632910350772,-5.706257954363433,-7.343395429050146,-6.283826500374228,1.6564713371711635,-9.80175114770287,-3.4016502767368455,-8.256786111729621,-9.379779418491426,-4.6377286674993865,-13.099138872709407,8.672541654567478,1.6292022518027098,-8.69779003027668,-9.344983045120921,3.403629854464331,-12.210514704984558,-2.1318326570501402,9.650193632192778,10.86677079295512,-7.4389383321290605,0.4106204534657065,-3.905890386562134,4.543394279264787,7.122386810004556,5.548279319138924,-1.8184182610390922,-10.56407414956776,3.8283391048682334,-3.328308069255276,-9.782989848300128,-9.814410684942436,-5.903713185261467,-7.649902411137825,-8.737651501820256,1.634950433425799,1.381493377970151,3.9180466249673724,-5.350905418920789,-1.9762268273912345,-9.513015583418152,-4.617031129848675,-9.147542161309596,-8.252225461478998,-9.977412019640791,4.472563760071989,-6.664463655366832,-10.288081283861281,14.084479137581075,-6.952629140032489,-11.49655507638316,-11.649097027623393,-3.2165937009934096,-11.234367671765831,-11.486339336623612,-11.058263561001962,-4.370905476207714,-1.74618673998608,-12.57609630083386,-9.859386191322821,-7.724618458207926,2.8702849962532415,-7.491609475997489,0.9615677833530692,1.1896201790317393,5.992634592497518,-10.484612050391288,-1.2095893632632306,-6.996936861747674,-0.2578542809919384,-9.597635557625473,-0.5261295181888886,-4.867666044116846,10.97537538204191,-11.845072074578493,-9.80840363297731,6.4244109198011685,-2.7516819754974438,-10.859525297969443,3.4445518703506535,6.923719552878295,-3.4373179422034745,-5.389251390668454,-5.256264723968066,3.719107933086734,-7.851774537620819,-18.991984056873573,-3.545917466447533,-12.521751091848596,-9.774127824432037,-11.597285078025887,-9.14471233256129,-12.892783441702083,5.22951846443697,-1.901742588366846,-12.373281241757239,-14.340225244271421,-12.035141376072982,-15.287577573668518,-9.449375369488212,-26.412756403617713,5.6404344075119575,-10.046039087519254,-5.963074229594797,-11.743818477421021,-9.189464917396931,-6.671589745815839,-0.3042063584987787,-9.102968904223722,-1.6389875944101104,-7.265610162876981,-12.953824024206622,8.200632717348055,-4.110108291267849,-0.5865350959626842,-17.78335512606285,-10.218203020660939,-6.4205641155305795,-15.5572023223002,-19.06561397606717,-14.534764961471323,-20.497921825729822,9.33512724695984,-9.828328259119045,-1.2313699492633474,-7.922267879206728,-18.152752671199774,14.51780446878203,-9.09777087225303,-20.861554702847382,2.3288635928302766,-10.605512472513608,-13.909189684475283,4.2140966697649755,-24.208884234052064,-4.710605518978997,-10.787126402870523,-15.372382034254393,-8.737932785089786,-18.345740316459544,-6.604162375084558,38.69573811128029,-1.7532160282579397,-8.658299936936993,-6.5766306027360235,6.625500212234799,-22.064163983186297,-14.978100805752483,-12.977475089528768,-6.0313038467962965,-25.05442174938038,-4.641982476613266,-17.52995820898205,1.192119620797171,-10.32532694662259,-20.718345149571476,-1.731301162092444,45.9562146313811,9.652469484859553,56.00971020300071,-13.253442169693088,-13.867794234055935,-10.19072971131056,-12.36464309480164,8.986585584878247,-14.923923737449819,-6.036891138136375,13.529349037294022,80.86258022821553,-11.818552383117371,4.449902559660389,54.1479968889943,-8.625461323400904,-0.3423058711988374,2.457090195571119,8.371660574642924,-20.047206069148228,-13.000083197828213,-11.75812814159133,9.602093291465135,50.0176693161672,-13.550729938678858,-21.436198540054995,-2.9479764179200214,-5.800092561477025,5.688744264244783,-7.851569221252148,-8.805821193893507,-8.472884341861759,16.5711787521824,-12.390056227385372,-4.057496837410395,-7.855616385109129,-18.93635990825262,-8.44104858461741,86.0628919832273,-13.96489452070213,-12.066050335353703,-13.04895923667365,5.029914067313115,9.738388453605074,26.01952301003636,3.6626673248747,-8.065036619954032,-5.011339555571552,-6.108697175487074,-23.998816036705882,-6.120243976693452,-14.927215275552545,-23.315919078382883,-11.341852793872883,33.481364349563364,-21.53605104807953,5.4582406228724585,-1.3344433604290638,-12.302130265507957,-17.615709824603126,-12.341989685434596,7.284082215905775,-11.845511218270337,-10.654733312912462,-6.861562711762956,-4.419226576271311,41.897920430731176,-25.794028076760146,-7.500241771408128,129.03292413818616,-15.1132893285143,-28.664170234388326,-17.247055840754925,-9.009255361051194,-11.094445495381207,-21.731987994172485,31.16108095616432,-13.034625254313276,-18.488948020515906,-16.675055184990104,-18.433165826177227,-14.652445203783014,-19.594317503548275,5.696963342363167,5.4005976801036475,-1.2119827741018772,13.60716641153937,10.86871063113129,2.0996196009082,0.18439813416253875,-5.820113579017497,2.388611058261476,4.684402350264208,-14.806195867454926,-14.507784369843595,-23.38721621537995,-21.50213890046892,-14.464044306378243,0.0,2.9933779568621772]\n"
          ]
        }
      ],
      "source": [
        "flights_reg = VectorAssembler(inputCols=['DISTANCE','origin_dummy'], outputCol='features_dist').transform(flights)\n",
        "\n",
        "flights_train, flights_test = flights_reg.randomSplit([0.8, 0.2], seed = 1)\n",
        "\n",
        "# Create a regression object and train on training data\n",
        "regression = LinearRegression(labelCol='ARRIVAL_DELAY', featuresCol='features_dist').fit(flights_train)\n",
        "\n",
        "# Create predictions for the testing data\n",
        "predictions = regression.transform(flights_test)\n",
        "\n",
        "# Calculate the RMSE on testing data\n",
        "print(RegressionEvaluator(labelCol='ARRIVAL_DELAY').evaluate(predictions))\n",
        "\n",
        "# Look at the model coefficients\n",
        "coeffs = regression.coefficients\n",
        "print(coeffs)"
      ]
    },
    {
      "cell_type": "markdown",
      "metadata": {
        "id": "PCeBqALtTJbo"
      },
      "source": [
        "#### Trying out Lasso Regression"
      ]
    },
    {
      "cell_type": "code",
      "execution_count": null,
      "metadata": {
        "colab": {
          "base_uri": "https://localhost:8080/"
        },
        "id": "EWX-gcUOqAYD",
        "outputId": "d06f15da-e372-4ca6-d0b9-4a2828d1e6a5"
      },
      "outputs": [
        {
          "name": "stdout",
          "output_type": "stream",
          "text": [
            "The test RMSE is 38.801394296774\n",
            "[-0.001590390454777706,-0.38940509252638994,3.413603010998197,2.324893288925264,3.432159801335798,2.001102049995958,2.203317321342476,0.0,2.6972630858673345,2.223609419858897,-1.2544429621274924,0.0,3.204909808414259,-0.1878084372962897,0.649917948053704,0.0,0.5827779923688402,-2.170411424036695,0.5861575341702325,0.3790212972810133,2.9681727032057252,0.8649025982851418,0.0,0.0,0.0,2.192816424230668,0.0,0.2456801741260969,3.668706064073233,2.4212848349733855,-0.8109355678141458,0.0,0.0,0.0,1.3521353567676553,-0.6037148694376496,0.0,0.4846486323400985,0.0,-0.67520407311164,0.0,0.0,1.9635718228184758,-7.194965087591909,0.0,0.0,-0.48913101365821343,-5.521384048322129,0.0,-1.4574884206636582,-0.19564231717357408,0.1624040454372321,-3.611128782001898,4.079318934327368,0.0,-2.8625730720684825,0.0,0.9034952630968538,0.0,0.0,-3.132904328227882,-0.6570457011004444,0.0,-1.10181006713755,0.5106235807747282,-3.074738717007864,-2.2339889797433083,0.0,0.0,-0.07569541690312116,0.0,0.0,0.0,-1.3940800050173274,-1.0417269439341743,0.0,0.0,-0.2083515010093997,0.0,0.0,0.5297099606888439,-2.3549598453043803,-2.1316462405942054,0.0,-0.4734710530714624,0.0,-3.8556778571750514,-4.8559554388123205,-2.458858678607491,-2.2814137774392385,-2.196033010846123,0.0,-0.6568796347890514,-1.4334650190709675,0.0,4.881494013991673,-1.5051048714231405,-5.288441930151724,0.0,0.0,0.0,-1.3090766212144438,-3.6974661197081087,0.0,-0.045853639788864885,0.0,0.0,-1.5010156293140615,4.136560608542717,-1.187466989707339,-3.7255075826893798,0.0,0.0,0.0,2.1406757162654246,2.6300492364257733,0.8963949471605849,3.7075328028682346,-2.098178705248878,0.0,1.6101010043807245,0.0,0.0,0.25393066972564954,-1.1664086410001586,-0.8835708841468077,-3.4696156767289557,-2.865323002173933,-0.9925237172372013,0.6218636227902389,0.0,-1.1560575656759013,0.0,0.0,4.266412655672286,-0.3359695288528615,-2.3484777749946,0.9648928740308841,0.0,-0.757846465030206,0.0,0.9472680449504897,1.895568024137254,0.0,0.0,1.3414121779266908,0.13828112851781096,0.0,0.0,0.0,-3.60795622069762,-5.605701572451108,-2.9111150585764323,0.0,0.0,-3.002407256643146,0.0,0.0,0.0,0.0,-0.18284810973707438,0.0,0.0,0.0,0.0,0.0,0.30592872022788503,0.0,0.0,0.0,2.9630220480807536,0.0,0.0,-3.785143888244048,-2.036993488755101,-1.27240476527626,0.0,0.0,-0.665726457235899,0.0,0.0,0.0,-1.734022407586074,0.0,0.0,0.9392428392076204,-4.847230550358389,-3.7420740922610096,0.0,-5.874037455043388,2.2551979252910175,0.0,0.0,0.0,0.6799268553542728,0.0,0.0,0.0,-2.5661620710818425,0.0,0.0,0.0,0.0,4.081077961234358,0.0,0.0,0.0,-1.291561021103402,-7.003668306711023,3.6528435350221002,-3.9849507622035105,0.0,-0.30577200989261794,0.0,0.0,4.743564960996378,0.0,0.0,2.084182147234428,0.0,0.0,0.0,0.0,-3.1777579137544936,0.0,0.0,0.0,0.0,0.0,0.0,0.0,0.0,0.0,0.0,0.0,0.0,-1.6796876978688018,0.756492679194331,0.0,0.0,0.0,0.7035784640777578,0.0,-1.786047910500761,0.0,0.0,-2.8087384145732033,0.0,0.0,-1.111438980746743,-0.25606833058068357,-0.2973338179422134,0.0,-1.6544512106053497,-2.3917187878744666,0.0,0.0,-4.129769284317822,0.0,0.0,0.0,0.0,0.0,0.0,0.0,0.0,0.0,0.0,0.0,-1.9216244703390941,0.0,2.5738392005579764,0.0,0.0,0.0,0.0,0.0,0.0,-2.115126110133669,0.0,0.0,0.0,0.0,0.0,0.0,0.0,-0.7205947513783186,0.0,0.0,0.0,0.0,0.0,0.0,0.0,-0.9654340749967679,0.0,0.0,0.0,0.0,0.0,0.0,0.0,-0.8262062971466897,1.660926597500135,0.0,-1.3704079340337147,0.0,0.0,0.0,1.050334521145977,0.0,0.0,0.0,0.0,0.0,0.0,-3.4948670785576157,-1.0429906116292633,1.032543970442805,0.0,0.0,0.0,0.0,-2.748674998373404,0.0,0.0,0.0,0.0,0.0,0.0,0.0,0.0,18.92146140824308,0.0,-0.26616328552326973,-0.9599325538044902,-1.9255742978106682,0.0,-2.1857096289757445,-4.117010068358962,0.0,0.0,-2.693250577292034,0.0,0.0,-7.5755320414414,0.0,0.0,0.0,0.0,0.0,0.0,0.0,0.0,1.232942975764331,0.0,0.0,0.0,0.0,0.8108046911903137,0.0,0.0,0.0,0.0,0.0,0.0,0.0,0.0,0.0,0.0,0.0,0.0,0.0,0.0,0.0,0.0,0.0,0.0,-2.303857287106517,0.0,0.0,0.0,0.0,0.0,-0.426312196162858,0.0,0.5552904847054951,1.4861243965991475,0.0,0.0,0.0,0.0,0.0,0.0,0.0,0.0,0.0,0.0,0.0,0.0,0.0,0.0,0.0,0.0,0.0,0.0,0.0,0.0,0.0,0.0,0.0,0.0,0.0,0.0,0.0,0.0,3.049446093508339,0.0,0.0,0.0,0.0,0.0,0.0,0.0,0.0,0.0,0.0,0.0,0.0,0.0,0.0,0.0,0.0,0.0,0.0,0.0,0.0,0.0,0.0,0.0,0.0,0.0,0.0,0.0,0.0,0.0,0.0,0.0,0.0,0.0,0.0,0.0,0.0,0.0,-1.8209701528197662,0.0,0.0,0.0,0.0,0.0,0.0,0.0,0.0,0.0,0.0,0.0,0.0,0.0,-9.23117834819288,0.0,0.0,0.0,0.0,0.0,0.0,0.0,0.0,0.0,0.0,0.0,0.0,0.0,0.0,-0.7090254818261934,0.0,0.0,0.0,-0.8236010932852408,0.0,-2.240485507063389,0.0,0.0,0.0,0.0,0.0,0.0,0.0,-0.6094098278661957,0.0,0.0,0.0,0.0,-3.0999409727978446,0.0,0.0,0.0,0.0,0.0,0.0,19.020751261034963,0.0,0.0,0.0,0.0,0.0,0.0,0.0,0.0,-1.7842775128521646,0.0,0.0,0.0,0.0,0.0,0.0,26.254781893712522,0.0,34.14928009388293,0.0,0.0,0.0,0.0,0.0,0.0,0.0,0.0,53.91135381210147,0.0,0.0,30.938610715281705,0.0,0.0,0.0,0.0,0.0,0.0,0.0,0.0,20.524566562690527,0.0,0.0,0.0,0.0,0.0,0.0,0.0,0.0,0.0,0.0,0.0,0.0,0.0,0.0,59.210323049124845,0.0,0.0,0.0,0.0,0.0,0.0,0.0,0.0,0.0,0.0,0.0,0.0,0.0,0.0,0.0,3.8223717738544543,0.0,0.0,0.0,0.0,0.0,0.0,0.0,0.0,0.0,0.0,0.0,12.392201838770523,0.0,0.0,90.68794817849283,0.0,0.0,0.0,0.0,0.0,0.0,0.0,0.0,0.0,0.0,0.0,0.0,0.0,0.0,0.0,0.0,0.0,0.0,0.0,0.0,0.0,0.0,0.0,0.0,0.0,0.0,0.0,0.0,0.0,0.0]\n",
            "Number of coefficients equal to 0: 447\n"
          ]
        }
      ],
      "source": [
        "# Fit Lasso model (α = 1) to training data\n",
        "regression = LinearRegression(labelCol='ARRIVAL_DELAY', featuresCol='features_dist', regParam=0.1, elasticNetParam=1).fit(flights_train)\n",
        "\n",
        "# Calculate the RMSE on testing data\n",
        "rmse = RegressionEvaluator(labelCol='ARRIVAL_DELAY').evaluate(regression.transform(flights_test))\n",
        "print(\"The test RMSE is\", rmse)\n",
        "\n",
        "# Look at the model coefficients\n",
        "coeffs = regression.coefficients\n",
        "print(coeffs)\n",
        "\n",
        "# Number of zero coefficients\n",
        "zero_coeff = sum([beta==0 for beta in regression.coefficients])\n",
        "print(\"Number of coefficients equal to 0:\", zero_coeff)\n",
        "\n"
      ]
    },
    {
      "cell_type": "markdown",
      "metadata": {
        "id": "1lE0MJI5u7t0"
      },
      "source": [
        "## Cross Validation"
      ]
    },
    {
      "cell_type": "code",
      "execution_count": null,
      "metadata": {
        "colab": {
          "base_uri": "https://localhost:8080/"
        },
        "id": "aSJH9DsbagF4",
        "outputId": "750246fa-02b5-4ba7-d826-fefd74477571"
      },
      "outputs": [
        {
          "name": "stdout",
          "output_type": "stream",
          "text": [
            "Number of models to be tested:  9\n"
          ]
        }
      ],
      "source": [
        "from pyspark.ml.tuning import ParamGridBuilder, CrossValidator\n",
        "\n",
        "# Create objects for building and evaluating a regression model\n",
        "regression = LinearRegression(labelCol='ARRIVAL_DELAY', featuresCol='features_dist')\n",
        "evaluator = RegressionEvaluator(labelCol='ARRIVAL_DELAY')\n",
        "\n",
        "# creating CV with parameter grid for hyperparameter tuning for flights data\n",
        "# Create parameter grid\n",
        "params = ParamGridBuilder()\n",
        "\n",
        "# Add grids for two parameters\n",
        "params = params.addGrid(regression.regParam, [0.1, 0.6, 1.0]) \\\n",
        "               .addGrid(regression.elasticNetParam, [0.0, 0.5, 1.0])\n",
        "\n",
        "# Build the parameter grid\n",
        "params = params.build()\n",
        "print('Number of models to be tested: ', len(params))\n",
        "\n",
        "# Create a cross validator\n",
        "cv = CrossValidator(estimator=regression, estimatorParamMaps=params, evaluator=evaluator, numFolds=3)\n",
        "\n",
        "# Train and test model on multiple folds of the training data\n",
        "cv = cv.fit(flights_train)\n",
        "\n",
        "# NOTE: Since cross-valdiation builds multiple models, the fit() method can take a little while to complete."
      ]
    },
    {
      "cell_type": "code",
      "execution_count": null,
      "metadata": {
        "colab": {
          "base_uri": "https://localhost:8080/"
        },
        "id": "MSLZbmkFfeOM",
        "outputId": "01d84332-c5b2-46c5-bcc6-4ee66ea64dd8"
      },
      "outputs": [
        {
          "name": "stdout",
          "output_type": "stream",
          "text": [
            "38.79322883483801\n"
          ]
        }
      ],
      "source": [
        "# choose best model for flights data\n",
        "# Get the best model from cross validation\n",
        "best_model = cv.bestModel\n",
        "\n",
        "# Get the parameters for the LinearRegression object in the best model\n",
        "best_model.extractParamMap()\n",
        "\n",
        "# Generate predictions on testing data using the best model then calculate RMSE\n",
        "predictions = best_model.transform(flights_test)\n",
        "print(evaluator.evaluate(predictions))"
      ]
    },
    {
      "cell_type": "markdown",
      "metadata": {
        "id": "bfZ7dCYvj3C3"
      },
      "source": [
        "## Ensemble Models"
      ]
    },
    {
      "cell_type": "markdown",
      "metadata": {
        "id": "HM7u2xLdfQLP"
      },
      "source": [
        "#### Gradient Boosted Trees"
      ]
    },
    {
      "cell_type": "code",
      "execution_count": null,
      "metadata": {
        "id": "nRD0ZwwS42Rz"
      },
      "outputs": [],
      "source": [
        "# Import the classes required\n",
        "from pyspark.ml.classification import GBTClassifier\n",
        "from pyspark.ml.evaluation import BinaryClassificationEvaluator\n",
        "\n",
        "flights_train, flights_test = flights.select('label','features').randomSplit([0.8, 0.2], seed = 1)\n",
        "\n",
        "# Create model object and train on training data\n",
        "gbt = GBTClassifier().fit(flights_train)\n",
        "\n",
        "# Compare AUC on testing data. Comparing with previously trained Decision tree model\n",
        "evaluator = BinaryClassificationEvaluator()\n",
        "print(evaluator.evaluate(tree_model.transform(flights_test)))\n",
        "print(evaluator.evaluate(gbt.transform(flights_test)))\n",
        "\n",
        "# Find the number of trees and the relative importance of features\n",
        "print(gbt.trees)\n",
        "print(gbt.featureImportances)\n"
      ]
    },
    {
      "cell_type": "markdown",
      "metadata": {
        "id": "GwddX2-QfWSa"
      },
      "source": [
        "#### Random Forest"
      ]
    },
    {
      "cell_type": "code",
      "execution_count": null,
      "metadata": {
        "id": "nrb6M54ifYtU"
      },
      "outputs": [],
      "source": [
        "from pyspark.ml.classification import RandomForestClassifier\n",
        "\n",
        "# Create a random forest classifier\n",
        "forest = RandomForestClassifier()\n",
        "\n",
        "# Create a parameter grid\n",
        "params = ParamGridBuilder() \\\n",
        "            .addGrid(forest.featureSubsetStrategy, ['sqrt']) \\\n",
        "            .addGrid(forest.maxDepth, [5]) \\\n",
        "            .build()\n",
        "\n",
        "# Create a binary classification evaluator\n",
        "evaluator = BinaryClassificationEvaluator()\n",
        "\n",
        "# Create a cross-validator\n",
        "cv = CrossValidator(estimator=forest, estimatorParamMaps=params, evaluator=evaluator, numFolds=3)\n",
        "\n",
        "# Train and test model on multiple folds of the training data\n",
        "cv = cv.fit(flights_train)\n",
        "\n",
        "# What's the optimal parameter value?\n",
        "opt_max_depth = cv.bestModel.explainParam('maxDepth')\n",
        "opt_feat_substrat = cv.bestModel.explainParam('featureSubsetStrategy')\n",
        "print(opt_max_depth)\n",
        "print(opt_feat_substrat)\n",
        "\n",
        "# AUC for best model on testing data\n",
        "print(evaluator.evaluate(cv.bestModel.transform(flights_test)))"
      ]
    },
    {
      "cell_type": "markdown",
      "metadata": {
        "id": "rGo9-S2NMVPI"
      },
      "source": [
        "## Machine Learning Pipelines\n",
        "\n",
        "The most important classes in `pyspark.ml` module are the `Transformer` and `Estimator` classes.\n",
        "\n",
        "`Transformer` classes have a `.transform()` method that takes a `DataFrame` and returns a `new DataFrame`. The `new Dataframe` is usually the existing `Dataframe` with new columns added to it, like the `Bucketizer` class that we saw earlier.\n",
        "\n",
        "`Estimator` classes have a `.fit()` method that also takes a `DataFrame`, but instead of returning another `DataFrame` returns a `model object`. We have seen such scenarios with `StringIndexer` and `OneHotEncoder` above.\n",
        "\n",
        "With a machine learning pipeline, we combine these classes in a sequence called `stages`, which allows us to efficiently train or predict any new data without worrying about the underlying individual stages."
      ]
    },
    {
      "cell_type": "code",
      "execution_count": null,
      "metadata": {
        "id": "1XBY4X99ssSs"
      },
      "outputs": [],
      "source": [
        "flights_train, flights_test = flights.select('ARRIVAL_DELAY','DAY_OF_WEEK','ORIGIN_AIRPORT','DISTANCE').randomSplit([0.8, 0.2], seed = 1)\n",
        "\n",
        "# Import class for creating a pipeline\n",
        "from pyspark.ml import Pipeline\n",
        "\n",
        "# Convert categorical strings to index values\n",
        "indexer = StringIndexer(inputCol='ORIGIN_AIRPORT',outputCol='ORIGIN_idx')\n",
        "\n",
        "# One-hot encode index values\n",
        "onehot = OneHotEncoder(\n",
        "    inputCols=['ORIGIN_idx','DAY_OF_WEEK'],\n",
        "    outputCols=['origin_dummy','DOW_dummy']\n",
        ")\n",
        "\n",
        "# Assemble predictors into a single column\n",
        "assembler = VectorAssembler(inputCols=['DISTANCE','origin_dummy','DOW_dummy'], outputCol='features')\n",
        "\n",
        "# A linear regression object\n",
        "regression = LinearRegression(labelCol='ARRIVAL_DELAY')\n",
        "\n",
        "# Construct a pipeline\n",
        "pipeline = Pipeline(stages=[indexer, onehot, assembler, regression])\n",
        "\n",
        "# Train the pipeline on the training data\n",
        "pipeline_model = pipeline.fit(flights_train)\n",
        "\n",
        "# Make predictions on the testing data\n",
        "predictions = pipeline_model.transform(flights_test)\n",
        "\n",
        "predictions.show(5)"
      ]
    },
    {
      "cell_type": "code",
      "execution_count": null,
      "metadata": {
        "id": "L_IOsHOSYDVu"
      },
      "outputs": [],
      "source": [
        ""
      ]
    }
  ],
  "metadata": {
    "colab": {
      "collapsed_sections": [],
      "name": "PySpark_Session-Day2.ipynb",
      "toc_visible": true,
      "provenance": []
    },
    "kernelspec": {
      "display_name": "Python 3",
      "name": "python3"
    }
  },
  "nbformat": 4,
  "nbformat_minor": 0
}